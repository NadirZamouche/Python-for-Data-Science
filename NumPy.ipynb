{
 "cells": [
  {
   "cell_type": "markdown",
   "id": "6d66f768",
   "metadata": {},
   "source": [
    "# NumPy\n",
    "## 1. Intro to NumPy\n",
    "NumPy is a library for Python, which is really efficient in terms of memory making it much more faster than a list. Simply put NumPy is\n",
    "like a list of elements with the same type.\n",
    "* First, we need to import numpy as np or any other name and then type np. + TAB you get the different built-in methods and functions with array being the most common one which is a function that can take a list or a tuple as well.\n",
    "* If we put type(Variable) we get: numpy.ndarray\n",
    "* Since in NumPy we can use elements of the same type here is how to check for them: Variable.dtype\n",
    "* dtype is defined automatically but, we can specify the type from the beginning like this inside the array function: Variable=np.array(List/Tuple, dtype='i') \n",
    "  - 'i' for int.\n",
    "  - 'f' for float...etc"
   ]
  },
  {
   "cell_type": "code",
   "execution_count": 2,
   "id": "2c1fe6cb",
   "metadata": {},
   "outputs": [],
   "source": [
    "import numpy as np"
   ]
  },
  {
   "cell_type": "code",
   "execution_count": 3,
   "id": "be105a07",
   "metadata": {},
   "outputs": [
    {
     "name": "stdout",
     "output_type": "stream",
     "text": [
      "[1 2 3 5 7]\n"
     ]
    }
   ],
   "source": [
    "a = np.array([1, 2, 3, 5, 7])\n",
    "b = np.array((2,3,5))\n",
    "print(a)"
   ]
  },
  {
   "cell_type": "code",
   "execution_count": 4,
   "id": "f497aff9",
   "metadata": {},
   "outputs": [
    {
     "data": {
      "text/plain": [
       "numpy.ndarray"
      ]
     },
     "execution_count": 4,
     "metadata": {},
     "output_type": "execute_result"
    }
   ],
   "source": [
    "type(a)"
   ]
  },
  {
   "cell_type": "code",
   "execution_count": 5,
   "id": "134b1213",
   "metadata": {},
   "outputs": [
    {
     "name": "stdout",
     "output_type": "stream",
     "text": [
      "[2 3 5]\n"
     ]
    }
   ],
   "source": [
    "print(b)"
   ]
  },
  {
   "cell_type": "code",
   "execution_count": 6,
   "id": "3fe23329",
   "metadata": {},
   "outputs": [
    {
     "data": {
      "text/plain": [
       "numpy.ndarray"
      ]
     },
     "execution_count": 6,
     "metadata": {},
     "output_type": "execute_result"
    }
   ],
   "source": [
    "type(b)"
   ]
  },
  {
   "cell_type": "code",
   "execution_count": 7,
   "id": "6df03b49",
   "metadata": {},
   "outputs": [
    {
     "data": {
      "text/plain": [
       "dtype('int32')"
      ]
     },
     "execution_count": 7,
     "metadata": {},
     "output_type": "execute_result"
    }
   ],
   "source": [
    "a.dtype"
   ]
  },
  {
   "cell_type": "code",
   "execution_count": 8,
   "id": "3520e3e9",
   "metadata": {},
   "outputs": [
    {
     "data": {
      "text/plain": [
       "dtype('int32')"
      ]
     },
     "execution_count": 8,
     "metadata": {},
     "output_type": "execute_result"
    }
   ],
   "source": [
    "b.dtype"
   ]
  },
  {
   "cell_type": "code",
   "execution_count": 9,
   "id": "f7c9e5a0",
   "metadata": {},
   "outputs": [
    {
     "name": "stdout",
     "output_type": "stream",
     "text": [
      "[1 2 3 5 7]\n"
     ]
    }
   ],
   "source": [
    "c = np.array([1, 2, 3, 5, 7],dtype='i')\n",
    "print(c)"
   ]
  },
  {
   "cell_type": "code",
   "execution_count": 10,
   "id": "4e466016",
   "metadata": {},
   "outputs": [
    {
     "data": {
      "text/plain": [
       "dtype('int32')"
      ]
     },
     "execution_count": 10,
     "metadata": {},
     "output_type": "execute_result"
    }
   ],
   "source": [
    "c.dtype"
   ]
  },
  {
   "cell_type": "code",
   "execution_count": 11,
   "id": "0a610db0",
   "metadata": {},
   "outputs": [
    {
     "name": "stdout",
     "output_type": "stream",
     "text": [
      "[2. 3. 5.]\n"
     ]
    }
   ],
   "source": [
    "d = np.array((2,3,5), dtype='f')\n",
    "print(d)"
   ]
  },
  {
   "cell_type": "code",
   "execution_count": 12,
   "id": "f723404f",
   "metadata": {},
   "outputs": [
    {
     "data": {
      "text/plain": [
       "dtype('float32')"
      ]
     },
     "execution_count": 12,
     "metadata": {},
     "output_type": "execute_result"
    }
   ],
   "source": [
    "d.dtype"
   ]
  },
  {
   "cell_type": "markdown",
   "id": "aff23c39",
   "metadata": {},
   "source": [
    "## 2. Dimensions\n",
    "* An array is considered as one dimensional array when only one index is needed to access any element of the array. so the number of dimensions in array is determined by the number of indexes to acces any element in the same array (or the number of the square brackets from any extream side ;)) and here is a function that returns the number of dimensions of a particular array: Variable.ndim\n",
    "* To access an element of a multi-dimensional array we use: Variable[D3,D2,D1,e] or like in C++: Variable[D3][D2][D1][e]\n",
    "* A multi-dimensional array must be homogeneous which means that it has to have the same number of arrays as well as elements for each list otherwise it won't be considered as such.\n",
    "* There are multiple functions for arrays including:\n",
    "  - shape: returns a Tuple of the Object array where it shows the number of the lower dimensional arrays until it reaches\n",
    "    the number of elements: Variable.shape , We can also specify the index to retrieve specific info like in the example \n",
    "    below.\n",
    "  - size: returns the number of elements inside the array.\n",
    "  - nbytes: returns the number of bytes taken by the structure in the memory.\n",
    "* If I put a number inside an array I'll get a 0D array but it's also possible to declare a 1D array with one element only using square brackets."
   ]
  },
  {
   "cell_type": "code",
   "execution_count": 13,
   "id": "b111721f",
   "metadata": {},
   "outputs": [
    {
     "name": "stdout",
     "output_type": "stream",
     "text": [
      "1\n"
     ]
    }
   ],
   "source": [
    "a = np.array([1,2,3])\n",
    "print(a.ndim)"
   ]
  },
  {
   "cell_type": "code",
   "execution_count": 14,
   "id": "1651646b",
   "metadata": {},
   "outputs": [
    {
     "data": {
      "text/plain": [
       "1"
      ]
     },
     "execution_count": 14,
     "metadata": {},
     "output_type": "execute_result"
    }
   ],
   "source": [
    "a[0]"
   ]
  },
  {
   "cell_type": "code",
   "execution_count": 15,
   "id": "692ef715",
   "metadata": {},
   "outputs": [
    {
     "name": "stdout",
     "output_type": "stream",
     "text": [
      "2\n"
     ]
    }
   ],
   "source": [
    "b = np.array([[1,2,3], [4,5,6]])\n",
    "print(b.ndim)"
   ]
  },
  {
   "cell_type": "code",
   "execution_count": 16,
   "id": "9a923c7c",
   "metadata": {},
   "outputs": [
    {
     "data": {
      "text/plain": [
       "3"
      ]
     },
     "execution_count": 16,
     "metadata": {},
     "output_type": "execute_result"
    }
   ],
   "source": [
    "b[0,2]"
   ]
  },
  {
   "cell_type": "code",
   "execution_count": 17,
   "id": "4433fddc",
   "metadata": {},
   "outputs": [
    {
     "data": {
      "text/plain": [
       "3"
      ]
     },
     "execution_count": 17,
     "metadata": {},
     "output_type": "execute_result"
    }
   ],
   "source": [
    "b[0][2]"
   ]
  },
  {
   "cell_type": "code",
   "execution_count": 18,
   "id": "81fdb3a2",
   "metadata": {},
   "outputs": [
    {
     "name": "stdout",
     "output_type": "stream",
     "text": [
      "3\n"
     ]
    }
   ],
   "source": [
    "c = np.array([[[1,2,3], [4,5,6]], [[1,2,3], [4,5,6]]])\n",
    "print(c.ndim)"
   ]
  },
  {
   "cell_type": "code",
   "execution_count": 19,
   "id": "1d4af05f",
   "metadata": {},
   "outputs": [
    {
     "data": {
      "text/plain": [
       "6"
      ]
     },
     "execution_count": 19,
     "metadata": {},
     "output_type": "execute_result"
    }
   ],
   "source": [
    "c[0,1,2]"
   ]
  },
  {
   "cell_type": "code",
   "execution_count": 20,
   "id": "656e0e3f",
   "metadata": {},
   "outputs": [
    {
     "data": {
      "text/plain": [
       "6"
      ]
     },
     "execution_count": 20,
     "metadata": {},
     "output_type": "execute_result"
    }
   ],
   "source": [
    "c[0][1][2]"
   ]
  },
  {
   "cell_type": "code",
   "execution_count": 21,
   "id": "198f5b13",
   "metadata": {},
   "outputs": [
    {
     "ename": "ValueError",
     "evalue": "setting an array element with a sequence. The requested array has an inhomogeneous shape after 1 dimensions. The detected shape was (2,) + inhomogeneous part.",
     "output_type": "error",
     "traceback": [
      "\u001b[1;31m---------------------------------------------------------------------------\u001b[0m",
      "\u001b[1;31mValueError\u001b[0m                                Traceback (most recent call last)",
      "Cell \u001b[1;32mIn[21], line 1\u001b[0m\n\u001b[1;32m----> 1\u001b[0m d \u001b[38;5;241m=\u001b[39m np\u001b[38;5;241m.\u001b[39marray([[\u001b[38;5;241m1\u001b[39m,\u001b[38;5;241m2\u001b[39m,\u001b[38;5;241m3\u001b[39m],[\u001b[38;5;241m4\u001b[39m,\u001b[38;5;241m5\u001b[39m]])\n\u001b[0;32m      2\u001b[0m d[\u001b[38;5;241m0\u001b[39m,\u001b[38;5;241m1\u001b[39m]\n",
      "\u001b[1;31mValueError\u001b[0m: setting an array element with a sequence. The requested array has an inhomogeneous shape after 1 dimensions. The detected shape was (2,) + inhomogeneous part."
     ]
    }
   ],
   "source": [
    "d = np.array([[1,2,3],[4,5]])\n",
    "d[0,1]"
   ]
  },
  {
   "cell_type": "code",
   "execution_count": 22,
   "id": "a4d7cdd6",
   "metadata": {},
   "outputs": [
    {
     "name": "stdout",
     "output_type": "stream",
     "text": [
      "2\n",
      "2\n"
     ]
    }
   ],
   "source": [
    "d = np.array([[1,2,3],[4,5,6]])\n",
    "print(d[0,1])\n",
    "print(d.ndim)"
   ]
  },
  {
   "cell_type": "code",
   "execution_count": 23,
   "id": "4a7d2c96",
   "metadata": {},
   "outputs": [
    {
     "ename": "ValueError",
     "evalue": "setting an array element with a sequence. The requested array has an inhomogeneous shape after 1 dimensions. The detected shape was (2,) + inhomogeneous part.",
     "output_type": "error",
     "traceback": [
      "\u001b[1;31m---------------------------------------------------------------------------\u001b[0m",
      "\u001b[1;31mValueError\u001b[0m                                Traceback (most recent call last)",
      "Cell \u001b[1;32mIn[23], line 1\u001b[0m\n\u001b[1;32m----> 1\u001b[0m e \u001b[38;5;241m=\u001b[39m np\u001b[38;5;241m.\u001b[39marray([[[\u001b[38;5;241m1\u001b[39m,\u001b[38;5;241m2\u001b[39m,\u001b[38;5;241m3\u001b[39m],[\u001b[38;5;241m4\u001b[39m,\u001b[38;5;241m5\u001b[39m,\u001b[38;5;241m6\u001b[39m],[\u001b[38;5;241m-\u001b[39m\u001b[38;5;241m1\u001b[39m,\u001b[38;5;241m-\u001b[39m\u001b[38;5;241m2\u001b[39m,\u001b[38;5;241m-\u001b[39m\u001b[38;5;241m3\u001b[39m]],[[\u001b[38;5;241m-\u001b[39m\u001b[38;5;241m1\u001b[39m,\u001b[38;5;241m-\u001b[39m\u001b[38;5;241m2\u001b[39m,\u001b[38;5;241m-\u001b[39m\u001b[38;5;241m3\u001b[39m],[\u001b[38;5;241m-\u001b[39m\u001b[38;5;241m4\u001b[39m,\u001b[38;5;241m-\u001b[39m\u001b[38;5;241m5\u001b[39m,\u001b[38;5;241m-\u001b[39m\u001b[38;5;241m6\u001b[39m]]])\n\u001b[0;32m      2\u001b[0m \u001b[38;5;28mprint\u001b[39m(e\u001b[38;5;241m.\u001b[39mndim)\n",
      "\u001b[1;31mValueError\u001b[0m: setting an array element with a sequence. The requested array has an inhomogeneous shape after 1 dimensions. The detected shape was (2,) + inhomogeneous part."
     ]
    }
   ],
   "source": [
    "e = np.array([[[1,2,3],[4,5,6],[-1,-2,-3]],[[-1,-2,-3],[-4,-5,-6]]])\n",
    "print(e.ndim)"
   ]
  },
  {
   "cell_type": "code",
   "execution_count": 24,
   "id": "ed78b579",
   "metadata": {},
   "outputs": [
    {
     "name": "stdout",
     "output_type": "stream",
     "text": [
      "3\n"
     ]
    }
   ],
   "source": [
    "e = np.array([[[1,2,3],[4,5,6],[-1,-2,-3]],[[-1,-2,-3],[-4,-5,-6],[-1,-2,-3]]])\n",
    "print(e.ndim)"
   ]
  },
  {
   "cell_type": "code",
   "execution_count": 25,
   "id": "7a8a0418",
   "metadata": {},
   "outputs": [
    {
     "data": {
      "text/plain": [
       "(2, 3, 3)"
      ]
     },
     "execution_count": 25,
     "metadata": {},
     "output_type": "execute_result"
    }
   ],
   "source": [
    "e.shape # Since e is a 3D array it has: 2_2D_arrays_each_with, 3_1D_arrys_each_with, 3_elements"
   ]
  },
  {
   "cell_type": "code",
   "execution_count": 26,
   "id": "e9f04377",
   "metadata": {},
   "outputs": [
    {
     "data": {
      "text/plain": [
       "2"
      ]
     },
     "execution_count": 26,
     "metadata": {},
     "output_type": "execute_result"
    }
   ],
   "source": [
    "e.shape[0] # The 3D array has 2_2D_arrays"
   ]
  },
  {
   "cell_type": "code",
   "execution_count": 27,
   "id": "12fa1632",
   "metadata": {},
   "outputs": [
    {
     "data": {
      "text/plain": [
       "1"
      ]
     },
     "execution_count": 27,
     "metadata": {},
     "output_type": "execute_result"
    }
   ],
   "source": [
    "A = np.array([2])\n",
    "A.ndim"
   ]
  },
  {
   "cell_type": "code",
   "execution_count": 28,
   "id": "98faf719",
   "metadata": {},
   "outputs": [
    {
     "data": {
      "text/plain": [
       "0"
      ]
     },
     "execution_count": 28,
     "metadata": {},
     "output_type": "execute_result"
    }
   ],
   "source": [
    "B = np.array(2)\n",
    "B.ndim"
   ]
  },
  {
   "cell_type": "code",
   "execution_count": 29,
   "id": "9456661c",
   "metadata": {},
   "outputs": [
    {
     "data": {
      "text/plain": [
       "array([[[ 1,  2,  3],\n",
       "        [ 4,  5,  6],\n",
       "        [-1, -2, -3]],\n",
       "\n",
       "       [[-1, -2, -3],\n",
       "        [-4, -5, -6],\n",
       "        [-1, -2, -3]]])"
      ]
     },
     "execution_count": 29,
     "metadata": {},
     "output_type": "execute_result"
    }
   ],
   "source": [
    "e"
   ]
  },
  {
   "cell_type": "code",
   "execution_count": 30,
   "id": "87c16bb9",
   "metadata": {},
   "outputs": [
    {
     "data": {
      "text/plain": [
       "18"
      ]
     },
     "execution_count": 30,
     "metadata": {},
     "output_type": "execute_result"
    }
   ],
   "source": [
    "e.size"
   ]
  },
  {
   "cell_type": "code",
   "execution_count": 31,
   "id": "7d4687a2",
   "metadata": {},
   "outputs": [
    {
     "data": {
      "text/plain": [
       "72"
      ]
     },
     "execution_count": 31,
     "metadata": {},
     "output_type": "execute_result"
    }
   ],
   "source": [
    "e.nbytes"
   ]
  },
  {
   "cell_type": "markdown",
   "id": "58aac484",
   "metadata": {},
   "source": [
    "## 3. NumPy methods\n",
    "NumPy provides too many functions to create special kind of arrays from scratch for example there is a function np.zeros that returns an array with values of 0 and even for only 1 np.ones there np.empty np.emptylike... etc.\n",
    "- np.full(shape,value): return a new array of a given shape and type, filled with value.\n",
    "- np.arange(StartingNumber,EndingNumber,Step): creates an array with sorted values from the starting number to the ending one - 1 (in order) according to step with the default values being the same as range for strings and other data structures.\n",
    "#### Note: range(100) will not return a list from 0 to 99 it'll just return an object(0,100) so I'm forced to use it within a for loop to do the same as NumPy or just List(range(100)).\n",
    "- np.random.rand(N): same as np.arange but random numbers between 0 and 1, types, no order and its distribution is uniform we knew that thanks to matplotlib library and the more numbers we add the more dimensions we get same as shape.\n",
    "- np.random.randn(N): generates random normal numbers or gaussian random numbers aka complex ones and the more numbers we add, the more dimensions we get same as shape.\n",
    "- np.random.permutation: 'np' is a package which has multiple sub-packages like 'random' that has multiple modules as such we have 'permutation'this functions shuffles the values of an array in a random manner.\n",
    "- np.random.randint(N1,N2): returns a random integer between N1 (inclusive) and N2 (exclusive).\n",
    "- np.reshape: changes the shape of the elements in the array accordingly (k_ND arrays * u_(N-1)D arrays * ...* m_elements = len).\n",
    "#### Note: the more numbers we have inside the random functions the more dimensions and elements are made like the shape method not range !"
   ]
  },
  {
   "cell_type": "code",
   "execution_count": 32,
   "id": "44ce17a1",
   "metadata": {},
   "outputs": [],
   "source": [
    "import numpy as np"
   ]
  },
  {
   "cell_type": "code",
   "execution_count": 33,
   "id": "65803abe",
   "metadata": {},
   "outputs": [
    {
     "data": {
      "text/plain": [
       "array([[5, 5, 5],\n",
       "       [5, 5, 5]])"
      ]
     },
     "execution_count": 33,
     "metadata": {},
     "output_type": "execute_result"
    }
   ],
   "source": [
    "S = np.full((2,3),5)\n",
    "S"
   ]
  },
  {
   "cell_type": "code",
   "execution_count": 34,
   "id": "e693f646",
   "metadata": {},
   "outputs": [
    {
     "name": "stdout",
     "output_type": "stream",
     "text": [
      "[ 0  1  2  3  4  5  6  7  8  9 10 11 12 13 14 15 16 17 18 19 20 21 22 23\n",
      " 24 25 26 27 28 29 30 31 32 33 34 35 36 37 38 39 40 41 42 43 44 45 46 47\n",
      " 48 49 50 51 52 53 54 55 56 57 58 59 60 61 62 63 64 65 66 67 68 69 70 71\n",
      " 72 73 74 75 76 77 78 79 80 81 82 83 84 85 86 87 88 89 90 91 92 93 94 95\n",
      " 96 97 98 99]\n"
     ]
    }
   ],
   "source": [
    "A = np.arange(100)\n",
    "print(A)"
   ]
  },
  {
   "cell_type": "code",
   "execution_count": 35,
   "id": "53c7ddce",
   "metadata": {},
   "outputs": [
    {
     "name": "stdout",
     "output_type": "stream",
     "text": [
      "[20 21 22 23 24 25 26 27 28 29 30 31 32 33 34 35 36 37 38 39 40 41 42 43\n",
      " 44 45 46 47 48 49 50 51 52 53 54 55 56 57 58 59 60 61 62 63 64 65 66 67\n",
      " 68 69 70 71 72 73 74 75 76 77 78 79 80 81 82 83 84 85 86 87 88 89 90 91\n",
      " 92 93 94 95 96 97 98 99]\n"
     ]
    }
   ],
   "source": [
    "B = np.arange(20,100)\n",
    "print(B)"
   ]
  },
  {
   "cell_type": "code",
   "execution_count": 36,
   "id": "3677aa46",
   "metadata": {},
   "outputs": [
    {
     "name": "stdout",
     "output_type": "stream",
     "text": [
      "[0 2 4 6 8]\n"
     ]
    }
   ],
   "source": [
    "C = np.arange(0,10,2)\n",
    "print(C)"
   ]
  },
  {
   "cell_type": "code",
   "execution_count": 37,
   "id": "e1b246c6",
   "metadata": {},
   "outputs": [
    {
     "data": {
      "text/plain": [
       "range(0, 100)"
      ]
     },
     "execution_count": 37,
     "metadata": {},
     "output_type": "execute_result"
    }
   ],
   "source": [
    "range(100)"
   ]
  },
  {
   "cell_type": "code",
   "execution_count": 38,
   "id": "43e6bde9",
   "metadata": {},
   "outputs": [
    {
     "name": "stdout",
     "output_type": "stream",
     "text": [
      "[0, 1, 2, 3, 4, 5, 6, 7, 8, 9, 10, 11, 12, 13, 14, 15, 16, 17, 18, 19, 20, 21, 22, 23, 24, 25, 26, 27, 28, 29, 30, 31, 32, 33, 34, 35, 36, 37, 38, 39, 40, 41, 42, 43, 44, 45, 46, 47, 48, 49, 50, 51, 52, 53, 54, 55, 56, 57, 58, 59, 60, 61, 62, 63, 64, 65, 66, 67, 68, 69, 70, 71, 72, 73, 74, 75, 76, 77, 78, 79, 80, 81, 82, 83, 84, 85, 86, 87, 88, 89, 90, 91, 92, 93, 94, 95, 96, 97, 98, 99]\n"
     ]
    }
   ],
   "source": [
    "print(list(range(100)))"
   ]
  },
  {
   "cell_type": "code",
   "execution_count": 39,
   "id": "854e7268",
   "metadata": {},
   "outputs": [
    {
     "data": {
      "text/plain": [
       "array([1, 5, 7, 2, 0, 6, 3, 9, 4, 8])"
      ]
     },
     "execution_count": 39,
     "metadata": {},
     "output_type": "execute_result"
    }
   ],
   "source": [
    "A = np.random.permutation(np.arange(10))\n",
    "A"
   ]
  },
  {
   "cell_type": "code",
   "execution_count": 40,
   "id": "88e3d106",
   "metadata": {},
   "outputs": [
    {
     "data": {
      "text/plain": [
       "12"
      ]
     },
     "execution_count": 40,
     "metadata": {},
     "output_type": "execute_result"
    }
   ],
   "source": [
    "np.random.randint(10,20)"
   ]
  },
  {
   "cell_type": "code",
   "execution_count": 41,
   "id": "02c13efd",
   "metadata": {},
   "outputs": [
    {
     "data": {
      "text/plain": [
       "array([ 0,  1,  2,  3,  4,  5,  6,  7,  8,  9, 10, 11, 12, 13, 14, 15, 16,\n",
       "       17, 18, 19])"
      ]
     },
     "execution_count": 41,
     "metadata": {},
     "output_type": "execute_result"
    }
   ],
   "source": [
    "S = np.arange(20)\n",
    "S"
   ]
  },
  {
   "cell_type": "code",
   "execution_count": 42,
   "id": "466e7528",
   "metadata": {},
   "outputs": [
    {
     "data": {
      "text/plain": [
       "20"
      ]
     },
     "execution_count": 42,
     "metadata": {},
     "output_type": "execute_result"
    }
   ],
   "source": [
    "len(S)"
   ]
  },
  {
   "cell_type": "code",
   "execution_count": 43,
   "id": "a5e26640",
   "metadata": {},
   "outputs": [
    {
     "data": {
      "text/plain": [
       "array([[ 0,  1,  2,  3,  4,  5,  6,  7,  8,  9],\n",
       "       [10, 11, 12, 13, 14, 15, 16, 17, 18, 19]])"
      ]
     },
     "execution_count": 43,
     "metadata": {},
     "output_type": "execute_result"
    }
   ],
   "source": [
    "S.reshape(2,10)"
   ]
  },
  {
   "cell_type": "code",
   "execution_count": 44,
   "id": "e333c2c3",
   "metadata": {},
   "outputs": [
    {
     "data": {
      "text/plain": [
       "array([7.25366499e-01, 3.78987608e-01, 2.37928647e-01, 5.53708203e-01,\n",
       "       9.84089778e-01, 1.58402202e-01, 8.70507226e-01, 9.44785293e-01,\n",
       "       6.81763173e-01, 4.40319771e-01, 9.68626978e-01, 3.67887822e-01,\n",
       "       1.61302715e-01, 4.19525720e-01, 6.78260457e-01, 6.32701039e-01,\n",
       "       7.90350595e-01, 6.38229331e-02, 2.21731084e-01, 1.47533603e-01,\n",
       "       6.66494201e-01, 1.00783909e-01, 4.01192519e-01, 2.01363123e-01,\n",
       "       3.21500356e-01, 5.97471932e-01, 1.18396487e-01, 8.92632957e-01,\n",
       "       9.71708018e-01, 3.20989585e-01, 7.36480688e-02, 9.61313592e-01,\n",
       "       3.38070769e-02, 1.10073801e-01, 4.76329643e-01, 6.44086146e-01,\n",
       "       4.73522112e-01, 3.79694722e-01, 2.51740865e-01, 8.96304855e-01,\n",
       "       9.60707935e-01, 2.58443703e-01, 8.96594166e-01, 8.08419316e-02,\n",
       "       4.66982878e-01, 3.63573914e-01, 4.23803223e-01, 1.26489008e-01,\n",
       "       4.06412600e-01, 4.84373305e-01, 1.43711610e-01, 3.84974922e-01,\n",
       "       3.16657624e-01, 7.35240045e-01, 5.72622132e-01, 1.36009948e-01,\n",
       "       5.79955381e-01, 7.26377176e-01, 3.92745184e-01, 7.13051920e-02,\n",
       "       8.76783964e-01, 9.77399308e-01, 9.03437349e-01, 4.83962774e-01,\n",
       "       1.74149131e-01, 8.58652144e-01, 7.96011667e-01, 4.59564539e-01,\n",
       "       5.75304556e-01, 2.28471773e-01, 8.79867734e-01, 9.87052718e-01,\n",
       "       6.42893010e-01, 6.02544719e-01, 1.76768324e-02, 6.78440476e-01,\n",
       "       9.20845153e-01, 3.23971065e-01, 9.39404860e-01, 6.21845999e-01,\n",
       "       7.91687410e-01, 5.10861086e-01, 3.37224053e-01, 9.97286275e-02,\n",
       "       3.73882528e-01, 9.85854386e-01, 2.28311507e-01, 6.13197965e-01,\n",
       "       3.23325355e-01, 6.08572974e-01, 1.26574911e-01, 4.73992566e-01,\n",
       "       4.78331192e-01, 9.43373032e-01, 4.55588297e-01, 1.97032061e-01,\n",
       "       5.47404195e-01, 5.38972977e-01, 3.70113531e-01, 3.90898605e-01,\n",
       "       1.42352446e-01, 4.43194019e-01, 6.17896596e-01, 2.30216260e-01,\n",
       "       2.61866454e-01, 4.25046112e-01, 4.94693720e-01, 9.67952992e-01,\n",
       "       5.05213694e-01, 8.04554915e-01, 1.76786766e-01, 7.11237905e-01,\n",
       "       6.96423128e-01, 3.05002914e-01, 7.80307752e-02, 2.79751371e-01,\n",
       "       7.94735499e-01, 8.49487437e-01, 3.85240267e-01, 5.31221808e-01,\n",
       "       7.54643236e-02, 9.15781988e-01, 6.88216066e-01, 4.37045436e-01,\n",
       "       9.89542838e-01, 9.16281340e-01, 1.59716719e-01, 6.42258124e-01,\n",
       "       7.64969145e-01, 3.13622370e-01, 2.84638336e-01, 2.37093434e-01,\n",
       "       5.54282214e-01, 3.48405013e-01, 2.89072708e-01, 6.24595004e-02,\n",
       "       2.85570850e-01, 4.37273678e-01, 3.56142611e-01, 7.94627644e-01,\n",
       "       8.76980872e-01, 8.62765798e-01, 9.56305330e-01, 1.02223565e-01,\n",
       "       1.00567897e-01, 1.57153939e-01, 3.53822400e-01, 3.67267165e-01,\n",
       "       4.61643025e-01, 3.45255632e-01, 3.85764038e-01, 2.82300724e-01,\n",
       "       2.91503360e-01, 7.70949546e-02, 9.07811776e-01, 5.61254175e-01,\n",
       "       9.07634655e-01, 1.15361689e-01, 1.33796662e-01, 5.02632986e-01,\n",
       "       7.60379073e-01, 2.89031935e-01, 3.46562803e-01, 1.40360896e-01,\n",
       "       3.40551653e-01, 2.66041496e-01, 8.01205748e-01, 6.32421667e-01,\n",
       "       3.03835875e-01, 1.56647633e-03, 3.40134471e-01, 9.00974645e-01,\n",
       "       1.68987154e-02, 7.99785516e-01, 3.60770420e-01, 6.67744374e-01,\n",
       "       4.21297261e-01, 3.94917611e-01, 7.46348503e-01, 8.72928298e-02,\n",
       "       9.18381103e-01, 4.69065021e-01, 1.28208272e-02, 2.96472103e-02,\n",
       "       8.68729524e-01, 5.54408728e-01, 4.69634069e-01, 8.80302371e-01,\n",
       "       2.15594884e-01, 6.99115337e-02, 9.86327492e-01, 3.54724073e-01,\n",
       "       9.84892880e-02, 4.08586255e-01, 9.59235375e-01, 8.29665311e-02,\n",
       "       6.60316502e-01, 3.18461197e-01, 5.51491573e-01, 2.84309367e-01,\n",
       "       4.41219875e-01, 9.05822983e-01, 8.98780793e-01, 1.01627761e-01,\n",
       "       9.44422550e-01, 2.42635037e-01, 1.10617320e-01, 4.53015127e-01,\n",
       "       8.54199182e-01, 5.33415926e-01, 6.03490131e-01, 8.96797202e-01,\n",
       "       8.37264774e-01, 7.51235233e-01, 1.28625428e-01, 3.64769941e-01,\n",
       "       5.55750966e-01, 4.84359426e-01, 6.81556974e-01, 1.79282358e-01,\n",
       "       4.21014824e-01, 2.76920926e-01, 9.34320088e-01, 9.29145291e-01,\n",
       "       8.05895317e-01, 7.38992867e-01, 7.72704011e-01, 1.44288860e-01,\n",
       "       1.39928984e-02, 4.11498978e-01, 2.72122944e-01, 5.95903263e-01,\n",
       "       4.02778478e-01, 8.17790132e-01, 5.00130691e-02, 9.56527568e-01,\n",
       "       8.94312804e-01, 3.26211920e-01, 2.38240904e-01, 7.31248250e-01,\n",
       "       5.53671973e-01, 5.51373010e-01, 1.31284860e-01, 3.66270729e-01,\n",
       "       6.92783068e-02, 6.85871304e-01, 9.80497506e-01, 9.73375487e-01,\n",
       "       1.40877419e-01, 2.24090383e-01, 8.07687944e-01, 6.87770340e-01,\n",
       "       5.59295751e-02, 5.80484009e-01, 6.14647540e-01, 3.08016927e-01,\n",
       "       9.97463922e-01, 9.18974244e-01, 2.39105178e-01, 6.68417696e-02,\n",
       "       5.45742024e-01, 1.73499990e-01, 8.21564434e-01, 7.63817033e-01,\n",
       "       4.97780336e-01, 9.36278500e-01, 3.49672194e-01, 6.36289272e-01,\n",
       "       1.72440643e-02, 9.13990015e-02, 1.03537608e-01, 6.05976028e-01,\n",
       "       2.23470610e-01, 2.36410814e-01, 8.26057298e-01, 2.73517884e-01,\n",
       "       1.76361931e-01, 4.57274015e-01, 4.14793060e-01, 8.55097129e-01,\n",
       "       5.24654268e-01, 7.06095510e-04, 9.03256505e-01, 1.51482751e-01,\n",
       "       7.10300752e-01, 2.20110607e-01, 5.04749270e-01, 1.35366162e-01,\n",
       "       8.92677914e-01, 1.89992214e-01, 3.95181942e-02, 4.44711008e-01,\n",
       "       8.35201131e-01, 8.88577616e-01, 9.54432329e-01, 2.65803410e-01,\n",
       "       9.31463392e-01, 6.38518935e-01, 9.69075562e-01, 9.58437135e-01,\n",
       "       1.16120869e-01, 8.72513105e-01, 3.68862137e-01, 3.72308459e-02,\n",
       "       1.29451942e-01, 3.77581065e-01, 8.54824547e-01, 4.05085581e-01,\n",
       "       5.40632702e-01, 3.49383004e-01, 6.33804124e-01, 7.10032028e-01,\n",
       "       4.24247514e-02, 1.59819049e-01, 2.69985488e-01, 3.73271580e-02,\n",
       "       2.99731062e-02, 5.84038792e-01, 1.66601851e-01, 5.17976806e-01,\n",
       "       6.12984285e-01, 7.22543930e-01, 6.97540154e-01, 1.94788800e-01,\n",
       "       4.29837209e-01, 1.04122443e-02, 5.78676868e-03, 9.88818318e-01,\n",
       "       1.21153844e-03, 7.38351089e-01, 3.15781615e-01, 6.41231875e-01,\n",
       "       4.44536824e-01, 5.70815286e-01, 2.32573710e-01, 8.47810615e-01,\n",
       "       6.85178996e-01, 8.39347648e-01, 6.65281902e-01, 4.06586939e-01,\n",
       "       3.88283232e-01, 3.16890575e-01, 4.00152811e-01, 3.14018789e-02,\n",
       "       6.06597039e-01, 6.19066234e-01, 9.29675813e-01, 5.29010192e-02,\n",
       "       3.33153829e-01, 1.69061010e-02, 7.77936575e-01, 6.32923799e-01,\n",
       "       7.01355324e-01, 5.98383000e-01, 9.37879987e-01, 8.13891385e-01,\n",
       "       8.20437433e-02, 1.18123540e-01, 4.27529955e-03, 6.81981370e-02,\n",
       "       2.49131144e-01, 2.64462726e-01, 4.89713486e-01, 6.35210938e-01,\n",
       "       9.66955141e-01, 6.10567822e-01, 7.00645458e-01, 3.95418008e-01,\n",
       "       5.45265760e-01, 5.67901597e-01, 6.14230112e-01, 5.07631208e-01,\n",
       "       7.02476904e-01, 1.02882126e-01, 4.51641727e-01, 5.87419220e-01,\n",
       "       8.82168333e-01, 8.42226151e-02, 3.38399537e-01, 9.57327832e-01,\n",
       "       1.68585435e-01, 6.03192437e-01, 6.49575433e-01, 7.19359888e-01,\n",
       "       7.46516767e-01, 4.73280803e-01, 8.79538283e-01, 7.28554832e-01,\n",
       "       7.18745036e-02, 2.56318906e-01, 1.36602886e-01, 6.70054169e-01,\n",
       "       2.42280497e-03, 5.58605261e-01, 1.47950513e-01, 8.12938266e-01,\n",
       "       6.43337211e-01, 1.56183723e-01, 6.77195343e-01, 4.70119762e-01,\n",
       "       7.78228855e-01, 1.34424115e-01, 7.84102284e-01, 3.30583882e-01,\n",
       "       4.05936599e-02, 1.24881850e-01, 4.33760923e-01, 7.32922113e-01,\n",
       "       6.52818038e-01, 4.83000881e-01, 3.77518666e-01, 6.17101873e-01,\n",
       "       2.58883749e-01, 1.48324755e-01, 5.79255319e-01, 6.68390951e-01,\n",
       "       7.29055571e-01, 6.31692682e-01, 7.42614278e-02, 2.95332264e-01,\n",
       "       4.04813453e-01, 7.13123271e-01, 7.32657506e-01, 3.08454327e-01,\n",
       "       4.44820020e-01, 5.74114386e-01, 4.06140968e-01, 2.31865505e-01,\n",
       "       3.92732784e-01, 2.84312660e-01, 3.44753970e-01, 7.73695754e-01,\n",
       "       1.23535521e-02, 2.87057546e-01, 2.29228952e-01, 7.86359481e-01,\n",
       "       3.85908423e-01, 2.26203070e-01, 8.49184178e-01, 2.31775567e-01,\n",
       "       9.21703780e-01, 1.37335754e-01, 5.25840997e-01, 1.43777317e-01,\n",
       "       4.03100711e-01, 7.47683751e-01, 2.46598728e-01, 8.39134789e-01,\n",
       "       8.61391152e-01, 5.51200778e-01, 6.56102600e-01, 6.95861745e-01,\n",
       "       9.84507626e-01, 3.97633624e-01, 6.72090804e-01, 1.62885350e-01,\n",
       "       1.17505220e-01, 3.37346756e-02, 6.27129718e-01, 8.79798245e-01,\n",
       "       5.71930389e-01, 2.37380349e-01, 2.01720905e-01, 3.29851644e-01,\n",
       "       5.09256549e-01, 1.63385522e-01, 9.44201013e-01, 5.23120700e-01,\n",
       "       6.35288500e-01, 4.66431290e-02, 4.18989799e-01, 1.99877083e-01,\n",
       "       4.09722320e-01, 7.88446504e-01, 2.83548438e-02, 4.20812056e-01,\n",
       "       8.93063588e-01, 3.96057750e-01, 4.99414273e-01, 1.97674693e-01,\n",
       "       8.44988362e-01, 6.02218886e-02, 5.23898693e-01, 1.54369352e-01,\n",
       "       9.89934613e-02, 9.67880979e-02, 8.00303325e-02, 4.78654909e-01,\n",
       "       9.65300418e-01, 5.76931795e-01, 1.04502799e-01, 9.07128327e-01,\n",
       "       2.04328689e-01, 8.57404187e-03, 2.09341224e-01, 7.38848917e-01,\n",
       "       2.63502781e-01, 8.08869402e-01, 3.18318191e-01, 7.02101041e-01,\n",
       "       6.21152461e-01, 5.01183520e-01, 1.81271511e-01, 8.81112383e-01,\n",
       "       6.53340380e-01, 2.53099087e-01, 8.48209382e-01, 1.82368609e-01,\n",
       "       2.59062543e-01, 6.37042201e-01, 4.83919578e-01, 7.95981460e-02,\n",
       "       2.89731869e-01, 9.00281890e-01, 4.29118799e-01, 3.80245025e-01,\n",
       "       2.27109303e-01, 4.22155445e-01, 3.14586495e-01, 1.48034908e-01,\n",
       "       2.57844637e-01, 3.69637523e-01, 6.47047200e-01, 6.29401302e-01,\n",
       "       2.06405897e-01, 2.28793656e-01, 9.25985852e-01, 1.52623836e-01,\n",
       "       6.51406843e-01, 8.97412288e-01, 8.94505244e-01, 9.90332386e-01,\n",
       "       6.91211403e-01, 3.01697878e-02, 2.40552131e-01, 1.25534253e-01,\n",
       "       9.09385174e-01, 5.19147916e-01, 1.93366540e-01, 9.31882720e-01,\n",
       "       5.52584430e-01, 5.93715514e-01, 9.47587701e-01, 4.24144162e-01,\n",
       "       6.81284148e-01, 9.96340150e-01, 9.88777795e-01, 1.86423971e-01,\n",
       "       7.71097791e-01, 2.90703214e-02, 3.01284142e-01, 7.17596619e-01,\n",
       "       7.98953327e-01, 8.16489029e-01, 8.93954212e-01, 2.48451630e-01,\n",
       "       6.10678367e-01, 7.13304360e-01, 6.94586219e-02, 2.69775136e-01,\n",
       "       5.54115471e-01, 5.77398110e-01, 2.69167689e-01, 2.22203450e-01,\n",
       "       6.55548687e-01, 2.01667355e-01, 4.00859170e-01, 2.21417115e-01,\n",
       "       4.61845788e-01, 8.46163514e-01, 8.04166373e-01, 2.06350639e-01,\n",
       "       3.03341131e-01, 3.38299557e-01, 1.85575616e-01, 8.72599183e-01,\n",
       "       1.49967135e-01, 4.62704136e-01, 4.51213919e-02, 4.68720662e-01,\n",
       "       6.74793412e-01, 2.90358523e-01, 9.21968671e-01, 3.70793942e-01,\n",
       "       1.38474949e-01, 9.62296772e-01, 1.64681720e-02, 3.81271362e-01,\n",
       "       2.75997355e-01, 3.28154329e-01, 1.64454835e-01, 1.39224057e-01,\n",
       "       3.27986521e-01, 7.14316160e-01, 8.07379947e-01, 5.68252425e-01,\n",
       "       9.05554414e-01, 4.35035986e-01, 2.95582914e-01, 9.48165111e-01,\n",
       "       6.17007699e-01, 2.16035032e-01, 2.01290612e-01, 5.95769060e-02,\n",
       "       8.61467845e-01, 3.38289600e-01, 2.01496787e-01, 6.72523136e-01,\n",
       "       6.41617695e-01, 9.45867007e-01, 5.15804556e-01, 1.19859074e-01,\n",
       "       5.09080794e-01, 5.35223012e-01, 6.66784612e-01, 5.97095489e-03,\n",
       "       1.51836753e-01, 4.62264180e-01, 1.13024412e-01, 3.31469594e-01,\n",
       "       4.09392957e-01, 1.20443730e-01, 5.01268592e-01, 5.86980069e-01,\n",
       "       1.74090370e-01, 6.08066627e-01, 7.97681306e-01, 2.67127900e-01,\n",
       "       6.32232532e-01, 6.69309026e-01, 6.22259052e-01, 9.63079509e-01,\n",
       "       2.36490673e-01, 1.45745260e-01, 7.96005209e-01, 8.75191998e-01,\n",
       "       5.14183312e-01, 2.10355558e-01, 4.73154622e-01, 7.53548602e-01,\n",
       "       1.80827169e-01, 5.99159926e-01, 1.82223894e-01, 2.70722788e-01,\n",
       "       3.77420223e-01, 9.36888700e-02, 8.83139945e-01, 2.91299935e-01,\n",
       "       3.99097043e-01, 4.70360686e-01, 4.78099422e-01, 5.88983709e-01,\n",
       "       9.26016948e-01, 6.37536585e-01, 5.45144433e-01, 6.45073657e-02,\n",
       "       2.03015989e-01, 4.75046651e-01, 5.51228823e-01, 1.48912469e-01,\n",
       "       5.08247832e-01, 4.27931789e-01, 3.17095513e-01, 6.99988263e-01,\n",
       "       1.54547312e-01, 7.58467847e-01, 8.15545906e-01, 1.78240469e-01,\n",
       "       3.44565123e-01, 7.21993598e-01, 8.91393223e-01, 5.40448772e-01,\n",
       "       8.74794808e-01, 6.78205636e-01, 6.56645797e-01, 9.83153453e-01,\n",
       "       9.59920749e-01, 8.25971238e-01, 7.78142331e-01, 3.53617660e-01,\n",
       "       5.87861922e-01, 6.79481909e-01, 1.41136205e-01, 6.45504646e-01,\n",
       "       6.49605778e-01, 1.30811118e-01, 5.11822465e-01, 1.13940280e-01,\n",
       "       9.07751435e-01, 7.87846280e-01, 7.05597670e-01, 1.67576433e-01,\n",
       "       3.68856552e-01, 8.68594619e-01, 9.22018698e-02, 8.19681377e-01,\n",
       "       1.26030142e-01, 5.46044294e-01, 5.12531627e-01, 5.99893495e-01,\n",
       "       5.64069318e-01, 1.24537671e-01, 8.73941553e-01, 5.29687863e-01,\n",
       "       1.79172224e-01, 3.28617496e-01, 2.65581682e-01, 1.75668861e-01,\n",
       "       6.32425788e-01, 5.62387324e-01, 6.62089920e-01, 1.74227588e-01,\n",
       "       5.65680994e-01, 8.67156567e-01, 3.46147496e-01, 7.60915698e-01,\n",
       "       2.69767886e-01, 5.49203714e-01, 7.64449212e-01, 5.37944543e-01,\n",
       "       1.45415246e-01, 3.32276604e-01, 1.16491838e-01, 7.00398344e-01,\n",
       "       4.83066343e-01, 8.89125126e-01, 6.30269484e-02, 9.08920112e-01,\n",
       "       7.22266860e-01, 6.77183539e-01, 9.62934718e-01, 5.52985715e-01,\n",
       "       1.31580624e-01, 4.89647200e-01, 4.32591556e-02, 5.83075409e-01,\n",
       "       2.64549214e-01, 9.13630420e-01, 9.35379192e-01, 2.56633064e-01,\n",
       "       3.76293094e-01, 2.03850526e-02, 2.87694999e-01, 8.61000312e-01,\n",
       "       3.80230175e-01, 3.11204688e-01, 7.35513938e-01, 3.32026763e-01,\n",
       "       7.23483218e-01, 8.05189865e-01, 7.54661190e-01, 4.94796941e-01,\n",
       "       9.64445896e-01, 5.70796966e-01, 5.49666316e-01, 8.40925058e-01,\n",
       "       3.30511123e-01, 6.04200514e-01, 8.35436479e-01, 9.93325746e-02,\n",
       "       8.42961215e-01, 9.97015732e-01, 1.21367389e-01, 4.08980192e-01,\n",
       "       7.74919781e-01, 4.66670910e-01, 8.37735340e-01, 4.90968984e-01,\n",
       "       2.20642805e-01, 1.97730094e-01, 4.33849169e-01, 9.91206312e-01,\n",
       "       6.25793169e-02, 2.38677965e-01, 7.50006294e-01, 5.40017587e-01,\n",
       "       7.05979265e-01, 2.48789825e-01, 4.38396870e-01, 2.06854807e-02,\n",
       "       9.43424133e-01, 8.63600176e-01, 4.94547279e-01, 7.12473635e-01,\n",
       "       1.30807199e-01, 6.18559759e-01, 8.44828706e-01, 7.52214532e-02,\n",
       "       7.02568881e-01, 5.73733265e-01, 9.79803386e-01, 2.65051741e-01,\n",
       "       2.50694328e-01, 8.84141702e-01, 3.39566826e-01, 8.44435264e-01,\n",
       "       1.10307964e-01, 9.20896411e-01, 6.14645973e-02, 8.34216309e-01,\n",
       "       5.99376051e-01, 1.92601049e-01, 5.95892859e-02, 2.97373184e-01,\n",
       "       6.83919763e-01, 8.42250037e-01, 6.62984705e-02, 1.40303513e-01,\n",
       "       3.44704591e-01, 6.05950021e-01, 5.30855890e-01, 7.01721117e-01,\n",
       "       9.65593360e-01, 8.94608070e-01, 5.25744675e-01, 3.73797869e-02,\n",
       "       2.07998638e-02, 4.96105023e-01, 5.21229794e-01, 8.92634395e-01,\n",
       "       7.38843387e-01, 3.61586045e-01, 8.61921481e-01, 1.24495449e-01,\n",
       "       1.90865536e-01, 1.15525050e-01, 2.06486435e-01, 7.63096925e-01,\n",
       "       8.62956279e-01, 3.65545189e-01, 8.64035559e-01, 4.02696823e-01,\n",
       "       6.83122762e-01, 9.35329470e-02, 9.85821489e-01, 7.93318270e-01,\n",
       "       9.77034672e-01, 9.62813458e-01, 5.18460328e-01, 3.58123897e-01,\n",
       "       2.75339013e-02, 9.31331893e-01, 2.10812264e-01, 4.34451424e-01,\n",
       "       7.36890436e-01, 4.46359382e-01, 1.87536242e-01, 1.56814179e-01,\n",
       "       7.78303518e-01, 6.97705662e-01, 8.96878388e-01, 4.14579259e-02,\n",
       "       4.19681875e-01, 8.61231067e-01, 9.37301679e-01, 5.03081906e-01,\n",
       "       3.50079718e-01, 6.30775082e-01, 5.88773643e-01, 8.14490317e-01,\n",
       "       8.81963520e-01, 2.15692300e-02, 8.98693984e-01, 7.78833137e-01,\n",
       "       9.26269961e-01, 9.06550894e-01, 5.44104629e-03, 7.17668053e-01,\n",
       "       9.07131917e-01, 8.99557306e-02, 4.12316689e-01, 5.09445665e-01,\n",
       "       5.57081611e-01, 4.54588825e-01, 6.58412911e-01, 3.72420708e-01,\n",
       "       2.86136269e-01, 3.55522365e-01, 1.69247028e-01, 7.87469720e-01,\n",
       "       1.29248934e-02, 8.04552927e-01, 9.19415494e-01, 1.06188637e-02,\n",
       "       7.75642588e-01, 1.09648706e-01, 6.94666271e-01, 8.59621946e-01,\n",
       "       7.41178584e-01, 9.54190245e-01, 2.15502913e-01, 6.93268066e-01,\n",
       "       9.36006194e-01, 6.37222731e-01, 9.20129565e-01, 8.48182975e-01,\n",
       "       7.19941914e-01, 4.57918177e-01, 4.37346230e-01, 4.80158383e-01,\n",
       "       6.53626133e-01, 5.95315439e-01, 8.49243420e-01, 4.47160167e-01,\n",
       "       4.13607817e-01, 7.44064156e-01, 6.67258250e-01, 6.26045939e-01,\n",
       "       1.14314753e-01, 7.57056270e-01, 7.71043710e-01, 1.84128234e-01,\n",
       "       8.59701440e-01, 5.79646153e-01, 4.88243361e-01, 8.88432592e-01,\n",
       "       5.48325940e-02, 5.91257171e-01, 9.55478899e-01, 3.56428969e-01,\n",
       "       1.02064579e-01, 4.58524549e-01, 7.57369406e-01, 2.83962604e-01,\n",
       "       5.25147994e-01, 9.36778434e-02, 3.98958178e-01, 1.53774767e-01,\n",
       "       7.80804829e-01, 4.57095775e-01, 3.98095027e-01, 6.11262344e-01,\n",
       "       8.02203053e-01, 2.97806371e-01, 6.85222071e-01, 7.52036825e-01,\n",
       "       3.97880899e-01, 2.13965648e-01, 8.65525615e-01, 7.98830147e-01,\n",
       "       8.81852701e-01, 6.01752737e-01, 9.46878307e-01, 5.09925883e-01,\n",
       "       1.92181334e-01, 2.25032464e-01, 1.77763879e-01, 8.00974249e-02,\n",
       "       3.37326176e-01, 5.83797046e-02, 9.68574770e-02, 9.63823158e-01,\n",
       "       3.18037814e-01, 9.99300520e-01, 7.23595292e-01, 3.45528579e-01,\n",
       "       2.72612610e-01, 1.45376822e-01, 9.84834717e-01, 9.60243992e-01,\n",
       "       7.77437377e-01, 9.40683200e-01, 5.20788772e-01, 9.07617816e-01,\n",
       "       6.77781584e-01, 9.96705340e-01, 2.99530329e-01, 2.96055050e-01,\n",
       "       8.86604195e-02, 4.92586165e-01, 7.99971427e-01, 3.91367176e-01,\n",
       "       3.08340831e-01, 9.96241250e-02, 2.71506482e-01, 7.08007474e-01,\n",
       "       4.17482879e-01, 7.55405589e-01, 1.54767766e-01, 9.56109471e-01,\n",
       "       6.69559392e-01, 9.27069325e-01, 4.15506783e-01, 4.35893024e-01,\n",
       "       1.44903640e-01, 8.22277976e-01, 1.29990014e-01, 4.21981189e-01,\n",
       "       1.23497122e-01, 6.44342961e-01, 2.84674785e-01, 6.22041414e-01,\n",
       "       3.46909033e-02, 5.92145464e-01, 9.99206569e-02, 2.29248076e-02,\n",
       "       8.14209211e-01, 9.19069598e-01, 9.01019557e-01, 6.87030533e-01])"
      ]
     },
     "execution_count": 44,
     "metadata": {},
     "output_type": "execute_result"
    }
   ],
   "source": [
    "A = np.random.rand(1000)\n",
    "A"
   ]
  },
  {
   "cell_type": "code",
   "execution_count": 45,
   "id": "4d278a85",
   "metadata": {},
   "outputs": [],
   "source": [
    "import matplotlib.pyplot as plt"
   ]
  },
  {
   "cell_type": "code",
   "execution_count": 46,
   "id": "993c7868",
   "metadata": {},
   "outputs": [
    {
     "data": {
      "text/plain": [
       "(array([ 96., 116., 101.,  99.,  99.,  94., 103.,  89., 100., 103.]),\n",
       " array([7.06095510e-04, 1.00565538e-01, 2.00424980e-01, 3.00284423e-01,\n",
       "        4.00143865e-01, 5.00003308e-01, 5.99862750e-01, 6.99722193e-01,\n",
       "        7.99581635e-01, 8.99441078e-01, 9.99300520e-01]),\n",
       " <BarContainer object of 10 artists>)"
      ]
     },
     "execution_count": 46,
     "metadata": {},
     "output_type": "execute_result"
    },
    {
     "data": {
      "image/png": "[encoded data removed]",
      "text/plain": [
       "<Figure size 640x480 with 1 Axes>"
      ]
     },
     "metadata": {},
     "output_type": "display_data"
    }
   ],
   "source": [
    "plt.hist(A)"
   ]
  },
  {
   "cell_type": "code",
   "execution_count": 47,
   "id": "2f810f79",
   "metadata": {},
   "outputs": [
    {
     "data": {
      "text/plain": [
       "(array([11., 10., 10.,  9.,  6.,  7., 12., 11.,  7., 13., 11., 13., 12.,\n",
       "        14., 16., 13.,  8., 11.,  9.,  9., 12.,  6., 14., 11.,  6.,  9.,\n",
       "        13.,  8., 13.,  9.,  7., 10.,  9., 13., 12.,  7., 12.,  9.,  8.,\n",
       "        12., 15.,  9., 11.,  9.,  8.,  9.,  9., 11., 10.,  8., 12.,  8.,\n",
       "         9.,  6., 10., 14.,  6., 11.,  9.,  9., 11., 12.,  7., 15., 11.,\n",
       "         8., 10., 11., 11.,  7., 11., 10., 10., 10.,  5.,  9.,  6., 12.,\n",
       "         6., 10., 12.,  7.,  5.,  7., 13.,  4., 15.,  8., 13., 16., 16.,\n",
       "         6., 11., 10., 11.,  9., 16.,  4., 12.,  8.]),\n",
       " array([7.06095510e-04, 1.06920398e-02, 2.06779840e-02, 3.06639282e-02,\n",
       "        4.06498725e-02, 5.06358167e-02, 6.06217610e-02, 7.06077052e-02,\n",
       "        8.05936495e-02, 9.05795937e-02, 1.00565538e-01, 1.10551482e-01,\n",
       "        1.20537426e-01, 1.30523371e-01, 1.40509315e-01, 1.50495259e-01,\n",
       "        1.60481203e-01, 1.70467148e-01, 1.80453092e-01, 1.90439036e-01,\n",
       "        2.00424980e-01, 2.10410925e-01, 2.20396869e-01, 2.30382813e-01,\n",
       "        2.40368757e-01, 2.50354702e-01, 2.60340646e-01, 2.70326590e-01,\n",
       "        2.80312534e-01, 2.90298479e-01, 3.00284423e-01, 3.10270367e-01,\n",
       "        3.20256311e-01, 3.30242256e-01, 3.40228200e-01, 3.50214144e-01,\n",
       "        3.60200088e-01, 3.70186033e-01, 3.80171977e-01, 3.90157921e-01,\n",
       "        4.00143865e-01, 4.10129810e-01, 4.20115754e-01, 4.30101698e-01,\n",
       "        4.40087642e-01, 4.50073587e-01, 4.60059531e-01, 4.70045475e-01,\n",
       "        4.80031419e-01, 4.90017364e-01, 5.00003308e-01, 5.09989252e-01,\n",
       "        5.19975196e-01, 5.29961141e-01, 5.39947085e-01, 5.49933029e-01,\n",
       "        5.59918973e-01, 5.69904917e-01, 5.79890862e-01, 5.89876806e-01,\n",
       "        5.99862750e-01, 6.09848694e-01, 6.19834639e-01, 6.29820583e-01,\n",
       "        6.39806527e-01, 6.49792471e-01, 6.59778416e-01, 6.69764360e-01,\n",
       "        6.79750304e-01, 6.89736248e-01, 6.99722193e-01, 7.09708137e-01,\n",
       "        7.19694081e-01, 7.29680025e-01, 7.39665970e-01, 7.49651914e-01,\n",
       "        7.59637858e-01, 7.69623802e-01, 7.79609747e-01, 7.89595691e-01,\n",
       "        7.99581635e-01, 8.09567579e-01, 8.19553524e-01, 8.29539468e-01,\n",
       "        8.39525412e-01, 8.49511356e-01, 8.59497301e-01, 8.69483245e-01,\n",
       "        8.79469189e-01, 8.89455133e-01, 8.99441078e-01, 9.09427022e-01,\n",
       "        9.19412966e-01, 9.29398910e-01, 9.39384855e-01, 9.49370799e-01,\n",
       "        9.59356743e-01, 9.69342687e-01, 9.79328632e-01, 9.89314576e-01,\n",
       "        9.99300520e-01]),\n",
       " <BarContainer object of 100 artists>)"
      ]
     },
     "execution_count": 47,
     "metadata": {},
     "output_type": "execute_result"
    },
    {
     "data": {
      "image/png": "[encoded data removed]",
      "text/plain": [
       "<Figure size 640x480 with 1 Axes>"
      ]
     },
     "metadata": {},
     "output_type": "display_data"
    }
   ],
   "source": [
    "plt.hist(A, bins = 100)"
   ]
  },
  {
   "cell_type": "code",
   "execution_count": 48,
   "id": "b8542f17",
   "metadata": {},
   "outputs": [
    {
     "data": {
      "text/plain": [
       "(array([1.000e+00, 0.000e+00, 0.000e+00, 0.000e+00, 0.000e+00, 0.000e+00,\n",
       "        1.000e+00, 0.000e+00, 0.000e+00, 0.000e+00, 2.000e+00, 0.000e+00,\n",
       "        0.000e+00, 0.000e+00, 0.000e+00, 1.000e+00, 2.000e+00, 1.000e+00,\n",
       "        2.000e+00, 3.000e+00, 4.000e+00, 5.000e+00, 5.000e+00, 2.000e+00,\n",
       "        1.300e+01, 1.600e+01, 1.200e+01, 7.000e+00, 1.400e+01, 1.300e+01,\n",
       "        1.600e+01, 2.300e+01, 1.700e+01, 2.800e+01, 2.700e+01, 2.800e+01,\n",
       "        4.300e+01, 4.800e+01, 5.000e+01, 4.900e+01, 5.100e+01, 5.800e+01,\n",
       "        8.200e+01, 9.300e+01, 8.900e+01, 1.120e+02, 1.060e+02, 1.340e+02,\n",
       "        1.630e+02, 1.630e+02, 1.710e+02, 2.070e+02, 2.050e+02, 2.430e+02,\n",
       "        2.420e+02, 2.720e+02, 3.000e+02, 3.370e+02, 3.860e+02, 3.980e+02,\n",
       "        3.790e+02, 4.150e+02, 4.550e+02, 4.810e+02, 5.740e+02, 6.360e+02,\n",
       "        6.240e+02, 6.450e+02, 7.750e+02, 8.150e+02, 8.540e+02, 8.240e+02,\n",
       "        9.310e+02, 9.370e+02, 9.250e+02, 1.013e+03, 1.184e+03, 1.149e+03,\n",
       "        1.234e+03, 1.233e+03, 1.299e+03, 1.379e+03, 1.382e+03, 1.490e+03,\n",
       "        1.408e+03, 1.595e+03, 1.513e+03, 1.624e+03, 1.679e+03, 1.655e+03,\n",
       "        1.644e+03, 1.769e+03, 1.786e+03, 1.755e+03, 1.775e+03, 1.766e+03,\n",
       "        1.696e+03, 1.826e+03, 1.765e+03, 1.845e+03, 1.719e+03, 1.833e+03,\n",
       "        1.746e+03, 1.726e+03, 1.719e+03, 1.654e+03, 1.688e+03, 1.631e+03,\n",
       "        1.644e+03, 1.555e+03, 1.592e+03, 1.444e+03, 1.504e+03, 1.429e+03,\n",
       "        1.365e+03, 1.342e+03, 1.269e+03, 1.256e+03, 1.226e+03, 1.073e+03,\n",
       "        1.131e+03, 1.038e+03, 1.022e+03, 9.760e+02, 9.080e+02, 8.910e+02,\n",
       "        8.280e+02, 7.120e+02, 7.390e+02, 6.600e+02, 7.180e+02, 6.070e+02,\n",
       "        5.280e+02, 5.010e+02, 4.500e+02, 4.460e+02, 3.630e+02, 3.810e+02,\n",
       "        3.230e+02, 3.180e+02, 3.050e+02, 2.960e+02, 2.440e+02, 2.290e+02,\n",
       "        2.060e+02, 2.160e+02, 1.710e+02, 1.310e+02, 1.550e+02, 1.200e+02,\n",
       "        1.180e+02, 1.120e+02, 9.400e+01, 7.500e+01, 8.200e+01, 5.400e+01,\n",
       "        6.300e+01, 5.100e+01, 5.100e+01, 4.800e+01, 2.800e+01, 3.800e+01,\n",
       "        2.000e+01, 1.600e+01, 2.300e+01, 2.000e+01, 2.000e+01, 1.400e+01,\n",
       "        1.000e+01, 6.000e+00, 9.000e+00, 3.000e+00, 7.000e+00, 3.000e+00,\n",
       "        3.000e+00, 3.000e+00, 1.000e+00, 1.000e+00, 1.000e+00, 3.000e+00,\n",
       "        3.000e+00, 3.000e+00, 2.000e+00, 1.000e+00, 1.000e+00, 1.000e+00,\n",
       "        0.000e+00, 1.000e+00, 0.000e+00, 1.000e+00, 1.000e+00, 0.000e+00,\n",
       "        0.000e+00, 0.000e+00, 0.000e+00, 0.000e+00, 1.000e+00, 0.000e+00,\n",
       "        0.000e+00, 1.000e+00]),\n",
       " array([-4.45037201, -4.40513507, -4.35989813, -4.31466119, -4.26942425,\n",
       "        -4.22418732, -4.17895038, -4.13371344, -4.0884765 , -4.04323956,\n",
       "        -3.99800263, -3.95276569, -3.90752875, -3.86229181, -3.81705488,\n",
       "        -3.77181794, -3.726581  , -3.68134406, -3.63610712, -3.59087019,\n",
       "        -3.54563325, -3.50039631, -3.45515937, -3.40992243, -3.3646855 ,\n",
       "        -3.31944856, -3.27421162, -3.22897468, -3.18373774, -3.13850081,\n",
       "        -3.09326387, -3.04802693, -3.00278999, -2.95755305, -2.91231612,\n",
       "        -2.86707918, -2.82184224, -2.7766053 , -2.73136837, -2.68613143,\n",
       "        -2.64089449, -2.59565755, -2.55042061, -2.50518368, -2.45994674,\n",
       "        -2.4147098 , -2.36947286, -2.32423592, -2.27899899, -2.23376205,\n",
       "        -2.18852511, -2.14328817, -2.09805123, -2.0528143 , -2.00757736,\n",
       "        -1.96234042, -1.91710348, -1.87186654, -1.82662961, -1.78139267,\n",
       "        -1.73615573, -1.69091879, -1.64568186, -1.60044492, -1.55520798,\n",
       "        -1.50997104, -1.4647341 , -1.41949717, -1.37426023, -1.32902329,\n",
       "        -1.28378635, -1.23854941, -1.19331248, -1.14807554, -1.1028386 ,\n",
       "        -1.05760166, -1.01236472, -0.96712779, -0.92189085, -0.87665391,\n",
       "        -0.83141697, -0.78618003, -0.7409431 , -0.69570616, -0.65046922,\n",
       "        -0.60523228, -0.55999534, -0.51475841, -0.46952147, -0.42428453,\n",
       "        -0.37904759, -0.33381066, -0.28857372, -0.24333678, -0.19809984,\n",
       "        -0.1528629 , -0.10762597, -0.06238903, -0.01715209,  0.02808485,\n",
       "         0.07332179,  0.11855872,  0.16379566,  0.2090326 ,  0.25426954,\n",
       "         0.29950648,  0.34474341,  0.38998035,  0.43521729,  0.48045423,\n",
       "         0.52569117,  0.5709281 ,  0.61616504,  0.66140198,  0.70663892,\n",
       "         0.75187585,  0.79711279,  0.84234973,  0.88758667,  0.93282361,\n",
       "         0.97806054,  1.02329748,  1.06853442,  1.11377136,  1.1590083 ,\n",
       "         1.20424523,  1.24948217,  1.29471911,  1.33995605,  1.38519299,\n",
       "         1.43042992,  1.47566686,  1.5209038 ,  1.56614074,  1.61137768,\n",
       "         1.65661461,  1.70185155,  1.74708849,  1.79232543,  1.83756236,\n",
       "         1.8827993 ,  1.92803624,  1.97327318,  2.01851012,  2.06374705,\n",
       "         2.10898399,  2.15422093,  2.19945787,  2.24469481,  2.28993174,\n",
       "         2.33516868,  2.38040562,  2.42564256,  2.4708795 ,  2.51611643,\n",
       "         2.56135337,  2.60659031,  2.65182725,  2.69706419,  2.74230112,\n",
       "         2.78753806,  2.832775  ,  2.87801194,  2.92324887,  2.96848581,\n",
       "         3.01372275,  3.05895969,  3.10419663,  3.14943356,  3.1946705 ,\n",
       "         3.23990744,  3.28514438,  3.33038132,  3.37561825,  3.42085519,\n",
       "         3.46609213,  3.51132907,  3.55656601,  3.60180294,  3.64703988,\n",
       "         3.69227682,  3.73751376,  3.7827507 ,  3.82798763,  3.87322457,\n",
       "         3.91846151,  3.96369845,  4.00893538,  4.05417232,  4.09940926,\n",
       "         4.1446462 ,  4.18988314,  4.23512007,  4.28035701,  4.32559395,\n",
       "         4.37083089,  4.41606783,  4.46130476,  4.5065417 ,  4.55177864,\n",
       "         4.59701558]),\n",
       " <BarContainer object of 200 artists>)"
      ]
     },
     "execution_count": 48,
     "metadata": {},
     "output_type": "execute_result"
    },
    {
     "data": {
      "image/png": "[encoded data removed]",
      "text/plain": [
       "<Figure size 640x480 with 1 Axes>"
      ]
     },
     "metadata": {},
     "output_type": "display_data"
    }
   ],
   "source": [
    "B = np.random.randn(100000)\n",
    "plt.hist(B, bins=200)"
   ]
  },
  {
   "cell_type": "code",
   "execution_count": 49,
   "id": "52729f38",
   "metadata": {},
   "outputs": [
    {
     "data": {
      "text/plain": [
       "array([[0.61130899, 0.99659503, 0.94619167],\n",
       "       [0.21771355, 0.37065469, 0.2301439 ]])"
      ]
     },
     "execution_count": 49,
     "metadata": {},
     "output_type": "execute_result"
    }
   ],
   "source": [
    "C = np.random.rand(2,3)\n",
    "C"
   ]
  },
  {
   "cell_type": "code",
   "execution_count": 50,
   "id": "334bf192",
   "metadata": {},
   "outputs": [
    {
     "data": {
      "text/plain": [
       "2"
      ]
     },
     "execution_count": 50,
     "metadata": {},
     "output_type": "execute_result"
    }
   ],
   "source": [
    "C.ndim"
   ]
  },
  {
   "cell_type": "code",
   "execution_count": 51,
   "id": "26bb3466",
   "metadata": {},
   "outputs": [
    {
     "data": {
      "text/plain": [
       "array([[[[0.39109614, 0.32324784],\n",
       "         [0.44968575, 0.90676365],\n",
       "         [0.16824712, 0.00182783],\n",
       "         [0.72299554, 0.69530841]],\n",
       "\n",
       "        [[0.11412166, 0.97278111],\n",
       "         [0.30006246, 0.18438489],\n",
       "         [0.34855383, 0.32421943],\n",
       "         [0.8921305 , 0.83642771]],\n",
       "\n",
       "        [[0.62330168, 0.95990754],\n",
       "         [0.48398342, 0.02382275],\n",
       "         [0.00514575, 0.4315892 ],\n",
       "         [0.07990961, 0.19334185]]],\n",
       "\n",
       "\n",
       "       [[[0.16616957, 0.78994146],\n",
       "         [0.52116613, 0.66221841],\n",
       "         [0.03343662, 0.84332899],\n",
       "         [0.97906804, 0.65058249]],\n",
       "\n",
       "        [[0.8753554 , 0.23295186],\n",
       "         [0.42863231, 0.02604787],\n",
       "         [0.17020493, 0.95505531],\n",
       "         [0.01014251, 0.71656458]],\n",
       "\n",
       "        [[0.72541711, 0.87475333],\n",
       "         [0.15367122, 0.4141197 ],\n",
       "         [0.28725472, 0.98246856],\n",
       "         [0.70561208, 0.69311128]]]])"
      ]
     },
     "execution_count": 51,
     "metadata": {},
     "output_type": "execute_result"
    }
   ],
   "source": [
    "C = np.random.rand(2,3,4,2)\n",
    "C"
   ]
  },
  {
   "cell_type": "code",
   "execution_count": 52,
   "id": "4aafcece",
   "metadata": {},
   "outputs": [
    {
     "data": {
      "text/plain": [
       "array([[ 0,  1,  2,  3,  4,  5,  6,  7,  8,  9, 10, 11, 12, 13, 14, 15,\n",
       "        16, 17, 18, 19, 20, 21, 22, 23, 24],\n",
       "       [25, 26, 27, 28, 29, 30, 31, 32, 33, 34, 35, 36, 37, 38, 39, 40,\n",
       "        41, 42, 43, 44, 45, 46, 47, 48, 49],\n",
       "       [50, 51, 52, 53, 54, 55, 56, 57, 58, 59, 60, 61, 62, 63, 64, 65,\n",
       "        66, 67, 68, 69, 70, 71, 72, 73, 74],\n",
       "       [75, 76, 77, 78, 79, 80, 81, 82, 83, 84, 85, 86, 87, 88, 89, 90,\n",
       "        91, 92, 93, 94, 95, 96, 97, 98, 99]])"
      ]
     },
     "execution_count": 52,
     "metadata": {},
     "output_type": "execute_result"
    }
   ],
   "source": [
    "D = np.arange(100).reshape(4,25)\n",
    "D"
   ]
  },
  {
   "cell_type": "code",
   "execution_count": 53,
   "id": "bed5c3d1",
   "metadata": {},
   "outputs": [
    {
     "data": {
      "text/plain": [
       "2"
      ]
     },
     "execution_count": 53,
     "metadata": {},
     "output_type": "execute_result"
    }
   ],
   "source": [
    "D.ndim"
   ]
  },
  {
   "cell_type": "code",
   "execution_count": 54,
   "id": "18530430",
   "metadata": {},
   "outputs": [
    {
     "data": {
      "text/plain": [
       "array([[[ 0,  1,  2,  3,  4],\n",
       "        [ 5,  6,  7,  8,  9],\n",
       "        [10, 11, 12, 13, 14],\n",
       "        [15, 16, 17, 18, 19],\n",
       "        [20, 21, 22, 23, 24]],\n",
       "\n",
       "       [[25, 26, 27, 28, 29],\n",
       "        [30, 31, 32, 33, 34],\n",
       "        [35, 36, 37, 38, 39],\n",
       "        [40, 41, 42, 43, 44],\n",
       "        [45, 46, 47, 48, 49]],\n",
       "\n",
       "       [[50, 51, 52, 53, 54],\n",
       "        [55, 56, 57, 58, 59],\n",
       "        [60, 61, 62, 63, 64],\n",
       "        [65, 66, 67, 68, 69],\n",
       "        [70, 71, 72, 73, 74]],\n",
       "\n",
       "       [[75, 76, 77, 78, 79],\n",
       "        [80, 81, 82, 83, 84],\n",
       "        [85, 86, 87, 88, 89],\n",
       "        [90, 91, 92, 93, 94],\n",
       "        [95, 96, 97, 98, 99]]])"
      ]
     },
     "execution_count": 54,
     "metadata": {},
     "output_type": "execute_result"
    }
   ],
   "source": [
    "D = np.arange(100).reshape(4,5,5)\n",
    "D"
   ]
  },
  {
   "cell_type": "code",
   "execution_count": 55,
   "id": "f92dbfd0",
   "metadata": {},
   "outputs": [
    {
     "data": {
      "text/plain": [
       "3"
      ]
     },
     "execution_count": 55,
     "metadata": {},
     "output_type": "execute_result"
    }
   ],
   "source": [
    "D.ndim"
   ]
  },
  {
   "cell_type": "markdown",
   "id": "944c2f89",
   "metadata": {},
   "source": [
    "## 4. Slicing\n",
    "* The way to access sub arrays is the same as accessing sub strings and sub lists with the indexing A[start:end:step] also the note of pointers still exist here it does't make a copy of the old array it just gets a view of it in the memory until we use the copy() method.\n",
    "* The NumPy array is mutable (changeable).\n",
    "* A[::-n]: negative steps means it will start picking numbers from the end and -1 to reverse!\n",
    "* To know the index of  specific value in a normal list: Variable = list.index(value) wheras in a NumPy array: Variable = np.where(array==value), it returns the index of the first value it finds and doesn't care about duplicates.\n",
    "* To access the whole row (horizontally): array[N] or array[N,:] where N is the number of the row and : means all elements.\n",
    "* To access the whole column (vertically): array[:,N].\n",
    "* To access sub matrix: array[Row,Column]. you can specify a range as well.\n",
    "* Transpose method: The transpose of a matrix involves switching its rows with its columns.\n",
    "* Inverse method (مقلوب المصفوفة): NumPy has multiple packages like linear algebra which we can use by calling it this way : import numpy.linalg as la and then: la.inv(array).\n",
    "* To sort the rows vertically of an array individually: A.sort(axis=0)\n",
    "* To sort the columns horizontally of an array individually: A.sort(axis=1)"
   ]
  },
  {
   "cell_type": "code",
   "execution_count": 56,
   "id": "c8bed9ce",
   "metadata": {
    "scrolled": true
   },
   "outputs": [
    {
     "data": {
      "text/plain": [
       "array([3, 4, 5, 6, 7, 8, 9])"
      ]
     },
     "execution_count": 56,
     "metadata": {},
     "output_type": "execute_result"
    }
   ],
   "source": [
    "A= np.arange(100)\n",
    "B=A[3:10]\n",
    "B"
   ]
  },
  {
   "cell_type": "code",
   "execution_count": 57,
   "id": "2523d162",
   "metadata": {},
   "outputs": [
    {
     "data": {
      "text/plain": [
       "array([-1200,     4,     5,     6,     7,     8,     9])"
      ]
     },
     "execution_count": 57,
     "metadata": {},
     "output_type": "execute_result"
    }
   ],
   "source": [
    "B[0]=-1200\n",
    "B"
   ]
  },
  {
   "cell_type": "code",
   "execution_count": 58,
   "id": "2c9f7ddf",
   "metadata": {},
   "outputs": [
    {
     "data": {
      "text/plain": [
       "array([    0,     1,     2, -1200,     4,     5,     6,     7,     8,\n",
       "           9,    10,    11,    12,    13,    14,    15,    16,    17,\n",
       "          18,    19,    20,    21,    22,    23,    24,    25,    26,\n",
       "          27,    28,    29,    30,    31,    32,    33,    34,    35,\n",
       "          36,    37,    38,    39,    40,    41,    42,    43,    44,\n",
       "          45,    46,    47,    48,    49,    50,    51,    52,    53,\n",
       "          54,    55,    56,    57,    58,    59,    60,    61,    62,\n",
       "          63,    64,    65,    66,    67,    68,    69,    70,    71,\n",
       "          72,    73,    74,    75,    76,    77,    78,    79,    80,\n",
       "          81,    82,    83,    84,    85,    86,    87,    88,    89,\n",
       "          90,    91,    92,    93,    94,    95,    96,    97,    98,\n",
       "          99])"
      ]
     },
     "execution_count": 58,
     "metadata": {},
     "output_type": "execute_result"
    }
   ],
   "source": [
    "A"
   ]
  },
  {
   "cell_type": "code",
   "execution_count": 59,
   "id": "ded2a1da",
   "metadata": {},
   "outputs": [
    {
     "data": {
      "text/plain": [
       "array([-1200,     4,     5,     6,     7,     8,     9])"
      ]
     },
     "execution_count": 59,
     "metadata": {},
     "output_type": "execute_result"
    }
   ],
   "source": [
    "C=A[3:10].copy()\n",
    "C"
   ]
  },
  {
   "cell_type": "code",
   "execution_count": 60,
   "id": "af584021",
   "metadata": {},
   "outputs": [
    {
     "data": {
      "text/plain": [
       "array([-1200,     8,     5,     6,     7,     8,     9])"
      ]
     },
     "execution_count": 60,
     "metadata": {},
     "output_type": "execute_result"
    }
   ],
   "source": [
    "C[1]=8\n",
    "C"
   ]
  },
  {
   "cell_type": "code",
   "execution_count": 61,
   "id": "c1fc8690",
   "metadata": {},
   "outputs": [
    {
     "data": {
      "text/plain": [
       "array([    0,     1,     2, -1200,     4,     5,     6,     7,     8,\n",
       "           9,    10,    11,    12,    13,    14,    15,    16,    17,\n",
       "          18,    19,    20,    21,    22,    23,    24,    25,    26,\n",
       "          27,    28,    29,    30,    31,    32,    33,    34,    35,\n",
       "          36,    37,    38,    39,    40,    41,    42,    43,    44,\n",
       "          45,    46,    47,    48,    49,    50,    51,    52,    53,\n",
       "          54,    55,    56,    57,    58,    59,    60,    61,    62,\n",
       "          63,    64,    65,    66,    67,    68,    69,    70,    71,\n",
       "          72,    73,    74,    75,    76,    77,    78,    79,    80,\n",
       "          81,    82,    83,    84,    85,    86,    87,    88,    89,\n",
       "          90,    91,    92,    93,    94,    95,    96,    97,    98,\n",
       "          99])"
      ]
     },
     "execution_count": 61,
     "metadata": {},
     "output_type": "execute_result"
    }
   ],
   "source": [
    "A"
   ]
  },
  {
   "cell_type": "code",
   "execution_count": 62,
   "id": "29f18172",
   "metadata": {},
   "outputs": [
    {
     "data": {
      "text/plain": [
       "array([ 0,  5, 10, 15, 20, 25, 30, 35, 40, 45, 50, 55, 60, 65, 70, 75, 80,\n",
       "       85, 90, 95])"
      ]
     },
     "execution_count": 62,
     "metadata": {},
     "output_type": "execute_result"
    }
   ],
   "source": [
    "A[::5]"
   ]
  },
  {
   "cell_type": "code",
   "execution_count": 63,
   "id": "0ddcd970",
   "metadata": {},
   "outputs": [
    {
     "data": {
      "text/plain": [
       "array([99, 94, 89, 84, 79, 74, 69, 64, 59, 54, 49, 44, 39, 34, 29, 24, 19,\n",
       "       14,  9,  4])"
      ]
     },
     "execution_count": 63,
     "metadata": {},
     "output_type": "execute_result"
    }
   ],
   "source": [
    "A[::-5]"
   ]
  },
  {
   "cell_type": "code",
   "execution_count": 64,
   "id": "6a3835e2",
   "metadata": {},
   "outputs": [
    {
     "data": {
      "text/plain": [
       "array([   99,    98,    97,    96,    95,    94,    93,    92,    91,\n",
       "          90,    89,    88,    87,    86,    85,    84,    83,    82,\n",
       "          81,    80,    79,    78,    77,    76,    75,    74,    73,\n",
       "          72,    71,    70,    69,    68,    67,    66,    65,    64,\n",
       "          63,    62,    61,    60,    59,    58,    57,    56,    55,\n",
       "          54,    53,    52,    51,    50,    49,    48,    47,    46,\n",
       "          45,    44,    43,    42,    41,    40,    39,    38,    37,\n",
       "          36,    35,    34,    33,    32,    31,    30,    29,    28,\n",
       "          27,    26,    25,    24,    23,    22,    21,    20,    19,\n",
       "          18,    17,    16,    15,    14,    13,    12,    11,    10,\n",
       "           9,     8,     7,     6,     5,     4, -1200,     2,     1,\n",
       "           0])"
      ]
     },
     "execution_count": 64,
     "metadata": {},
     "output_type": "execute_result"
    }
   ],
   "source": [
    "A[::-1]"
   ]
  },
  {
   "cell_type": "code",
   "execution_count": 65,
   "id": "19f3c015",
   "metadata": {},
   "outputs": [
    {
     "data": {
      "text/plain": [
       "(array([3], dtype=int64),)"
      ]
     },
     "execution_count": 65,
     "metadata": {},
     "output_type": "execute_result"
    }
   ],
   "source": [
    "index = np.where(A==-1200)\n",
    "index"
   ]
  },
  {
   "cell_type": "code",
   "execution_count": 66,
   "id": "1a67acf5",
   "metadata": {},
   "outputs": [
    {
     "data": {
      "text/plain": [
       "[1, 2, 9, 8, 8, 2]"
      ]
     },
     "execution_count": 66,
     "metadata": {},
     "output_type": "execute_result"
    }
   ],
   "source": [
    "X = [1,2,9,8,8,2]\n",
    "X"
   ]
  },
  {
   "cell_type": "code",
   "execution_count": 67,
   "id": "bd12885b",
   "metadata": {},
   "outputs": [
    {
     "data": {
      "text/plain": [
       "1"
      ]
     },
     "execution_count": 67,
     "metadata": {},
     "output_type": "execute_result"
    }
   ],
   "source": [
    "i = X.index(2)\n",
    "i"
   ]
  },
  {
   "cell_type": "code",
   "execution_count": 68,
   "id": "4d12add1",
   "metadata": {},
   "outputs": [
    {
     "data": {
      "text/plain": [
       "array([ 0,  1,  2,  3,  4,  5,  6,  7,  8,  9, 10, 11, 12, 13, 14, 15, 16,\n",
       "       17, 18, 19, 20, 21, 22, 23, 24, 25, 26, 27, 28, 29, 30, 31, 32, 33,\n",
       "       34, 35, 36, 37, 38, 39, 40, 41, 42, 43, 44, 45, 46, 47, 48, 49, 50,\n",
       "       51, 52, 53, 54, 55, 56, 57, 58, 59, 60, 61, 62, 63, 64, 65, 66, 67,\n",
       "       68, 69, 70, 71, 72, 73, 74, 75, 76, 77, 78, 79, 80, 81, 82, 83, 84,\n",
       "       85, 86, 87, 88, 89, 90, 91, 92, 93, 94, 95, 96, 97, 98, 99])"
      ]
     },
     "execution_count": 68,
     "metadata": {},
     "output_type": "execute_result"
    }
   ],
   "source": [
    "A[3]=3\n",
    "A"
   ]
  },
  {
   "cell_type": "code",
   "execution_count": 69,
   "id": "56a5e003",
   "metadata": {},
   "outputs": [
    {
     "data": {
      "text/plain": [
       "array([[2., 7., 5., 4.],\n",
       "       [6., 1., 7., 2.],\n",
       "       [1., 7., 5., 5.],\n",
       "       [9., 7., 9., 7.],\n",
       "       [2., 2., 3., 7.]])"
      ]
     },
     "execution_count": 69,
     "metadata": {},
     "output_type": "execute_result"
    }
   ],
   "source": [
    "A=np.round(10*np.random.rand(5,4)) # 5_1D_arrays_each_with: 4_elements\n",
    "A"
   ]
  },
  {
   "cell_type": "code",
   "execution_count": 70,
   "id": "63dfa3cb",
   "metadata": {},
   "outputs": [
    {
     "data": {
      "text/plain": [
       "7.0"
      ]
     },
     "execution_count": 70,
     "metadata": {},
     "output_type": "execute_result"
    }
   ],
   "source": [
    "A[1,2]"
   ]
  },
  {
   "cell_type": "code",
   "execution_count": 71,
   "id": "b478808f",
   "metadata": {},
   "outputs": [
    {
     "data": {
      "text/plain": [
       "array([6., 1., 7., 2.])"
      ]
     },
     "execution_count": 71,
     "metadata": {},
     "output_type": "execute_result"
    }
   ],
   "source": [
    "A[1]"
   ]
  },
  {
   "cell_type": "code",
   "execution_count": 72,
   "id": "16bf9766",
   "metadata": {},
   "outputs": [
    {
     "data": {
      "text/plain": [
       "array([6., 1., 7., 2.])"
      ]
     },
     "execution_count": 72,
     "metadata": {},
     "output_type": "execute_result"
    }
   ],
   "source": [
    "A[1,:]"
   ]
  },
  {
   "cell_type": "code",
   "execution_count": 73,
   "id": "97e65426",
   "metadata": {},
   "outputs": [
    {
     "data": {
      "text/plain": [
       "array([7., 1., 7., 7., 2.])"
      ]
     },
     "execution_count": 73,
     "metadata": {},
     "output_type": "execute_result"
    }
   ],
   "source": [
    "A[:,1]"
   ]
  },
  {
   "cell_type": "code",
   "execution_count": 74,
   "id": "c994d0bf",
   "metadata": {},
   "outputs": [
    {
     "data": {
      "text/plain": [
       "array([[1., 7.],\n",
       "       [7., 5.],\n",
       "       [7., 9.]])"
      ]
     },
     "execution_count": 74,
     "metadata": {},
     "output_type": "execute_result"
    }
   ],
   "source": [
    "A[1:4,1:3]"
   ]
  },
  {
   "cell_type": "code",
   "execution_count": 75,
   "id": "c6a7fe11",
   "metadata": {},
   "outputs": [
    {
     "data": {
      "text/plain": [
       "array([[2., 7., 5., 4.],\n",
       "       [6., 1., 7., 2.],\n",
       "       [1., 7., 5., 5.],\n",
       "       [9., 7., 9., 7.],\n",
       "       [2., 2., 3., 7.]])"
      ]
     },
     "execution_count": 75,
     "metadata": {},
     "output_type": "execute_result"
    }
   ],
   "source": [
    "A"
   ]
  },
  {
   "cell_type": "code",
   "execution_count": 76,
   "id": "29410a27",
   "metadata": {},
   "outputs": [
    {
     "data": {
      "text/plain": [
       "array([[2., 6., 1., 9., 2.],\n",
       "       [7., 1., 7., 7., 2.],\n",
       "       [5., 7., 5., 9., 3.],\n",
       "       [4., 2., 5., 7., 7.]])"
      ]
     },
     "execution_count": 76,
     "metadata": {},
     "output_type": "execute_result"
    }
   ],
   "source": [
    "A.T"
   ]
  },
  {
   "cell_type": "code",
   "execution_count": 77,
   "id": "0792304f",
   "metadata": {},
   "outputs": [],
   "source": [
    "import numpy.linalg as la"
   ]
  },
  {
   "cell_type": "code",
   "execution_count": 78,
   "id": "17ceb833",
   "metadata": {},
   "outputs": [
    {
     "data": {
      "text/plain": [
       "array([[ 1.67498811,  0.17877077, -0.7750831 ],\n",
       "       [-0.37218486, -0.86613091,  2.73360184],\n",
       "       [-0.66519368,  1.87518873, -1.04800941]])"
      ]
     },
     "execution_count": 78,
     "metadata": {},
     "output_type": "execute_result"
    }
   ],
   "source": [
    "la.inv(np.random.rand(3,3))"
   ]
  },
  {
   "cell_type": "code",
   "execution_count": 79,
   "id": "a41b1e60",
   "metadata": {},
   "outputs": [
    {
     "data": {
      "text/plain": [
       "array([[2., 7., 5., 4.],\n",
       "       [6., 1., 7., 2.],\n",
       "       [1., 7., 5., 5.],\n",
       "       [9., 7., 9., 7.],\n",
       "       [2., 2., 3., 7.]])"
      ]
     },
     "execution_count": 79,
     "metadata": {},
     "output_type": "execute_result"
    }
   ],
   "source": [
    "A"
   ]
  },
  {
   "cell_type": "code",
   "execution_count": 80,
   "id": "092234e4",
   "metadata": {},
   "outputs": [
    {
     "data": {
      "text/plain": [
       "array([[1., 1., 3., 2.],\n",
       "       [2., 2., 5., 4.],\n",
       "       [2., 7., 5., 5.],\n",
       "       [6., 7., 7., 7.],\n",
       "       [9., 7., 9., 7.]])"
      ]
     },
     "execution_count": 80,
     "metadata": {},
     "output_type": "execute_result"
    }
   ],
   "source": [
    "A.sort(axis=0)\n",
    "A"
   ]
  },
  {
   "cell_type": "code",
   "execution_count": 81,
   "id": "5b6be66a",
   "metadata": {},
   "outputs": [
    {
     "data": {
      "text/plain": [
       "array([[1., 1., 2., 3.],\n",
       "       [2., 2., 4., 5.],\n",
       "       [2., 5., 5., 7.],\n",
       "       [6., 7., 7., 7.],\n",
       "       [7., 7., 9., 9.]])"
      ]
     },
     "execution_count": 81,
     "metadata": {},
     "output_type": "execute_result"
    }
   ],
   "source": [
    "A.sort(axis=1)\n",
    "A"
   ]
  },
  {
   "cell_type": "markdown",
   "id": "b6eaaf45",
   "metadata": {},
   "source": [
    "## 5. Masking & Fancy Indexing\n",
    "1. Fancy indexing (array inside an array): Index_array A[[1,3,17]]: here we specify the elements to pick up from the previous array and unlike slicing it creates a copy rather than a view in the memory (pointers).\n",
    "2. Masking:\n",
    "   * Boolean_array A[[True,True,False,True,False]]: same as above whenever you find True pick that element and unlike slicing it\n",
    "     creates a copy rather than a view in the memory (pointers).\n",
    "   * Applying conditions: \n",
    "     - A[A<8]: pick all elements smaller than 8 as value not index.\n",
    "     - A[(A<8) & (A>4)]: pick all elements smaller than 8 and bigger than 4 as value not index\n",
    "#### Note: there are symbols which are the same things but used diferrently the symbols are for for arrays and Variables containing multiple objects wheras 'and' for single objects:\n",
    "  - &, and\n",
    "  - /, or\n",
    "  - ~, not"
   ]
  },
  {
   "cell_type": "code",
   "execution_count": 82,
   "id": "fae410d8",
   "metadata": {},
   "outputs": [
    {
     "data": {
      "text/plain": [
       "array([ 0,  1,  2,  3,  4,  5,  6,  7,  8,  9, 10, 11, 12, 13, 14, 15, 16,\n",
       "       17, 18, 19, 20, 21, 22, 23, 24, 25, 26, 27, 28, 29, 30, 31, 32, 33,\n",
       "       34, 35, 36, 37, 38, 39, 40, 41, 42, 43, 44, 45, 46, 47, 48, 49, 50,\n",
       "       51, 52, 53, 54, 55, 56, 57, 58, 59, 60, 61, 62, 63, 64, 65, 66, 67,\n",
       "       68, 69, 70, 71, 72, 73, 74, 75, 76, 77, 78, 79, 80, 81, 82, 83, 84,\n",
       "       85, 86, 87, 88, 89, 90, 91, 92, 93, 94, 95, 96, 97, 98, 99])"
      ]
     },
     "execution_count": 82,
     "metadata": {},
     "output_type": "execute_result"
    }
   ],
   "source": [
    "A = np.arange(100)\n",
    "A"
   ]
  },
  {
   "cell_type": "code",
   "execution_count": 83,
   "id": "01b9a7d8",
   "metadata": {},
   "outputs": [
    {
     "data": {
      "text/plain": [
       "array([1, 3, 5])"
      ]
     },
     "execution_count": 83,
     "metadata": {},
     "output_type": "execute_result"
    }
   ],
   "source": [
    "B=A[[1,3,5]]\n",
    "B"
   ]
  },
  {
   "cell_type": "code",
   "execution_count": 84,
   "id": "9726c5b3",
   "metadata": {},
   "outputs": [
    {
     "data": {
      "text/plain": [
       "array([-4,  3,  5])"
      ]
     },
     "execution_count": 84,
     "metadata": {},
     "output_type": "execute_result"
    }
   ],
   "source": [
    "B[0]=-4\n",
    "B"
   ]
  },
  {
   "cell_type": "code",
   "execution_count": 85,
   "id": "3374218b",
   "metadata": {},
   "outputs": [
    {
     "data": {
      "text/plain": [
       "array([ 0,  1,  2,  3,  4,  5,  6,  7,  8,  9, 10, 11, 12, 13, 14, 15, 16,\n",
       "       17, 18, 19, 20, 21, 22, 23, 24, 25, 26, 27, 28, 29, 30, 31, 32, 33,\n",
       "       34, 35, 36, 37, 38, 39, 40, 41, 42, 43, 44, 45, 46, 47, 48, 49, 50,\n",
       "       51, 52, 53, 54, 55, 56, 57, 58, 59, 60, 61, 62, 63, 64, 65, 66, 67,\n",
       "       68, 69, 70, 71, 72, 73, 74, 75, 76, 77, 78, 79, 80, 81, 82, 83, 84,\n",
       "       85, 86, 87, 88, 89, 90, 91, 92, 93, 94, 95, 96, 97, 98, 99])"
      ]
     },
     "execution_count": 85,
     "metadata": {},
     "output_type": "execute_result"
    }
   ],
   "source": [
    "A # copy!"
   ]
  },
  {
   "cell_type": "code",
   "execution_count": 86,
   "id": "db706624",
   "metadata": {},
   "outputs": [
    {
     "data": {
      "text/plain": [
       "array([ 0,  1,  2,  3,  4,  5,  6,  7,  8,  9, 10, 11, 12, 13, 14, 15, 16,\n",
       "       17, 18, 19, 20, 21, 22, 23, 24, 25, 26, 27, 28, 29, 30, 31, 32, 33,\n",
       "       34, 35, 36, 37, 38, 39])"
      ]
     },
     "execution_count": 86,
     "metadata": {},
     "output_type": "execute_result"
    }
   ],
   "source": [
    "B=A[A<40]\n",
    "B"
   ]
  },
  {
   "cell_type": "code",
   "execution_count": 87,
   "id": "14c1aa09",
   "metadata": {},
   "outputs": [
    {
     "data": {
      "text/plain": [
       "array([21, 22, 23, 24, 25, 26, 27, 28, 29, 30, 31, 32, 33, 34, 35, 36, 37,\n",
       "       38, 39])"
      ]
     },
     "execution_count": 87,
     "metadata": {},
     "output_type": "execute_result"
    }
   ],
   "source": [
    "C=A[(A<40) & (A>20)]\n",
    "C"
   ]
  },
  {
   "cell_type": "markdown",
   "id": "41499064",
   "metadata": {},
   "source": [
    "## 6. Broadcasting\n",
    "Broadcasting in NumPy is a mechanism that allows arrays with different shapes to be combined together in arithmetic operations. As you know in maths adding two matrices or arrays together have to have the exact same dimensions and elements but broadcasting does just that automatically just with the same number of dimensions only is enough. However, it has some rules and it's not always possible. Here are some other useful functions:\n",
    "- np.round(array): same as normal round in Python where irt rounds every number inside the array.\n",
    "- np.vstack(tuple) & np.hstack(tuple): merges the elements of each array together, the tuple takes in two arrays however:\n",
    "  * For horizontal stack they both have to have the same amount of dimensions.\n",
    "  * For vertical stack they both have to have the same dimensions (not the amount) & same number of elements.\n",
    "- np.sort(array) or array.sort(): sorts elements inside the given array ascendingly and for words/letters in an alphabetical order.If you want to reverse it just array = array[::-1]."
   ]
  },
  {
   "cell_type": "code",
   "execution_count": 88,
   "id": "d078c45e",
   "metadata": {},
   "outputs": [
    {
     "data": {
      "text/plain": [
       "array([[6., 8., 8.],\n",
       "       [2., 8., 4.]])"
      ]
     },
     "execution_count": 88,
     "metadata": {},
     "output_type": "execute_result"
    }
   ],
   "source": [
    "A=np.round(10*np.random.rand(2,3)) # 2_1D_arrays_each_with: 3_elements\n",
    "A"
   ]
  },
  {
   "cell_type": "code",
   "execution_count": 89,
   "id": "c36808e6",
   "metadata": {},
   "outputs": [
    {
     "data": {
      "text/plain": [
       "array([[ 9., 11., 11.],\n",
       "       [ 5., 11.,  7.]])"
      ]
     },
     "execution_count": 89,
     "metadata": {},
     "output_type": "execute_result"
    }
   ],
   "source": [
    "A+3 # Broadcasting"
   ]
  },
  {
   "cell_type": "code",
   "execution_count": 90,
   "id": "0005b3a5",
   "metadata": {
    "scrolled": true
   },
   "outputs": [
    {
     "data": {
      "text/plain": [
       "array([[6., 8., 8.],\n",
       "       [2., 8., 4.]])"
      ]
     },
     "execution_count": 90,
     "metadata": {},
     "output_type": "execute_result"
    }
   ],
   "source": [
    "A"
   ]
  },
  {
   "cell_type": "code",
   "execution_count": 91,
   "id": "5a367be0",
   "metadata": {},
   "outputs": [
    {
     "data": {
      "text/plain": [
       "array([[6., 8., 8.],\n",
       "       [3., 9., 5.]])"
      ]
     },
     "execution_count": 91,
     "metadata": {},
     "output_type": "execute_result"
    }
   ],
   "source": [
    "A+(np.arange(2).reshape(2,1))"
   ]
  },
  {
   "cell_type": "code",
   "execution_count": 92,
   "id": "67c9d791",
   "metadata": {},
   "outputs": [
    {
     "data": {
      "text/plain": [
       "array([[6., 8., 8.],\n",
       "       [2., 8., 4.]])"
      ]
     },
     "execution_count": 92,
     "metadata": {},
     "output_type": "execute_result"
    }
   ],
   "source": [
    "A"
   ]
  },
  {
   "cell_type": "code",
   "execution_count": 93,
   "id": "8aa74e2b",
   "metadata": {},
   "outputs": [
    {
     "data": {
      "text/plain": [
       "array([[3., 2.],\n",
       "       [7., 9.]])"
      ]
     },
     "execution_count": 93,
     "metadata": {},
     "output_type": "execute_result"
    }
   ],
   "source": [
    "B=np.round(10*np.random.rand(2,2)) # 2_1D_arrays_each_with: 2_elements\n",
    "B"
   ]
  },
  {
   "cell_type": "code",
   "execution_count": 95,
   "id": "d80a8b11",
   "metadata": {},
   "outputs": [
    {
     "data": {
      "text/plain": [
       "array([[6., 8., 8., 3., 2.],\n",
       "       [2., 8., 4., 7., 9.]])"
      ]
     },
     "execution_count": 95,
     "metadata": {},
     "output_type": "execute_result"
    }
   ],
   "source": [
    "C=np.hstack((A,B)) # hstack same N° of rows\n",
    "C"
   ]
  },
  {
   "cell_type": "code",
   "execution_count": 97,
   "id": "f5978cb5",
   "metadata": {},
   "outputs": [
    {
     "data": {
      "text/plain": [
       "array([[9., 5., 3.],\n",
       "       [0., 8., 9.],\n",
       "       [4., 9., 6.]])"
      ]
     },
     "execution_count": 97,
     "metadata": {},
     "output_type": "execute_result"
    }
   ],
   "source": [
    "D=np.round(10*np.random.rand(3,3)) # 2_1D_arrays_each_with: 2_elements\n",
    "D"
   ]
  },
  {
   "cell_type": "code",
   "execution_count": 98,
   "id": "ab15603a",
   "metadata": {},
   "outputs": [
    {
     "data": {
      "text/plain": [
       "array([[6., 8., 8.],\n",
       "       [2., 8., 4.],\n",
       "       [9., 5., 3.],\n",
       "       [0., 8., 9.],\n",
       "       [4., 9., 6.]])"
      ]
     },
     "execution_count": 98,
     "metadata": {},
     "output_type": "execute_result"
    }
   ],
   "source": [
    "E=np.vstack((A,D)) # vstack same N° of columns\n",
    "E"
   ]
  },
  {
   "cell_type": "code",
   "execution_count": 99,
   "id": "b6a4462c",
   "metadata": {},
   "outputs": [
    {
     "data": {
      "text/plain": [
       "array([6, 1, 3, 7, 5, 9, 0, 4, 8, 2])"
      ]
     },
     "execution_count": 99,
     "metadata": {},
     "output_type": "execute_result"
    }
   ],
   "source": [
    "PS=np.random.permutation(np.arange(10))\n",
    "PS"
   ]
  },
  {
   "cell_type": "code",
   "execution_count": 102,
   "id": "fb179426",
   "metadata": {},
   "outputs": [
    {
     "data": {
      "text/plain": [
       "array([0, 1, 2, 3, 4, 5, 6, 7, 8, 9])"
      ]
     },
     "execution_count": 102,
     "metadata": {},
     "output_type": "execute_result"
    }
   ],
   "source": [
    "PS.sort()\n",
    "PS"
   ]
  },
  {
   "cell_type": "code",
   "execution_count": 103,
   "id": "c07b0944",
   "metadata": {},
   "outputs": [
    {
     "data": {
      "text/plain": [
       "array([0, 1, 2, 3, 4, 5, 6, 7, 8, 9])"
      ]
     },
     "execution_count": 103,
     "metadata": {},
     "output_type": "execute_result"
    }
   ],
   "source": [
    "np.sort(PS)"
   ]
  },
  {
   "cell_type": "code",
   "execution_count": 106,
   "id": "a4dc6431",
   "metadata": {},
   "outputs": [
    {
     "data": {
      "text/plain": [
       "array([9, 8, 7, 6, 5, 4, 3, 2, 1, 0])"
      ]
     },
     "execution_count": 106,
     "metadata": {},
     "output_type": "execute_result"
    }
   ],
   "source": [
    "PS = PS[::-1]\n",
    "PS"
   ]
  },
  {
   "cell_type": "code",
   "execution_count": 107,
   "id": "aaf9a560",
   "metadata": {},
   "outputs": [
    {
     "data": {
      "text/plain": [
       "array(['abc', 'how are you', 'u765', '13er'], dtype='<U11')"
      ]
     },
     "execution_count": 107,
     "metadata": {},
     "output_type": "execute_result"
    }
   ],
   "source": [
    "A=np.array([\"abc\",'how are you','u765','13er'])\n",
    "A"
   ]
  },
  {
   "cell_type": "code",
   "execution_count": 109,
   "id": "1a8683c0",
   "metadata": {},
   "outputs": [
    {
     "data": {
      "text/plain": [
       "array(['13er', 'abc', 'how are you', 'u765'], dtype='<U11')"
      ]
     },
     "execution_count": 109,
     "metadata": {},
     "output_type": "execute_result"
    }
   ],
   "source": [
    "A.sort()\n",
    "A"
   ]
  },
  {
   "cell_type": "markdown",
   "id": "12b1b24a",
   "metadata": {},
   "source": [
    "## 7. Speed ufuncs in NumPy\n",
    "The NumPy universal functions are much faster that Python's built-in functions let alone the customed ones.\n",
    "* %timeit which is a command in Python to time the execution of a single line of code or a small code snippet. It helps you measure the performance of your code by running it multiple times and calculating the average execution time.\n",
    "* Avoid For loops and Python's built-in funcs and use NumPy funcs whenever possible to optimise the code's performance."
   ]
  },
  {
   "cell_type": "code",
   "execution_count": 110,
   "id": "90e4a99c",
   "metadata": {},
   "outputs": [
    {
     "name": "stdout",
     "output_type": "stream",
     "text": [
      "62.5 ms ± 2.44 ms per loop (mean ± std. dev. of 7 runs, 10 loops each)\n",
      "320 µs ± 21.7 µs per loop (mean ± std. dev. of 7 runs, 1,000 loops each)\n"
     ]
    }
   ],
   "source": [
    "b=np.random.rand(1000000)\n",
    "%timeit sum(b) #Py func\n",
    "%timeit np.sum(b) #Np func"
   ]
  },
  {
   "cell_type": "code",
   "execution_count": 112,
   "id": "9595e618",
   "metadata": {},
   "outputs": [
    {
     "name": "stdout",
     "output_type": "stream",
     "text": [
      "73.2 ms ± 2.53 ms per loop (mean ± std. dev. of 7 runs, 10 loops each)\n"
     ]
    }
   ],
   "source": [
    "def MySum(G): #Cust func\n",
    "    s=0\n",
    "    for x in G:\n",
    "        s+=x\n",
    "    return s\n",
    "\n",
    "%timeit MySum(b)"
   ]
  }
 ],
 "metadata": {
  "kernelspec": {
   "display_name": "Python 3 (ipykernel)",
   "language": "python",
   "name": "python3"
  },
  "language_info": {
   "codemirror_mode": {
    "name": "ipython",
    "version": 3
   },
   "file_extension": ".py",
   "mimetype": "text/x-python",
   "name": "python",
   "nbconvert_exporter": "python",
   "pygments_lexer": "ipython3",
   "version": "3.11.5"
  }
 },
 "nbformat": 4,
 "nbformat_minor": 5
}
