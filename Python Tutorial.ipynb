{
 "cells": [
  {
   "cell_type": "markdown",
   "id": "0b8b97eb",
   "metadata": {},
   "source": [
    "* In Jupyter we have a code cell and a markdown cell which is like a heading we use to write notes and comments:\n",
    "  - Press ESCAPE + m: to switch to a markdown cell.\n",
    "    For a heading add # and SPACE before the text and nothing for a normal comment.\n",
    "  - Press ESCAPE + y: to switch to a code cell.\n",
    "  - Then SHIFT + ENTER to run.\n",
    "* You can check the different shortcuts by going to help -> keyboard shortcuts like dd to delete a cell and directions to switch   between the cells.\n",
    "\n",
    "# Print text \"code file\""
   ]
  },
  {
   "cell_type": "code",
   "execution_count": 46,
   "id": "b5991bb5",
   "metadata": {},
   "outputs": [
    {
     "name": "stdout",
     "output_type": "stream",
     "text": [
      "Hello World!\n"
     ]
    }
   ],
   "source": [
    "print(\"Hello World!\")"
   ]
  },
  {
   "cell_type": "markdown",
   "id": "ba158f76",
   "metadata": {},
   "source": [
    "# Print mathematical equation \"mardkdown file\"\n",
    "- We put the equation between dollar signs:\n",
    "* $a=b+c$"
   ]
  },
  {
   "cell_type": "markdown",
   "id": "d17baada",
   "metadata": {},
   "source": [
    "# Variables and datatypes\n",
    "* Each variable has a name (x, y, xy ...) which can't start with a number or any type of symbol besides under score \"tiret de 8\", a type (string, int, float, complex, bool, list, tuple, set, dictionary ...) and a value that is assigned to it.\n",
    "* To make multiple asssignements: a,b=5,6.0.\n",
    "* To print a variable: print(a).\n",
    "* To print the type of that variable: print(type(a)) or type(a).\n",
    "* To get info about all variables: %whos.\n",
    "* To delete a variable: del x. and if you try to access the variable again print (x) you'll get an error."
   ]
  },
  {
   "cell_type": "code",
   "execution_count": 47,
   "id": "a3224901",
   "metadata": {},
   "outputs": [
    {
     "name": "stdout",
     "output_type": "stream",
     "text": [
      "5\n"
     ]
    }
   ],
   "source": [
    "a,b=5,2.9\n",
    "print(a)"
   ]
  },
  {
   "cell_type": "code",
   "execution_count": 48,
   "id": "9e5b1f5f",
   "metadata": {},
   "outputs": [
    {
     "name": "stdout",
     "output_type": "stream",
     "text": [
      "2.9\n"
     ]
    }
   ],
   "source": [
    "print(b)"
   ]
  },
  {
   "cell_type": "code",
   "execution_count": 49,
   "id": "ab2bbd07",
   "metadata": {},
   "outputs": [
    {
     "name": "stdout",
     "output_type": "stream",
     "text": [
      "<class 'int'>\n"
     ]
    }
   ],
   "source": [
    "print(type(a))"
   ]
  },
  {
   "cell_type": "code",
   "execution_count": 50,
   "id": "deb26dd2",
   "metadata": {},
   "outputs": [
    {
     "name": "stdout",
     "output_type": "stream",
     "text": [
      "Variable   Type     Data/Info\n",
      "-----------------------------\n",
      "L          list     n=5\n",
      "a          int      5\n",
      "b          float    2.9\n",
      "c          float    69.0\n",
      "i          int      8\n",
      "n          int      5\n",
      "x          float    238.915\n",
      "y          int      238\n"
     ]
    }
   ],
   "source": [
    "%whos"
   ]
  },
  {
   "cell_type": "code",
   "execution_count": 51,
   "id": "b45acd5f",
   "metadata": {},
   "outputs": [
    {
     "name": "stdout",
     "output_type": "stream",
     "text": [
      "<class 'complex'>\n"
     ]
    }
   ],
   "source": [
    "c = 2 + 4j\n",
    "print(type(c))"
   ]
  },
  {
   "cell_type": "code",
   "execution_count": 52,
   "id": "44cd8db8",
   "metadata": {},
   "outputs": [
    {
     "name": "stdout",
     "output_type": "stream",
     "text": [
      "<class 'str'>\n"
     ]
    }
   ],
   "source": [
    "d = \"Gehen wir los\"\n",
    "print(type(d))"
   ]
  },
  {
   "cell_type": "markdown",
   "id": "a784706b",
   "metadata": {},
   "source": [
    "# Operators\n",
    "Here are the different types of operators we can add not only on numbers and give each time you make an operation give the result a name: addition (+), substraction (-), division (/), modulo (%) \"to calculate the remainder (الباقي)\", multiplication (*), floor devision (//) \"to calculate only the integer part of a division in case the result is float else it's like a normal division\" & to the power of (**)"
   ]
  },
  {
   "cell_type": "code",
   "execution_count": 53,
   "id": "86dc7c52",
   "metadata": {},
   "outputs": [
    {
     "name": "stdout",
     "output_type": "stream",
     "text": [
      "13\n"
     ]
    }
   ],
   "source": [
    "a,b=10,3\n",
    "SumOfaAndb= a+b\n",
    "print(SumOfaAndb)"
   ]
  },
  {
   "cell_type": "code",
   "execution_count": 54,
   "id": "f45cd6c6",
   "metadata": {},
   "outputs": [
    {
     "name": "stdout",
     "output_type": "stream",
     "text": [
      "7\n"
     ]
    }
   ],
   "source": [
    "aSubb= a-b\n",
    "print(aSubb)"
   ]
  },
  {
   "cell_type": "code",
   "execution_count": 55,
   "id": "6c7ec9f1",
   "metadata": {},
   "outputs": [
    {
     "name": "stdout",
     "output_type": "stream",
     "text": [
      "30\n"
     ]
    }
   ],
   "source": [
    "MulOfaAndb= a*b\n",
    "print(MulOfaAndb)"
   ]
  },
  {
   "cell_type": "code",
   "execution_count": 56,
   "id": "7fddde25",
   "metadata": {},
   "outputs": [
    {
     "name": "stdout",
     "output_type": "stream",
     "text": [
      "3.3333333333333335\n"
     ]
    }
   ],
   "source": [
    "DevOfaOnb= a/b\n",
    "print(DevOfaOnb)"
   ]
  },
  {
   "cell_type": "code",
   "execution_count": 57,
   "id": "0c120b23",
   "metadata": {},
   "outputs": [
    {
     "name": "stdout",
     "output_type": "stream",
     "text": [
      "1\n"
     ]
    }
   ],
   "source": [
    "ModaOnb= a%b\n",
    "print(ModaOnb)"
   ]
  },
  {
   "cell_type": "code",
   "execution_count": 58,
   "id": "b3b46103",
   "metadata": {},
   "outputs": [
    {
     "name": "stdout",
     "output_type": "stream",
     "text": [
      "3\n"
     ]
    }
   ],
   "source": [
    "FloorDevOfaOnb= a//b\n",
    "print(FloorDevOfaOnb)"
   ]
  },
  {
   "cell_type": "code",
   "execution_count": 59,
   "id": "134f3533",
   "metadata": {},
   "outputs": [
    {
     "name": "stdout",
     "output_type": "stream",
     "text": [
      "1000\n"
     ]
    }
   ],
   "source": [
    "aPowerb= a**b\n",
    "print(aPowerb)"
   ]
  },
  {
   "cell_type": "code",
   "execution_count": 60,
   "id": "d9c29af2",
   "metadata": {},
   "outputs": [
    {
     "name": "stdout",
     "output_type": "stream",
     "text": [
      "Nadir Zamouche\n"
     ]
    }
   ],
   "source": [
    "a=\"Nadir \"\n",
    "b=\"Zamouche\"\n",
    "SumOfaAndb = a+b\n",
    "print(SumOfaAndb)"
   ]
  },
  {
   "cell_type": "markdown",
   "id": "e503ebce",
   "metadata": {},
   "source": [
    "# Type bool and Comparisions\n",
    "* The Bool datatype has only 2 values true or false and unlike other programming languages like C++, Python does not accept 1 as \n",
    "  true and 0 as false.\n",
    "* Here are the different comparision symbols:\n",
    "  - ==   : true if equal.\n",
    "  - !=   : true if not equal.\n",
    "  - <    : less than.\n",
    "  - '>'  : greater than.\n",
    "  - <=   : less than or equal.\n",
    "  - '>'= : greater than or equal.\n",
    "* Here are the different operators that are useful in comparisions:\n",
    "  - And: if both are true so the result is true else it's false:\n",
    "    * True and True: True.\n",
    "    * True and False: False.\n",
    "    * False and True: False.\n",
    "    * False and False: False.\n",
    "  - Or: if one is true so the result is true else it's false:\n",
    "    * True or True: True.\n",
    "    * True or False: true.\n",
    "    * False or True: True.\n",
    "    * False or False: False.\n",
    "  #### Note: And is always applied first then comes Or. However if we use parenthesis whatever is inside takes place first:"
   ]
  },
  {
   "cell_type": "code",
   "execution_count": 61,
   "id": "3d65084b",
   "metadata": {},
   "outputs": [],
   "source": [
    "A= True\n",
    "B= True\n",
    "C= False"
   ]
  },
  {
   "cell_type": "code",
   "execution_count": 62,
   "id": "e845843c",
   "metadata": {},
   "outputs": [
    {
     "name": "stdout",
     "output_type": "stream",
     "text": [
      "Variable         Type       Data/Info\n",
      "-------------------------------------\n",
      "A                bool       True\n",
      "B                bool       True\n",
      "C                bool       False\n",
      "DevOfaOnb        float      3.3333333333333335\n",
      "FloorDevOfaOnb   int        3\n",
      "L                list       n=5\n",
      "ModaOnb          int        1\n",
      "MulOfaAndb       int        30\n",
      "SumOfaAndb       str        Nadir Zamouche\n",
      "a                str        Nadir \n",
      "aPowerb          int        1000\n",
      "aSubb            int        7\n",
      "b                str        Zamouche\n",
      "c                complex    (2+4j)\n",
      "d                str        Gehen wir los\n",
      "i                int        8\n",
      "n                int        5\n",
      "x                float      238.915\n",
      "y                int        238\n"
     ]
    }
   ],
   "source": [
    "%whos"
   ]
  },
  {
   "cell_type": "code",
   "execution_count": 63,
   "id": "c064574c",
   "metadata": {},
   "outputs": [
    {
     "name": "stdout",
     "output_type": "stream",
     "text": [
      "True\n",
      "False\n",
      "False\n",
      "False\n"
     ]
    }
   ],
   "source": [
    "print (A and B)\n",
    "print (A and C)\n",
    "print (C and A)\n",
    "print (C and C)"
   ]
  },
  {
   "cell_type": "code",
   "execution_count": 64,
   "id": "d27efed1",
   "metadata": {},
   "outputs": [
    {
     "name": "stdout",
     "output_type": "stream",
     "text": [
      "True\n",
      "True\n",
      "True\n",
      "False\n"
     ]
    }
   ],
   "source": [
    "print (A or B)\n",
    "print (A or C)\n",
    "print (C or A)\n",
    "print (C or C)"
   ]
  },
  {
   "cell_type": "code",
   "execution_count": 65,
   "id": "4103a29f",
   "metadata": {},
   "outputs": [
    {
     "name": "stdout",
     "output_type": "stream",
     "text": [
      "False\n"
     ]
    }
   ],
   "source": [
    "D= not(A)\n",
    "print (D)"
   ]
  },
  {
   "cell_type": "code",
   "execution_count": 66,
   "id": "4bfb163a",
   "metadata": {},
   "outputs": [
    {
     "data": {
      "text/plain": [
       "bool"
      ]
     },
     "execution_count": 66,
     "metadata": {},
     "output_type": "execute_result"
    }
   ],
   "source": [
    "type(A)"
   ]
  },
  {
   "cell_type": "code",
   "execution_count": 67,
   "id": "57f70773",
   "metadata": {},
   "outputs": [
    {
     "data": {
      "text/plain": [
       "False"
      ]
     },
     "execution_count": 67,
     "metadata": {},
     "output_type": "execute_result"
    }
   ],
   "source": [
    "not((A and B) or (C and D))"
   ]
  },
  {
   "cell_type": "code",
   "execution_count": 68,
   "id": "cbec58e6",
   "metadata": {},
   "outputs": [
    {
     "name": "stdout",
     "output_type": "stream",
     "text": [
      "True\n",
      "False\n",
      "True\n"
     ]
    }
   ],
   "source": [
    "print(2<3)\n",
    "print(2>3)\n",
    "print(3==3.0)"
   ]
  },
  {
   "cell_type": "code",
   "execution_count": 69,
   "id": "064f1985",
   "metadata": {},
   "outputs": [
    {
     "data": {
      "text/plain": [
       "True"
      ]
     },
     "execution_count": 69,
     "metadata": {},
     "output_type": "execute_result"
    }
   ],
   "source": [
    "True or False and False"
   ]
  },
  {
   "cell_type": "code",
   "execution_count": 70,
   "id": "0e05b537",
   "metadata": {},
   "outputs": [
    {
     "data": {
      "text/plain": [
       "True"
      ]
     },
     "execution_count": 70,
     "metadata": {},
     "output_type": "execute_result"
    }
   ],
   "source": [
    "False and False or True"
   ]
  },
  {
   "cell_type": "code",
   "execution_count": 71,
   "id": "34db5a8f",
   "metadata": {},
   "outputs": [
    {
     "data": {
      "text/plain": [
       "False"
      ]
     },
     "execution_count": 71,
     "metadata": {},
     "output_type": "execute_result"
    }
   ],
   "source": [
    "(True or False) and False"
   ]
  },
  {
   "cell_type": "code",
   "execution_count": 72,
   "id": "f230f3bc",
   "metadata": {},
   "outputs": [
    {
     "data": {
      "text/plain": [
       "False"
      ]
     },
     "execution_count": 72,
     "metadata": {},
     "output_type": "execute_result"
    }
   ],
   "source": [
    "((not(2!=3) and True) or (False and True))"
   ]
  },
  {
   "cell_type": "markdown",
   "id": "8f260f4d",
   "metadata": {},
   "source": [
    "# Some useful functions\n",
    "* round(a): function rounds the value to the nearest value to a specific number of places or to the nearest integer (up if .5 or heigher else keep). However if i add for example : print(round(3.462,1)) one number after the come will be rounded no the integer so ,0 is basically for integer.\n",
    "* divmod(x,y): function outputs the quotient and the remainder (a combination floor division and modulo) in a tuple (a tuple is a collection of 2 or more elements which we'll see in the data structure module) and you can index the tuple from 0 or 1 to show each number seperatly.\n",
    "* isinstance(): function checks if a certain value belongs to a specific or a bunch of data type(s) thus it returns true or false.\n",
    "* pow(x,y): function raises x to the power of y: x**y.\n",
    "* pow(x,y,z): function raises x to the power of y and remainder by z: x**y%z.\n",
    "* input(): function allows the user to enter something as string always! but so that we can operate on it (mathematically) we can change its datatype afterwards like this x = int x or just immediatly like this: x = float(input(\"enter a number :\")) but even here if the user enters a set of characters i'll catch an error if you remember there has to be some sort of exception handling for every possible situation like i previously did.\n",
    "- To learn and get more infos about a function you can just functionname? or help(functionname)"
   ]
  },
  {
   "cell_type": "code",
   "execution_count": 73,
   "id": "f22273dc",
   "metadata": {},
   "outputs": [
    {
     "name": "stdout",
     "output_type": "stream",
     "text": [
      "4\n",
      "3\n",
      "3.5\n",
      "3.49\n"
     ]
    }
   ],
   "source": [
    "print(round(3.5895849479))\n",
    "print(round(3.4895849479))\n",
    "print(round(3.4895849479,1))\n",
    "print(round(3.4895849479,2))"
   ]
  },
  {
   "cell_type": "code",
   "execution_count": 74,
   "id": "88b05519",
   "metadata": {},
   "outputs": [
    {
     "data": {
      "text/plain": [
       "(2, 2)"
      ]
     },
     "execution_count": 74,
     "metadata": {},
     "output_type": "execute_result"
    }
   ],
   "source": [
    "divmod(22,10)"
   ]
  },
  {
   "cell_type": "code",
   "execution_count": 75,
   "id": "88518fef",
   "metadata": {},
   "outputs": [
    {
     "data": {
      "text/plain": [
       "(3, 7)"
      ]
     },
     "execution_count": 75,
     "metadata": {},
     "output_type": "execute_result"
    }
   ],
   "source": [
    "divmod(34,9)"
   ]
  },
  {
   "cell_type": "code",
   "execution_count": 76,
   "id": "4c984168",
   "metadata": {},
   "outputs": [
    {
     "name": "stdout",
     "output_type": "stream",
     "text": [
      "(3, 1)\n"
     ]
    }
   ],
   "source": [
    "G = divmod(10,3)\n",
    "print(G)"
   ]
  },
  {
   "cell_type": "code",
   "execution_count": 77,
   "id": "19b0fbb1",
   "metadata": {},
   "outputs": [
    {
     "name": "stdout",
     "output_type": "stream",
     "text": [
      "(3, 1)\n"
     ]
    }
   ],
   "source": [
    "print(G)"
   ]
  },
  {
   "cell_type": "code",
   "execution_count": 78,
   "id": "1d0c2dba",
   "metadata": {},
   "outputs": [
    {
     "name": "stdout",
     "output_type": "stream",
     "text": [
      "<class 'tuple'>\n"
     ]
    }
   ],
   "source": [
    "print(type(G))"
   ]
  },
  {
   "cell_type": "code",
   "execution_count": 79,
   "id": "76b293b1",
   "metadata": {},
   "outputs": [
    {
     "data": {
      "text/plain": [
       "tuple"
      ]
     },
     "execution_count": 79,
     "metadata": {},
     "output_type": "execute_result"
    }
   ],
   "source": [
    "type(G)"
   ]
  },
  {
   "cell_type": "code",
   "execution_count": 80,
   "id": "b9739acd",
   "metadata": {},
   "outputs": [
    {
     "data": {
      "text/plain": [
       "3"
      ]
     },
     "execution_count": 80,
     "metadata": {},
     "output_type": "execute_result"
    }
   ],
   "source": [
    "G[0]"
   ]
  },
  {
   "cell_type": "code",
   "execution_count": 81,
   "id": "c4a987f2",
   "metadata": {},
   "outputs": [
    {
     "data": {
      "text/plain": [
       "1"
      ]
     },
     "execution_count": 81,
     "metadata": {},
     "output_type": "execute_result"
    }
   ],
   "source": [
    "G[1]"
   ]
  },
  {
   "cell_type": "code",
   "execution_count": 82,
   "id": "74b40f57",
   "metadata": {},
   "outputs": [
    {
     "data": {
      "text/plain": [
       "True"
      ]
     },
     "execution_count": 82,
     "metadata": {},
     "output_type": "execute_result"
    }
   ],
   "source": [
    "isinstance(1, int)"
   ]
  },
  {
   "cell_type": "code",
   "execution_count": 83,
   "id": "8eed41d8",
   "metadata": {},
   "outputs": [
    {
     "data": {
      "text/plain": [
       "False"
      ]
     },
     "execution_count": 83,
     "metadata": {},
     "output_type": "execute_result"
    }
   ],
   "source": [
    "isinstance(1.0, int)"
   ]
  },
  {
   "cell_type": "code",
   "execution_count": 84,
   "id": "0f1710d9",
   "metadata": {},
   "outputs": [
    {
     "data": {
      "text/plain": [
       "True"
      ]
     },
     "execution_count": 84,
     "metadata": {},
     "output_type": "execute_result"
    }
   ],
   "source": [
    "isinstance(1.0, (int, float))"
   ]
  },
  {
   "cell_type": "code",
   "execution_count": 85,
   "id": "88bfa520",
   "metadata": {},
   "outputs": [
    {
     "name": "stdout",
     "output_type": "stream",
     "text": [
      "8\n",
      "8\n"
     ]
    }
   ],
   "source": [
    "x= 2\n",
    "y= 3\n",
    "print(pow(2,3))\n",
    "print(2**3)"
   ]
  },
  {
   "cell_type": "code",
   "execution_count": 86,
   "id": "a249e8a3",
   "metadata": {},
   "outputs": [
    {
     "name": "stdout",
     "output_type": "stream",
     "text": [
      "0\n",
      "0\n"
     ]
    }
   ],
   "source": [
    "z=4\n",
    "print(pow(2,3,4))\n",
    "print(2**3%4)"
   ]
  },
  {
   "cell_type": "code",
   "execution_count": 87,
   "id": "4ea657d5",
   "metadata": {},
   "outputs": [
    {
     "name": "stdout",
     "output_type": "stream",
     "text": [
      "enter a number :31\n"
     ]
    }
   ],
   "source": [
    "x = input(\"enter a number :\")"
   ]
  },
  {
   "cell_type": "code",
   "execution_count": 88,
   "id": "3e5e1db5",
   "metadata": {},
   "outputs": [
    {
     "data": {
      "text/plain": [
       "str"
      ]
     },
     "execution_count": 88,
     "metadata": {},
     "output_type": "execute_result"
    }
   ],
   "source": [
    "type(x)"
   ]
  },
  {
   "cell_type": "code",
   "execution_count": 89,
   "id": "241e50f8",
   "metadata": {},
   "outputs": [
    {
     "data": {
      "text/plain": [
       "int"
      ]
     },
     "execution_count": 89,
     "metadata": {},
     "output_type": "execute_result"
    }
   ],
   "source": [
    "x= int(x)\n",
    "type(x)"
   ]
  },
  {
   "cell_type": "code",
   "execution_count": 90,
   "id": "e4f295d0",
   "metadata": {},
   "outputs": [
    {
     "name": "stdout",
     "output_type": "stream",
     "text": [
      "29\n"
     ]
    }
   ],
   "source": [
    "print(x-2)"
   ]
  },
  {
   "cell_type": "code",
   "execution_count": 91,
   "id": "110a3bd8",
   "metadata": {},
   "outputs": [
    {
     "name": "stdout",
     "output_type": "stream",
     "text": [
      "enter a number :29\n"
     ]
    },
    {
     "data": {
      "text/plain": [
       "float"
      ]
     },
     "execution_count": 91,
     "metadata": {},
     "output_type": "execute_result"
    }
   ],
   "source": [
    "x = float(input(\"enter a number :\"))\n",
    "type(x)"
   ]
  },
  {
   "cell_type": "code",
   "execution_count": 92,
   "id": "884d0532",
   "metadata": {},
   "outputs": [
    {
     "name": "stdout",
     "output_type": "stream",
     "text": [
      "Enter a number: Nadir\n",
      "Invalid input. Please enter a valid number.\n",
      "Enter a number: 29\n",
      "done\n"
     ]
    }
   ],
   "source": [
    "while True:\n",
    "    try:\n",
    "        x = float(input(\"Enter a number: \"))\n",
    "        print(\"done\")\n",
    "        break  # Exit the loop if input is successfully converted to float\n",
    "    except ValueError:\n",
    "        print(\"Invalid input. Please enter a valid number.\")"
   ]
  },
  {
   "cell_type": "code",
   "execution_count": 93,
   "id": "672c98f3",
   "metadata": {},
   "outputs": [],
   "source": [
    "pow?"
   ]
  },
  {
   "cell_type": "code",
   "execution_count": 95,
   "id": "19a28b9a",
   "metadata": {},
   "outputs": [
    {
     "name": "stdout",
     "output_type": "stream",
     "text": [
      "Help on built-in function pow in module builtins:\n",
      "\n",
      "pow(base, exp, mod=None)\n",
      "    Equivalent to base**exp with 2 arguments or base**exp % mod with 3 arguments\n",
      "    \n",
      "    Some types, such as ints, are able to use a more efficient algorithm when\n",
      "    invoked using the three argument form.\n",
      "\n"
     ]
    }
   ],
   "source": [
    "help(pow)"
   ]
  },
  {
   "cell_type": "markdown",
   "id": "d6beee4f",
   "metadata": {},
   "source": [
    "# If and Nested If\n",
    "* If condition: here is the syntax if condition: +ENTER code to execute anything outside the condition will be executed normally and similarly to C++ there is if, elif & else and the priority is from top to bottom.\n",
    "* Nested If: is a situation where we have an If condition inside of another If condition.\n",
    "###### Note 1: to mention number with text in the same line you need to data convert number to string +str(StringVaraible)\n",
    "###### Note 2: always keep that all probabilities thinking."
   ]
  },
  {
   "cell_type": "code",
   "execution_count": 96,
   "id": "73a5c84f",
   "metadata": {},
   "outputs": [
    {
     "name": "stdout",
     "output_type": "stream",
     "text": [
      "Enter a number: 29\n",
      "Enter another number: 26\n",
      "The bigger numbre is: 29.0\n"
     ]
    }
   ],
   "source": [
    "while True:\n",
    "    try:\n",
    "        a = float(input(\"Enter a number: \"))\n",
    "        b = float(input(\"Enter another number: \"))\n",
    "        if a > b:\n",
    "            print(\"The bigger numbre is: \" + str(a))\n",
    "        elif a < b:\n",
    "            print(\"The bigger numbre is: \" + str(b))\n",
    "        else:\n",
    "            print(\"They are equal!\")\n",
    "        break  # Exit the loop if input is successfully converted to float\n",
    "    except ValueError:\n",
    "        print(\"Invalid input. Please enter a valid number.\")"
   ]
  },
  {
   "cell_type": "code",
   "execution_count": 97,
   "id": "abcfa330",
   "metadata": {},
   "outputs": [
    {
     "name": "stdout",
     "output_type": "stream",
     "text": [
      "Enter a mark: 69\n",
      "B Grade\n"
     ]
    }
   ],
   "source": [
    "while True:\n",
    "    try:\n",
    "        c = float(input(\"Enter a mark: \"))\n",
    "        if (c<=100) and (c>=75):\n",
    "            print(\"A Grade\")\n",
    "        elif (c<75) and (c>=50):\n",
    "            print(\"B Grade\")\n",
    "        elif (c<50) and (c>=25):\n",
    "            print(\"C Grade\")\n",
    "        elif (c<25) and (c>=0):\n",
    "            print(\"D Grade\")\n",
    "        else:\n",
    "            print(\"Invalid input. Please enter a valid mark.\")\n",
    "        break  # Exit the loop if input is successfully converted to float\n",
    "    except ValueError:\n",
    "        print(\"Invalid input. Please enter a valid mark.\")"
   ]
  },
  {
   "cell_type": "code",
   "execution_count": 100,
   "id": "3d0429c0",
   "metadata": {},
   "outputs": [
    {
     "name": "stdout",
     "output_type": "stream",
     "text": [
      "Enter a number: 29\n",
      "Your number is bigger than 10, also above 20!\n"
     ]
    }
   ],
   "source": [
    "while True:\n",
    "    try:\n",
    "        x = float(input(\"Enter a number: \"))\n",
    "        if x > 10:\n",
    "            if x > 20:\n",
    "                print(\"Your number is bigger than 10, also above 20!\")\n",
    "            else:\n",
    "                print(\"Your number is bigger than 10, but not above 20.\")\n",
    "        else:\n",
    "            print(\"Your number is less than 10.\")\n",
    "        break  # Exit the loop if input is successfully converted to float\n",
    "    except ValueError:\n",
    "        print(\"Invalid input. Please enter a valid number.\")"
   ]
  },
  {
   "cell_type": "code",
   "execution_count": 1,
   "id": "a0f24e01",
   "metadata": {},
   "outputs": [
    {
     "name": "stdout",
     "output_type": "stream",
     "text": [
      "Enter a number: 0\n",
      "The portion is: 0 and it's even\n"
     ]
    }
   ],
   "source": [
    "# single line comment\n",
    "\"\"\" Exercise\n",
    "User will enter a floating point number let's say 238.915. Your task\n",
    "is to find out the interger portion before the point (in this case 238) \n",
    "and then check if that integer portion is an even number or an odd one ? هل هذا الرقم زوجي أم فردي؟\n",
    "\n",
    "\"\"\"\n",
    "\n",
    "while True:\n",
    "    try:\n",
    "        x = float(input(\"Enter a number: \"))\n",
    "        y = round(x)\n",
    "        \n",
    "        if x>0:\n",
    "            if y>x:\n",
    "                y -=1\n",
    "        else: # if the user types a negative number\n",
    "            if y<x:\n",
    "                y +=1 # same as: y = y+1        \n",
    "        if y%2==0:\n",
    "            print(\"The portion is: \" + str(y) + \" and it's even\")\n",
    "        else:\n",
    "            print(\"The portion is: \" + str(y) + \" and it's odd.\")\n",
    "\n",
    "        break  # Exit the loop if input is successfully converted to float\n",
    "    except ValueError:\n",
    "        print(\"Invalid input. Please enter a valid number.\")"
   ]
  },
  {
   "cell_type": "markdown",
   "id": "010e5e61",
   "metadata": {},
   "source": [
    "# While & For Loops\n",
    "* While loop: it allows for dynamic control flow where the number of iterations is determined at runtime based on the condition, rather than being fixed at compile time where n represents the number of iterations and i as the index.\n",
    "* For loop: it's the same as a while loop, the difference is that a while loop runs based on a condition and once that condition is over, it breaks but for loops run based on counters/iterations.\n",
    "  - There is also else in for loops which executes only when the loop completes its full iteration.\n",
    "  - There is also nested for loops where we have a for loop inside of a for loop like the example below for sorting although there are built it functions to do so.\n",
    "###### Note 1: pass means do nothing, continue means skip whatever there is afterweards and go back to execute the code above within the loop & break means exit/get out the loop.\n",
    "###### Note 2: A list is a collection of different elements and they can be accessed so for example to access the first element we give it the index of  0 like in C++ in which the index starts from 0 as well. \n",
    "###### Note 3: A set is a collection of elements but unlike a list a set doesn't allow duplicates, has no indexing so no order and uses curly bracets \"accolades\" as opposed to square brackets for a list and no range.\n",
    "###### Note 4: A dictionary is also a collection of different elements more like a set where each element has a key and a value also note that characters are put between quotes \"\" or '' wherase number without for every data structure and no range. \n",
    "###### Note 5: append means add value to the list.\n",
    "###### Note 6: in range we can specify (start, end, step size) where the end is not included!"
   ]
  },
  {
   "cell_type": "code",
   "execution_count": 32,
   "id": "ad5f1783",
   "metadata": {},
   "outputs": [
    {
     "name": "stdout",
     "output_type": "stream",
     "text": [
      "Max iterations: 5\n",
      "1\n",
      "2\n",
      "3\n",
      "4\n",
      "done\n"
     ]
    }
   ],
   "source": [
    "while True:\n",
    "    try:\n",
    "        n = int(input(\"Max iterations: \"))\n",
    "        i = 1\n",
    "        while i<n:\n",
    "            print(i)\n",
    "            i +=1\n",
    "        print(\"done\")\n",
    "        break  # Exit the loop if input is successfully converted to float\n",
    "    except ValueError:\n",
    "        print(\"Invalid input. Please enter a valid number.\")"
   ]
  },
  {
   "cell_type": "code",
   "execution_count": 39,
   "id": "02347d0f",
   "metadata": {},
   "outputs": [
    {
     "name": "stdout",
     "output_type": "stream",
     "text": [
      "break\n",
      "done\n"
     ]
    }
   ],
   "source": [
    "i = 1\n",
    "while True:\n",
    "    if i%17 == 0:\n",
    "        print(\"break\")\n",
    "        break\n",
    "    else:\n",
    "        i +=1\n",
    "        continue\n",
    "        print(\"I'm inside the loop\")\n",
    "print(\"done\")"
   ]
  },
  {
   "cell_type": "code",
   "execution_count": 101,
   "id": "4506d004",
   "metadata": {},
   "outputs": [
    {
     "name": "stdout",
     "output_type": "stream",
     "text": [
      "1\n",
      "2\n",
      "3\n",
      "4\n",
      "5\n",
      "6\n",
      "7\n",
      "8\n",
      "9\n",
      "10\n",
      "[0, 1, 4, 9, 16, 25, 36, 49, 64, 81]\n"
     ]
    }
   ],
   "source": [
    "L =[]\n",
    "for i in range (10):\n",
    "    print(i+1)\n",
    "    L.append(i**2)\n",
    "print(L)"
   ]
  },
  {
   "cell_type": "code",
   "execution_count": 102,
   "id": "16562f67",
   "metadata": {},
   "outputs": [
    {
     "name": "stdout",
     "output_type": "stream",
     "text": [
      "1\n",
      "3\n",
      "5\n",
      "7\n",
      "9\n",
      "[0, 4, 16, 36, 64]\n"
     ]
    }
   ],
   "source": [
    "L =[]\n",
    "for i in range (0,10,2):\n",
    "    print(i+1)\n",
    "    L.append(i**2)\n",
    "print(L)"
   ]
  },
  {
   "cell_type": "code",
   "execution_count": 4,
   "id": "7c259c70",
   "metadata": {},
   "outputs": [
    {
     "name": "stdout",
     "output_type": "stream",
     "text": [
      "4.9\n",
      "cherry\n",
      "apple\n",
      "loop has completed its iteration\n"
     ]
    }
   ],
   "source": [
    "S ={\"apple\", 4.9, \"cherry\"}\n",
    "for x in S:\n",
    "    print(x)\n",
    "else:\n",
    "    print(\"loop has completed its iteration\")"
   ]
  },
  {
   "cell_type": "code",
   "execution_count": 6,
   "id": "0a3bae6f",
   "metadata": {},
   "outputs": [
    {
     "name": "stdout",
     "output_type": "stream",
     "text": [
      "4.9\n",
      "cherry\n",
      "apple\n"
     ]
    }
   ],
   "source": [
    "S ={\"apple\", 4.9, \"cherry\"}\n",
    "for x in S:\n",
    "    print(x)\n",
    "    if x==\"apple\":\n",
    "        break\n",
    "else:\n",
    "    print(\"loop has completes its iteration\")"
   ]
  },
  {
   "cell_type": "code",
   "execution_count": 112,
   "id": "593255b2",
   "metadata": {},
   "outputs": [
    {
     "name": "stdout",
     "output_type": "stream",
     "text": [
      "cherry\n",
      "apple\n",
      "loop has completes its iteration\n"
     ]
    }
   ],
   "source": [
    "S ={\"apple\", 4.9, \"cherry\"}\n",
    "for x in S:\n",
    "    print(x)\n",
    "    if x==\"apple\":\n",
    "        break\n",
    "print(\"loop has completes its iteration\")"
   ]
  },
  {
   "cell_type": "code",
   "execution_count": 116,
   "id": "a6c423a4",
   "metadata": {},
   "outputs": [
    {
     "name": "stdout",
     "output_type": "stream",
     "text": [
      "fruit apple\n",
      "game FC24\n"
     ]
    }
   ],
   "source": [
    "D ={\"fruit\":\"apple\", \"game\":\"FC24\"}\n",
    "for x in D:\n",
    "    print(x,D[x])"
   ]
  },
  {
   "cell_type": "code",
   "execution_count": 9,
   "id": "26e3fe1d",
   "metadata": {},
   "outputs": [
    {
     "name": "stdout",
     "output_type": "stream",
     "text": [
      "[-5, 1, 2, 2, 3, 4, 7, 9]\n"
     ]
    }
   ],
   "source": [
    "\"\"\" Given a list of numbers i.e. [1,2,4,-5,7,9,3,2] make another list\n",
    "that contains all the items in sorted order from min to max. i.e. your\n",
    "result will be another list like [-5,1,2,2,3,4,7,9]\n",
    "\"\"\"\n",
    "L = [1,2,4,-5,7,9,3,2]\n",
    "for j in range(len(L)):\n",
    "    m = L[j]\n",
    "    idx = j\n",
    "    c = j\n",
    "    for i in range(j,len(L)):\n",
    "        if L[i] < m:\n",
    "            m = L[i]\n",
    "            idx = c\n",
    "        c += 1\n",
    "    tmp = L[j]\n",
    "    L[j] = m\n",
    "    L[idx] = tmp\n",
    "print(L)"
   ]
  },
  {
   "cell_type": "markdown",
   "id": "cfb11042",
   "metadata": {},
   "source": [
    "# Functions\n",
    "Functions are a bunch of prepared code that is called whenever needed to do a specific task to avoid repetition as well in our program and here is the syntaxe:\n",
    "def functionname():\n",
    "print()...\n",
    "To call it just: functionname()\n",
    "\n",
    "In Python there is a symbol table that maintains info about all variables and functions.\n",
    "\n",
    "You can add doc string \"document string\" which is like a description for a function to talk about what it does especially when it's a long and complex one that is stored in a seperate file right after (): \"\"\" description \"\"\". So that next time when you type functionname? or help(functionname) you get info about it.\n",
    "- Note 1: functionname?? gets you not only doc string of a function but also the whole code implemented inside it (only for the customed ones not the built-in because most of the built-in functions were made through C programming language thanks to its high performance and speed).\n",
    "- Note 2: it's good to have that exception handling of all probabilities thinking but you can handle stuff from the user/client side not until server side for example when entering name and surname etc or i can just double check (by using both) in web and mobile apps but not here for data science purposes because there will be no user input/interaction and entered data are managed and cleaned properly.\n",
    "- Note 3: the order of arguments matters when calling a function and supplying it with data.\n",
    "- Note 4: Global variables are accessible throughout the program whearas function's local variables are not.\n",
    "\n",
    "In order to get the result from a function use: return something. And if you just type return, you'll get nothing aka none datatype as result also whatever comes after return won't be executed.\n",
    "\n",
    "It's okay to write multiple functions within the same cell.\n",
    "\n",
    "### Functions parameters\n",
    "- Functions usually receive variables as arguments and parameteres to perform the task accordingly: def functionname(param): print(param)...\n",
    "- We can also supply multiple arguments for a function: def functionname(param1, param2, etc):\n",
    "- Also you can receive a variable number of arguments for a list or a set like this: def functionname(*args) whereas for a dictionary: def functionname(**args).\n",
    "- If i initialize a function's param to a certain value that means if I call the function and pass a variable without a value it'll take that same certain value as a default one."
   ]
  },
  {
   "cell_type": "code",
   "execution_count": 14,
   "id": "006a2c7e",
   "metadata": {},
   "outputs": [],
   "source": [
    "def PrintSuccess():\n",
    "    print(\"Yay\")\n",
    "    print(\"Los geht's\")\n",
    "    print(\"GTA 6 when ?\")"
   ]
  },
  {
   "cell_type": "code",
   "execution_count": 15,
   "id": "df7043a2",
   "metadata": {},
   "outputs": [
    {
     "name": "stdout",
     "output_type": "stream",
     "text": [
      "Yay\n",
      "Los geht's\n",
      "GTA 6 when ?\n"
     ]
    }
   ],
   "source": [
    "PrintSuccess()"
   ]
  },
  {
   "cell_type": "code",
   "execution_count": 16,
   "id": "dd32a34a",
   "metadata": {},
   "outputs": [],
   "source": [
    "def PrintSuccess2():\n",
    "    \"\"\" This function is printing a message.\n",
    "    That message is Hello!\n",
    "    \"\"\"\n",
    "    print(\"Hello!\")"
   ]
  },
  {
   "cell_type": "code",
   "execution_count": 18,
   "id": "caacce67",
   "metadata": {},
   "outputs": [
    {
     "name": "stdout",
     "output_type": "stream",
     "text": [
      "Help on function PrintSuccess2 in module __main__:\n",
      "\n",
      "PrintSuccess2()\n",
      "    This function is printing a message.\n",
      "    That message is Hello!\n",
      "\n"
     ]
    }
   ],
   "source": [
    "help(PrintSuccess2)"
   ]
  },
  {
   "cell_type": "code",
   "execution_count": 19,
   "id": "637a3d09",
   "metadata": {},
   "outputs": [],
   "source": [
    "PrintSuccess2?"
   ]
  },
  {
   "cell_type": "code",
   "execution_count": 20,
   "id": "d77e961e",
   "metadata": {},
   "outputs": [],
   "source": [
    "PrintSuccess2??"
   ]
  },
  {
   "cell_type": "code",
   "execution_count": 25,
   "id": "8a34b57a",
   "metadata": {},
   "outputs": [],
   "source": [
    "sorted??"
   ]
  },
  {
   "cell_type": "code",
   "execution_count": 19,
   "id": "b899ef47",
   "metadata": {},
   "outputs": [],
   "source": [
    "def PrintSuccess3(Name):\n",
    "    if isinstance(Name, str):\n",
    "        print(Name)\n",
    "    else:\n",
    "        print(\"Your name is not a string\")\n",
    "        print(\"Here is what you have supplied: \", Name)"
   ]
  },
  {
   "cell_type": "code",
   "execution_count": 25,
   "id": "9dd63fcd",
   "metadata": {},
   "outputs": [
    {
     "name": "stdout",
     "output_type": "stream",
     "text": [
      "Kai Nadir\n"
     ]
    }
   ],
   "source": [
    "PrintSuccess3(\"Kai Nadir\")"
   ]
  },
  {
   "cell_type": "code",
   "execution_count": 26,
   "id": "c3f93d87",
   "metadata": {},
   "outputs": [
    {
     "name": "stdout",
     "output_type": "stream",
     "text": [
      "Hallo leute\n"
     ]
    }
   ],
   "source": [
    "y = \"Hallo leute\"\n",
    "PrintSuccess3(y)"
   ]
  },
  {
   "cell_type": "code",
   "execution_count": 30,
   "id": "4fd0fb35",
   "metadata": {},
   "outputs": [],
   "source": [
    "def PrintSuccess4(Name, Surname):\n",
    "    print(\"Hi\", Name, Surname)"
   ]
  },
  {
   "cell_type": "code",
   "execution_count": 31,
   "id": "0ff28851",
   "metadata": {},
   "outputs": [
    {
     "name": "stdout",
     "output_type": "stream",
     "text": [
      "Hi Kai Havertz\n"
     ]
    }
   ],
   "source": [
    "x = \"Kai\"\n",
    "y = \"Havertz\"\n",
    "PrintSuccess4(x,y)"
   ]
  },
  {
   "cell_type": "code",
   "execution_count": 35,
   "id": "65c4e5b1",
   "metadata": {},
   "outputs": [],
   "source": [
    "def add(x,y):\n",
    "    return x+y"
   ]
  },
  {
   "cell_type": "code",
   "execution_count": 36,
   "id": "f90112bd",
   "metadata": {},
   "outputs": [
    {
     "name": "stdout",
     "output_type": "stream",
     "text": [
      "8\n"
     ]
    }
   ],
   "source": [
    "print(add(5,3))"
   ]
  },
  {
   "cell_type": "code",
   "execution_count": 41,
   "id": "1ddf4a79",
   "metadata": {},
   "outputs": [],
   "source": [
    "def Sum(*args):\n",
    "    summ = 0\n",
    "    for i in range (len(args)):\n",
    "        summ+=args[i]\n",
    "    return summ"
   ]
  },
  {
   "cell_type": "code",
   "execution_count": 42,
   "id": "4f00bb0d",
   "metadata": {},
   "outputs": [
    {
     "name": "stdout",
     "output_type": "stream",
     "text": [
      "15\n"
     ]
    }
   ],
   "source": [
    "print(Sum(1,2,3,4,5))"
   ]
  },
  {
   "cell_type": "code",
   "execution_count": 53,
   "id": "39b827a4",
   "metadata": {},
   "outputs": [],
   "source": [
    "def f(**c):\n",
    "    for o in c:\n",
    "        print(o, c[o])"
   ]
  },
  {
   "cell_type": "code",
   "execution_count": 54,
   "id": "5c210125",
   "metadata": {},
   "outputs": [
    {
     "name": "stdout",
     "output_type": "stream",
     "text": [
      "A FC 24\n",
      "B COD MW3\n",
      "c TLOS\n"
     ]
    }
   ],
   "source": [
    "f(A=\"FC 24\",B=\"COD MW3\",c=\"TLOS\")"
   ]
  },
  {
   "cell_type": "code",
   "execution_count": 55,
   "id": "32a0b7c8",
   "metadata": {},
   "outputs": [],
   "source": [
    "def g(son = 0):\n",
    "    print(son)"
   ]
  },
  {
   "cell_type": "code",
   "execution_count": 56,
   "id": "fad6f372",
   "metadata": {},
   "outputs": [
    {
     "name": "stdout",
     "output_type": "stream",
     "text": [
      "5\n",
      "0\n"
     ]
    }
   ],
   "source": [
    "g(5)\n",
    "g()"
   ]
  },
  {
   "cell_type": "markdown",
   "id": "cd487258",
   "metadata": {},
   "source": [
    "In the example below: L2 and L are not different lists, L2 actually points towards L so changing a value from L2 changes automatically for L which is different than default param in a function which happens during compiletime/runtime and never changes."
   ]
  },
  {
   "cell_type": "code",
   "execution_count": 1,
   "id": "4201a80c",
   "metadata": {},
   "outputs": [
    {
     "name": "stdout",
     "output_type": "stream",
     "text": [
      "[-9, 2, 3]\n"
     ]
    }
   ],
   "source": [
    "L = [9, 2, 3]\n",
    "L2 = L\n",
    "L2[0] = -9\n",
    "print(L)"
   ]
  },
  {
   "cell_type": "code",
   "execution_count": 61,
   "id": "ee26c3a4",
   "metadata": {},
   "outputs": [],
   "source": [
    "def gg(L=[1,2]):\n",
    "    for i in L:\n",
    "       print(i)"
   ]
  },
  {
   "cell_type": "code",
   "execution_count": 63,
   "id": "606b4c2f",
   "metadata": {},
   "outputs": [
    {
     "name": "stdout",
     "output_type": "stream",
     "text": [
      "1\n",
      "2\n"
     ]
    }
   ],
   "source": [
    "L2 =[12,3,4]\n",
    "gg()"
   ]
  },
  {
   "cell_type": "code",
   "execution_count": 64,
   "id": "b4bd08c1",
   "metadata": {},
   "outputs": [
    {
     "name": "stdout",
     "output_type": "stream",
     "text": [
      "12\n",
      "3\n",
      "4\n"
     ]
    }
   ],
   "source": [
    "gg(L2)"
   ]
  },
  {
   "cell_type": "code",
   "execution_count": 65,
   "id": "9e7e358e",
   "metadata": {},
   "outputs": [
    {
     "name": "stdout",
     "output_type": "stream",
     "text": [
      "1\n",
      "2\n"
     ]
    }
   ],
   "source": [
    "gg()"
   ]
  },
  {
   "cell_type": "markdown",
   "id": "7dc6d9d0",
   "metadata": {},
   "source": [
    "### Modules (functions)\n",
    "A module is a standalone python file that contains some functions that are very often used. In order to avoid copy-pasting a function each time I need it I can just call that module to use that function as if it's within the same file. For an example of a module file there is my_universal_functions but i need to download it first and put it in a specific directory and copy its path and finally import it this way for a file: \n",
    "* import sys\n",
    "* sys.path.append(\"PathWithoutFile\")\n",
    "* import FileName as NewFileName\n",
    "  - SHIFT ENTER then:\n",
    "* NewFileName. + TAB you get every peace of info you have access to.\n",
    "\n",
    "**If I need only one function not all of them :\n",
    "* from FileName import FunctionName as NewFunctionName"
   ]
  },
  {
   "cell_type": "code",
   "execution_count": 44,
   "id": "3d49b64c",
   "metadata": {},
   "outputs": [],
   "source": [
    "import sys\n",
    "sys.path.append(\"C:/Users/Nadir/Desktop/Data Science/\")\n",
    "import my_universal_functions as myfs"
   ]
  },
  {
   "cell_type": "code",
   "execution_count": 45,
   "id": "a32ff85f",
   "metadata": {},
   "outputs": [
    {
     "name": "stdout",
     "output_type": "stream",
     "text": [
      "Python Course\n"
     ]
    }
   ],
   "source": [
    "print(myfs.myName)"
   ]
  },
  {
   "cell_type": "code",
   "execution_count": 48,
   "id": "68fb8a12",
   "metadata": {},
   "outputs": [
    {
     "data": {
      "text/plain": [
       "10"
      ]
     },
     "execution_count": 48,
     "metadata": {},
     "output_type": "execute_result"
    }
   ],
   "source": [
    "myfs.addAllNumerics(5,5)"
   ]
  },
  {
   "cell_type": "code",
   "execution_count": 49,
   "id": "02d4fb3d",
   "metadata": {},
   "outputs": [],
   "source": [
    "from my_universal_functions import addAllNumerics as aan"
   ]
  },
  {
   "cell_type": "code",
   "execution_count": 50,
   "id": "743a2802",
   "metadata": {},
   "outputs": [
    {
     "data": {
      "text/plain": [
       "16"
      ]
     },
     "execution_count": 50,
     "metadata": {},
     "output_type": "execute_result"
    }
   ],
   "source": [
    "aan(6,10)"
   ]
  },
  {
   "cell_type": "code",
   "execution_count": 9,
   "id": "2e1bc014",
   "metadata": {},
   "outputs": [],
   "source": [
    "\"\"\" Given a list of numbers i.e. [1,2,4,-5,7,9,3,2] make another list\n",
    "that contains all the items in sorted order from min to max. i.e. your\n",
    "result will be another list like [-5,1,2,2,3,4,7,9]\n",
    "\"\"\" # we'll solve the same problem using 3 functions !\n",
    "def FindMin(L,StartIdx=0):\n",
    "    m=L[StartIdx]\n",
    "    idx = StartIdx # idx for index to get a clue about which was the adress which had the minimum number\n",
    "    for i in range(StartIdx,len(L)):\n",
    "        x = L[i]\n",
    "        if x<m:\n",
    "            m = x\n",
    "            idx = i\n",
    "    return m, idx"
   ]
  },
  {
   "cell_type": "code",
   "execution_count": 10,
   "id": "5054c107",
   "metadata": {},
   "outputs": [
    {
     "name": "stdout",
     "output_type": "stream",
     "text": [
      "0 3\n"
     ]
    }
   ],
   "source": [
    "a,b = FindMin([1,2,3,0])\n",
    "print(a,b)"
   ]
  },
  {
   "cell_type": "code",
   "execution_count": 11,
   "id": "f07b7606",
   "metadata": {},
   "outputs": [],
   "source": [
    "def SwapValues(L,idx1,idx2):\n",
    "    tmp = L[idx1]\n",
    "    L[idx1] = L[idx2]\n",
    "    L[idx2] = tmp\n",
    "    return L"
   ]
  },
  {
   "cell_type": "code",
   "execution_count": 12,
   "id": "5d008e90",
   "metadata": {},
   "outputs": [
    {
     "name": "stdout",
     "output_type": "stream",
     "text": [
      "[2, 7, 6, 3]\n"
     ]
    }
   ],
   "source": [
    "L = [2,3,6,7]\n",
    "L2 = SwapValues(L,1,3)\n",
    "print(L2)"
   ]
  },
  {
   "cell_type": "code",
   "execution_count": 13,
   "id": "619e0acb",
   "metadata": {},
   "outputs": [],
   "source": [
    "def SortList(L):\n",
    "    for x in L:\n",
    "        if not(isinstance(x,(int,float))):\n",
    "            print(\"Your list contains a none numeric value\")\n",
    "            return\n",
    "    c = 0\n",
    "    for x in L:\n",
    "        m, idx = FindMin(L,c)\n",
    "        SwapValues(L,c,idx)\n",
    "        c+=1\n",
    "    return L"
   ]
  },
  {
   "cell_type": "code",
   "execution_count": 14,
   "id": "5234174e",
   "metadata": {},
   "outputs": [
    {
     "name": "stdout",
     "output_type": "stream",
     "text": [
      "[-8, 0, 2, 9]\n",
      "Your list contains a none numeric value\n",
      "None\n"
     ]
    }
   ],
   "source": [
    "L = [9,-8,0,2]\n",
    "L2 = [6, \"Kai\"]\n",
    "print(SortList(L))\n",
    "print(SortList(L2))"
   ]
  },
  {
   "cell_type": "markdown",
   "id": "f5373140",
   "metadata": {},
   "source": [
    "# Strings: \n",
    "* It's okay to use either a single quote or a double quote for strings but don't mix them together:\n",
    "  - ✓: \"Python\" 'Python'.\n",
    "   - 𐄂: \"Python' 'Python\".\n",
    "* Don't forget to convert the data type of a number to a string in order to include it inside/with a text: str() for a variable not print also when we use comma ',' to seperate multiple variables inside print spaces are made automatically but not if we use plus '+'.\n",
    "* For multiline strings we use 3 single quotes or 3 double quotes : '''comment''' or \"\"\"comment\"\"\".\n",
    "* Substring: to get of a string we can use index which starts from 0: like this print(a[number/index]) or even a slice of strings by specifying a range (not including the character of the final index): print(a[STARTindex:ENDindex]).\n",
    "  - A single string is also called a string unlike in C++ for example in which we call it a 'char' aka character.\n",
    "  - A negative index points to the last character it means that if i specify a range using negative numbers or indexes I will\n",
    "    get characters from right to left not including the first one!\n",
    "* A string is a data type that is immutable which means we can't change the values of its strings/charcters using indexes.\n",
    "* We can specify steps in range like we did in while and for loops: s [start:end:step]\n",
    "  - If I don't mention the start it'll take 0 as the default index.\n",
    "  - If I don't mention the end it'll be the final character (included) of the string size.\n",
    "  - If I don't mention the step it'll take 1 as the default step.\n",
    "* I can print something without using print() by puting the variable name only.\n",
    "* We can reverse the string by not mentioning the start nor the end and puting the step to -1: S[::-1] BTW -1 is the index of the last string.\n",
    "* To know the length of a string or a substring we can use function: len().\n",
    "* To put something between double quote within a print message add: \\ before \" or just use double quote within a single quote or vice versa.\n",
    "* we can also use \\n to go on a new line.\n",
    "  - To avoid \\n automatically going to a new line: we put r before to quotes to indicate that this is a row string not a skip string.\n",
    "* There's also \\t to make space.\n",
    "### Strings functions:\n",
    "* String functions are refered to as methods and they are typed this way: StringVariableName. FunctionName and here are some of \n",
    "  them (you chech all of them using a. + TAB):\n",
    "   - strip(): removes all spaces from the begining at the end.\n",
    "   - lower() & upper(): changes to lower or upper case accordingly.\n",
    "   - capitalize(): puts the first letter of the string in upper case.\n",
    "   - replace(\"OldString,NewString\"): replaces a string with another string.\n",
    "   - split(\"Seperator\"): returns a list of strings depending on the seperating symbol.\n",
    "   - in keyword print(\"String\" in \"string\") or print(\"String\" not in \"string\"): returns True or False to check if a string is or not part of the other the string (lower or upper case doesn't matter).\n",
    "   - There are comparisions in strings based on the alphabetical order (the earlier the smaller), case (upper is smaller) and length (the least the smallest)."
   ]
  },
  {
   "cell_type": "code",
   "execution_count": 17,
   "id": "3d4d50e3",
   "metadata": {},
   "outputs": [
    {
     "name": "stdout",
     "output_type": "stream",
     "text": [
      "Python is the best programming language for Data Science and, in this course we are going to learn Python!\n"
     ]
    }
   ],
   "source": [
    "s = \"Python is the best programming language for Data Science \"\n",
    "t= 'in this course we are going to learn Python!'\n",
    "print (s + 'and, ' + t)"
   ]
  },
  {
   "cell_type": "code",
   "execution_count": 18,
   "id": "f4479123",
   "metadata": {},
   "outputs": [
    {
     "name": "stdout",
     "output_type": "stream",
     "text": [
      "PS5 is: $499\n",
      "PS5 is: $499\n"
     ]
    }
   ],
   "source": [
    "Product = \"PS5\"\n",
    "Price = 499\n",
    "AllandAll = Product + ' is: $' + str(Price)\n",
    "print(AllandAll)\n",
    "print (Product,'is:',\"$\" + str(Price))"
   ]
  },
  {
   "cell_type": "code",
   "execution_count": 19,
   "id": "f9b4c47d",
   "metadata": {},
   "outputs": [
    {
     "name": "stdout",
     "output_type": "stream",
     "text": [
      "This is the first line of the string,\n",
      "This is the second line of the string,\n",
      "This is the final line of the string.\n"
     ]
    }
   ],
   "source": [
    "MultiLineString= \"\"\"This is the first line of the string,\n",
    "This is the second line of the string,\n",
    "This is the final line of the string.\"\"\"\n",
    "print(MultiLineString)"
   ]
  },
  {
   "cell_type": "code",
   "execution_count": 20,
   "id": "f972e6c3",
   "metadata": {},
   "outputs": [
    {
     "name": "stdout",
     "output_type": "stream",
     "text": [
      "This is the first line of the string,\n",
      "This is the second line of the string,\n",
      "This is the final line of the string.\n"
     ]
    }
   ],
   "source": [
    "MultiLineString2= '''This is the first line of the string,\n",
    "This is the second line of the string,\n",
    "This is the final line of the string.'''\n",
    "print(MultiLineString)"
   ]
  },
  {
   "cell_type": "code",
   "execution_count": 21,
   "id": "ab9df601",
   "metadata": {},
   "outputs": [
    {
     "name": "stdout",
     "output_type": "stream",
     "text": [
      "The following oprtions are available:\n",
      "    a-          Cola.\n",
      "    b-          Pepsi.\n"
     ]
    }
   ],
   "source": [
    "print(\"\"\"The following oprtions are available:\n",
    "    a-          Cola.\n",
    "    b-          Pepsi.\"\"\")"
   ]
  },
  {
   "cell_type": "code",
   "execution_count": 22,
   "id": "8d46fc13",
   "metadata": {},
   "outputs": [
    {
     "name": "stdout",
     "output_type": "stream",
     "text": [
      "G\n",
      "e of T\n"
     ]
    }
   ],
   "source": [
    "a = \"Game of Thrones\"\n",
    "print(a[0])\n",
    "print(a[3:9])"
   ]
  },
  {
   "cell_type": "code",
   "execution_count": 23,
   "id": "bd2bbf41",
   "metadata": {},
   "outputs": [
    {
     "data": {
      "text/plain": [
       "str"
      ]
     },
     "execution_count": 23,
     "metadata": {},
     "output_type": "execute_result"
    }
   ],
   "source": [
    "type(a[0])"
   ]
  },
  {
   "cell_type": "code",
   "execution_count": 24,
   "id": "485b07ec",
   "metadata": {},
   "outputs": [
    {
     "name": "stdout",
     "output_type": "stream",
     "text": [
      "s\n"
     ]
    }
   ],
   "source": [
    "print(a[-1])"
   ]
  },
  {
   "cell_type": "code",
   "execution_count": 25,
   "id": "501a628d",
   "metadata": {},
   "outputs": [
    {
     "name": "stdout",
     "output_type": "stream",
     "text": [
      "e of T\n"
     ]
    }
   ],
   "source": [
    "print(a[-12:-6])"
   ]
  },
  {
   "cell_type": "code",
   "execution_count": 26,
   "id": "1f823d33",
   "metadata": {},
   "outputs": [
    {
     "ename": "TypeError",
     "evalue": "'str' object does not support item assignment",
     "output_type": "error",
     "traceback": [
      "\u001b[1;31m---------------------------------------------------------------------------\u001b[0m",
      "\u001b[1;31mTypeError\u001b[0m                                 Traceback (most recent call last)",
      "Cell \u001b[1;32mIn[26], line 1\u001b[0m\n\u001b[1;32m----> 1\u001b[0m a[\u001b[38;5;241m0\u001b[39m] \u001b[38;5;241m=\u001b[39m \u001b[38;5;124m\"\u001b[39m\u001b[38;5;124mF\u001b[39m\u001b[38;5;124m\"\u001b[39m\n",
      "\u001b[1;31mTypeError\u001b[0m: 'str' object does not support item assignment"
     ]
    }
   ],
   "source": [
    "a[0] = \"F\""
   ]
  },
  {
   "cell_type": "code",
   "execution_count": 31,
   "id": "d0ab74eb",
   "metadata": {},
   "outputs": [
    {
     "data": {
      "text/plain": [
       "'al et c'"
      ]
     },
     "execution_count": 31,
     "metadata": {},
     "output_type": "execute_result"
    }
   ],
   "source": [
    "S = \"Hallo leute Ich hab''n geschink.\"\n",
    "S[1:15:2]"
   ]
  },
  {
   "cell_type": "code",
   "execution_count": 32,
   "id": "a8bfae1c",
   "metadata": {},
   "outputs": [
    {
     "data": {
      "text/plain": [
       "'Hlo'"
      ]
     },
     "execution_count": 32,
     "metadata": {},
     "output_type": "execute_result"
    }
   ],
   "source": [
    "S[:5:2]"
   ]
  },
  {
   "cell_type": "code",
   "execution_count": 33,
   "id": "659d170f",
   "metadata": {},
   "outputs": [
    {
     "data": {
      "text/plain": [
       "\"al et c a'ngshn.\""
      ]
     },
     "execution_count": 33,
     "metadata": {},
     "output_type": "execute_result"
    }
   ],
   "source": [
    "S[1::2]"
   ]
  },
  {
   "cell_type": "code",
   "execution_count": 34,
   "id": "1a8cc757",
   "metadata": {},
   "outputs": [
    {
     "data": {
      "text/plain": [
       "'allo leute '"
      ]
     },
     "execution_count": 34,
     "metadata": {},
     "output_type": "execute_result"
    }
   ],
   "source": [
    "S[1:12:]"
   ]
  },
  {
   "cell_type": "code",
   "execution_count": 35,
   "id": "b1f0a699",
   "metadata": {},
   "outputs": [
    {
     "data": {
      "text/plain": [
       "5"
      ]
     },
     "execution_count": 35,
     "metadata": {},
     "output_type": "execute_result"
    }
   ],
   "source": [
    "b = 5\n",
    "b"
   ]
  },
  {
   "cell_type": "code",
   "execution_count": 36,
   "id": "2834523a",
   "metadata": {},
   "outputs": [
    {
     "data": {
      "text/plain": [
       "\".knihcseg n''bah hcI etuel ollaH\""
      ]
     },
     "execution_count": 36,
     "metadata": {},
     "output_type": "execute_result"
    }
   ],
   "source": [
    "S[::-1]"
   ]
  },
  {
   "cell_type": "code",
   "execution_count": 37,
   "id": "3a540039",
   "metadata": {},
   "outputs": [
    {
     "data": {
      "text/plain": [
       "32"
      ]
     },
     "execution_count": 37,
     "metadata": {},
     "output_type": "execute_result"
    }
   ],
   "source": [
    "len(S)"
   ]
  },
  {
   "cell_type": "code",
   "execution_count": 38,
   "id": "811e7035",
   "metadata": {},
   "outputs": [
    {
     "data": {
      "text/plain": [
       "12"
      ]
     },
     "execution_count": 38,
     "metadata": {},
     "output_type": "execute_result"
    }
   ],
   "source": [
    "len(S[:12])"
   ]
  },
  {
   "cell_type": "code",
   "execution_count": 39,
   "id": "1f569803",
   "metadata": {},
   "outputs": [
    {
     "data": {
      "text/plain": [
       "'A lot of Spaces OF Spaces at the       BeGInning and end.'"
      ]
     },
     "execution_count": 39,
     "metadata": {},
     "output_type": "execute_result"
    }
   ],
   "source": [
    "a = \"          A lot of Spaces OF Spaces at the       BeGInning and end.       \"\n",
    "a.strip()"
   ]
  },
  {
   "cell_type": "code",
   "execution_count": 40,
   "id": "5626fddd",
   "metadata": {},
   "outputs": [
    {
     "data": {
      "text/plain": [
       "'a lot of spaces of spaces at the       beginning and end.'"
      ]
     },
     "execution_count": 40,
     "metadata": {},
     "output_type": "execute_result"
    }
   ],
   "source": [
    "a.strip().lower()"
   ]
  },
  {
   "cell_type": "code",
   "execution_count": 41,
   "id": "19639aa3",
   "metadata": {},
   "outputs": [
    {
     "data": {
      "text/plain": [
       "'A LOT OF SPACES OF SPACES AT THE       BEGINNING AND END.'"
      ]
     },
     "execution_count": 41,
     "metadata": {},
     "output_type": "execute_result"
    }
   ],
   "source": [
    "a.strip().upper()"
   ]
  },
  {
   "cell_type": "code",
   "execution_count": 42,
   "id": "18bbb299",
   "metadata": {},
   "outputs": [
    {
     "data": {
      "text/plain": [
       "'    A lot of Spaces OF Spaces at the BeGInning and end. '"
      ]
     },
     "execution_count": 42,
     "metadata": {},
     "output_type": "execute_result"
    }
   ],
   "source": [
    "a.replace(\"       \",\" \")"
   ]
  },
  {
   "cell_type": "code",
   "execution_count": 43,
   "id": "ed41fc4a",
   "metadata": {},
   "outputs": [
    {
     "data": {
      "text/plain": [
       "'A lot of spaces of spaces at the beginning and end.'"
      ]
     },
     "execution_count": 43,
     "metadata": {},
     "output_type": "execute_result"
    }
   ],
   "source": [
    "a.strip().lower().capitalize().replace(\"       \",\" \")"
   ]
  },
  {
   "cell_type": "code",
   "execution_count": 44,
   "id": "a4451921",
   "metadata": {},
   "outputs": [
    {
     "data": {
      "text/plain": [
       "['abcd', 'efgh', 'ijkl', 'mnop']"
      ]
     },
     "execution_count": 44,
     "metadata": {},
     "output_type": "execute_result"
    }
   ],
   "source": [
    "a = \"abcd;efgh;ijkl;mnop\"\n",
    "a.split(\";\")"
   ]
  },
  {
   "cell_type": "code",
   "execution_count": 45,
   "id": "5abc5e0f",
   "metadata": {},
   "outputs": [
    {
     "data": {
      "text/plain": [
       "True"
      ]
     },
     "execution_count": 45,
     "metadata": {},
     "output_type": "execute_result"
    }
   ],
   "source": [
    "D = \"Deutschland ist sehr schon\"\n",
    "\"ist\" in D"
   ]
  },
  {
   "cell_type": "code",
   "execution_count": 46,
   "id": "aac9a18a",
   "metadata": {},
   "outputs": [
    {
     "data": {
      "text/plain": [
       "False"
      ]
     },
     "execution_count": 46,
     "metadata": {},
     "output_type": "execute_result"
    }
   ],
   "source": [
    "\"st\" not in D"
   ]
  },
  {
   "cell_type": "code",
   "execution_count": 47,
   "id": "238ae36c",
   "metadata": {},
   "outputs": [
    {
     "data": {
      "text/plain": [
       "True"
      ]
     },
     "execution_count": 47,
     "metadata": {},
     "output_type": "execute_result"
    }
   ],
   "source": [
    "\"abc\" == \"abc\""
   ]
  },
  {
   "cell_type": "code",
   "execution_count": 48,
   "id": "2cd6ac09",
   "metadata": {},
   "outputs": [
    {
     "data": {
      "text/plain": [
       "True"
      ]
     },
     "execution_count": 48,
     "metadata": {},
     "output_type": "execute_result"
    }
   ],
   "source": [
    "\"ABC\" < \"DEF\""
   ]
  },
  {
   "cell_type": "code",
   "execution_count": 49,
   "id": "3d341a3c",
   "metadata": {},
   "outputs": [
    {
     "data": {
      "text/plain": [
       "True"
      ]
     },
     "execution_count": 49,
     "metadata": {},
     "output_type": "execute_result"
    }
   ],
   "source": [
    "\"ABC\" < \"abc\""
   ]
  },
  {
   "cell_type": "code",
   "execution_count": 50,
   "id": "79d3903c",
   "metadata": {},
   "outputs": [
    {
     "data": {
      "text/plain": [
       "True"
      ]
     },
     "execution_count": 50,
     "metadata": {},
     "output_type": "execute_result"
    }
   ],
   "source": [
    "\"abc\" < \"abcfdsfcs\""
   ]
  },
  {
   "cell_type": "code",
   "execution_count": 51,
   "id": "4361beda",
   "metadata": {},
   "outputs": [
    {
     "name": "stdout",
     "output_type": "stream",
     "text": [
      "We are learning \"String\"here\n"
     ]
    }
   ],
   "source": [
    "print(\"We are learning \\\"String\\\"here\")"
   ]
  },
  {
   "cell_type": "code",
   "execution_count": 52,
   "id": "c183dbe7",
   "metadata": {},
   "outputs": [
    {
     "name": "stdout",
     "output_type": "stream",
     "text": [
      "We are learning \"String\" here\n"
     ]
    }
   ],
   "source": [
    "print('We are learning \"String\" here')"
   ]
  },
  {
   "cell_type": "code",
   "execution_count": 53,
   "id": "18e5746b",
   "metadata": {},
   "outputs": [
    {
     "name": "stdout",
     "output_type": "stream",
     "text": [
      "Bla bla bla \n",
      " we're on a new line\n"
     ]
    }
   ],
   "source": [
    "print(\"Bla bla bla \\n we're on a new line\")"
   ]
  },
  {
   "cell_type": "code",
   "execution_count": 54,
   "id": "58d2bb2a",
   "metadata": {},
   "outputs": [
    {
     "name": "stdout",
     "output_type": "stream",
     "text": [
      "Bla bla bla \t a space is inserted!\n"
     ]
    }
   ],
   "source": [
    "print(\"Bla bla bla \\t a space is inserted!\")"
   ]
  },
  {
   "cell_type": "code",
   "execution_count": 55,
   "id": "000c9d4c",
   "metadata": {},
   "outputs": [
    {
     "name": "stdout",
     "output_type": "stream",
     "text": [
      "C:\n",
      "ame\\drive\n"
     ]
    }
   ],
   "source": [
    "print(\"C:\\name\\drive\")"
   ]
  },
  {
   "cell_type": "code",
   "execution_count": 56,
   "id": "f89d9cea",
   "metadata": {},
   "outputs": [
    {
     "name": "stdout",
     "output_type": "stream",
     "text": [
      "C:\\name\\drive\n"
     ]
    }
   ],
   "source": [
    "print(r\"C:\\name\\drive\")"
   ]
  }
 ],
 "metadata": {
  "kernelspec": {
   "display_name": "Python 3 (ipykernel)",
   "language": "python",
   "name": "python3"
  },
  "language_info": {
   "codemirror_mode": {
    "name": "ipython",
    "version": 3
   },
   "file_extension": ".py",
   "mimetype": "text/x-python",
   "name": "python",
   "nbconvert_exporter": "python",
   "pygments_lexer": "ipython3",
   "version": "3.11.5"
  }
 },
 "nbformat": 4,
 "nbformat_minor": 5
}
