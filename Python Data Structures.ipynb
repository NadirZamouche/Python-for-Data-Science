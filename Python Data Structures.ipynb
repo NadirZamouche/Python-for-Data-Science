{
 "cells": [
  {
   "cell_type": "markdown",
   "id": "92a920aa",
   "metadata": {},
   "source": [
    "# Data Structures\n",
    "   A data structure is basically a collection of multiple data types. There are multiple data structures in Python and here are the most commonly used ones: Lists, Tuples, Sets & Dictionaries. Now here are the  characteristics of each one of them:\n",
    "* List = [e1,e2,e3,etc]: ordered (indexed), changeable (mutable), duplicates.\n",
    "* Tuple = (e1,e2,e3,etc): ordered (indexed), unchangeable (immutable), duplicates.\n",
    "* Set = {e1,e2,e3,etc}: unordered (unindexed), addable/removeable, no duplicates.\n",
    "* Dictionary = {key1:value1,k:v,etc}: unordered (unindexed), changeable (mutable), no duplicates.\n",
    "#### Note: when I copy or slice a list, a set or a dictionary and change a particular value, the value of the original list, set or dictionary  will change as well as we have already seen before with lists because they refer to the same memory \"pointers!\"."
   ]
  },
  {
   "cell_type": "code",
   "execution_count": 2,
   "id": "a38cad50",
   "metadata": {},
   "outputs": [],
   "source": [
    "# Syntaxe\n",
    "L = [1,3,4.9, \"name\", 3]\n",
    "T = (1,3,4.9, \"name\", 3)\n",
    "S = {1,3,4.9, \"name\", 3}\n",
    "D = {23:\"twothree\", \"B\":43,\"C\":\"CCD\"}"
   ]
  },
  {
   "cell_type": "code",
   "execution_count": 3,
   "id": "86ee73ab",
   "metadata": {},
   "outputs": [
    {
     "name": "stdout",
     "output_type": "stream",
     "text": [
      "The type of L is  <class 'list'>\n",
      "The type of T is  <class 'tuple'>\n",
      "The type of S is  <class 'set'>\n",
      "The type of D is  <class 'dict'>\n"
     ]
    }
   ],
   "source": [
    "print(\"The type of L is \", type(L))\n",
    "print(\"The type of T is \", type(T))\n",
    "print(\"The type of S is \", type(S))\n",
    "print(\"The type of D is \", type(D))"
   ]
  },
  {
   "cell_type": "code",
   "execution_count": 4,
   "id": "c221a70e",
   "metadata": {},
   "outputs": [
    {
     "name": "stdout",
     "output_type": "stream",
     "text": [
      "3\n",
      "3\n",
      "True\n",
      "twothree\n"
     ]
    }
   ],
   "source": [
    "# Access value\n",
    "print(L[1])\n",
    "print(T[1])\n",
    "print(3 in S)\n",
    "print(D[23])"
   ]
  },
  {
   "cell_type": "code",
   "execution_count": 5,
   "id": "4d682b60",
   "metadata": {},
   "outputs": [
    {
     "data": {
      "text/plain": [
       "{1, 3, 4.9, 'name'}"
      ]
     },
     "execution_count": 5,
     "metadata": {},
     "output_type": "execute_result"
    }
   ],
   "source": [
    "# No duplicates in sets\n",
    "S"
   ]
  },
  {
   "cell_type": "code",
   "execution_count": 6,
   "id": "790a8c2b",
   "metadata": {},
   "outputs": [
    {
     "data": {
      "text/plain": [
       "[1, 3, 4.9, 'name', 3]"
      ]
     },
     "execution_count": 6,
     "metadata": {},
     "output_type": "execute_result"
    }
   ],
   "source": [
    "# Indexing in List and Tuple is exactly the same as we did in String\n",
    "L"
   ]
  },
  {
   "cell_type": "code",
   "execution_count": 7,
   "id": "ed2590d3",
   "metadata": {},
   "outputs": [
    {
     "data": {
      "text/plain": [
       "[3, 4.9]"
      ]
     },
     "execution_count": 7,
     "metadata": {},
     "output_type": "execute_result"
    }
   ],
   "source": [
    "L[1:3]"
   ]
  },
  {
   "cell_type": "code",
   "execution_count": 8,
   "id": "c4add203",
   "metadata": {},
   "outputs": [
    {
     "data": {
      "text/plain": [
       "[3]"
      ]
     },
     "execution_count": 8,
     "metadata": {},
     "output_type": "execute_result"
    }
   ],
   "source": [
    "L[1:3:2]"
   ]
  },
  {
   "cell_type": "code",
   "execution_count": 9,
   "id": "3acb8ddd",
   "metadata": {},
   "outputs": [
    {
     "data": {
      "text/plain": [
       "[3, 'name', 4.9, 3, 1]"
      ]
     },
     "execution_count": 9,
     "metadata": {},
     "output_type": "execute_result"
    }
   ],
   "source": [
    "L[::-1]"
   ]
  },
  {
   "cell_type": "code",
   "execution_count": 10,
   "id": "775992b6",
   "metadata": {},
   "outputs": [
    {
     "data": {
      "text/plain": [
       "(1, 3, 4.9)"
      ]
     },
     "execution_count": 10,
     "metadata": {},
     "output_type": "execute_result"
    }
   ],
   "source": [
    "T[:3]"
   ]
  },
  {
   "cell_type": "code",
   "execution_count": 11,
   "id": "25f8d2b4",
   "metadata": {},
   "outputs": [
    {
     "data": {
      "text/plain": [
       "(1, 4.9)"
      ]
     },
     "execution_count": 11,
     "metadata": {},
     "output_type": "execute_result"
    }
   ],
   "source": [
    "T[:3:2]"
   ]
  },
  {
   "cell_type": "code",
   "execution_count": 12,
   "id": "d4d0361d",
   "metadata": {},
   "outputs": [
    {
     "data": {
      "text/plain": [
       "(3, 'name', 4.9, 3, 1)"
      ]
     },
     "execution_count": 12,
     "metadata": {},
     "output_type": "execute_result"
    }
   ],
   "source": [
    "T[::-1]"
   ]
  },
  {
   "cell_type": "code",
   "execution_count": 13,
   "id": "d803c1a9",
   "metadata": {},
   "outputs": [
    {
     "data": {
      "text/plain": [
       "[1, 3, 4.9, 'name', 3, 'how', 'are', 6, 'you']"
      ]
     },
     "execution_count": 13,
     "metadata": {},
     "output_type": "execute_result"
    }
   ],
   "source": [
    "# Changing a list (add, update & remove an element)\n",
    "L = L + [\"how\",\"are\",6,\"you\"]\n",
    "L"
   ]
  },
  {
   "cell_type": "code",
   "execution_count": 14,
   "id": "65913e66",
   "metadata": {},
   "outputs": [
    {
     "data": {
      "text/plain": [
       "[1, 3, 4.9, 'name', 3, 'how', 'are', 6, 'you', 6.8]"
      ]
     },
     "execution_count": 14,
     "metadata": {},
     "output_type": "execute_result"
    }
   ],
   "source": [
    "L.append(6.8) # or by using append() function\n",
    "L"
   ]
  },
  {
   "cell_type": "code",
   "execution_count": 15,
   "id": "155651ff",
   "metadata": {},
   "outputs": [
    {
     "data": {
      "text/plain": [
       "[1, 3, 4.9, 'name', 3, 'how', 'are', 6, 'you', '?']"
      ]
     },
     "execution_count": 15,
     "metadata": {},
     "output_type": "execute_result"
    }
   ],
   "source": [
    "L[-1]=\"?\"\n",
    "L"
   ]
  },
  {
   "cell_type": "code",
   "execution_count": 16,
   "id": "4a4ecce7",
   "metadata": {},
   "outputs": [
    {
     "data": {
      "text/plain": [
       "[1, 3, 4.9, 'name', 3, 'how', 'are', 'you', '?']"
      ]
     },
     "execution_count": 16,
     "metadata": {},
     "output_type": "execute_result"
    }
   ],
   "source": [
    "del L[7] # or L.remove(6.8)\n",
    "L"
   ]
  },
  {
   "cell_type": "code",
   "execution_count": 17,
   "id": "5ac23d83",
   "metadata": {},
   "outputs": [
    {
     "data": {
      "text/plain": [
       "(1, 3, 4.9, 'name', 3, 'a', 'b', 45)"
      ]
     },
     "execution_count": 17,
     "metadata": {},
     "output_type": "execute_result"
    }
   ],
   "source": [
    "# We can't change a tuple however we can create 2 tuples and add them together\n",
    "T2 = ('a','b',45)\n",
    "T3 = T+T2\n",
    "T3"
   ]
  },
  {
   "cell_type": "code",
   "execution_count": 18,
   "id": "d2043a58",
   "metadata": {},
   "outputs": [
    {
     "data": {
      "text/plain": [
       "{1, 3, 4.9, 56, 'name'}"
      ]
     },
     "execution_count": 18,
     "metadata": {},
     "output_type": "execute_result"
    }
   ],
   "source": [
    "# Changing a set we can add & remove not change:\n",
    "S.add(56) # add for one element\n",
    "S"
   ]
  },
  {
   "cell_type": "code",
   "execution_count": 19,
   "id": "8f74e40a",
   "metadata": {},
   "outputs": [
    {
     "data": {
      "text/plain": [
       "{1, 23, 3, 4.9, 56, 'game', 'name'}"
      ]
     },
     "execution_count": 19,
     "metadata": {},
     "output_type": "execute_result"
    }
   ],
   "source": [
    "S.update({23,\"game\",1}) # update to add/insert multiple elements\n",
    "S"
   ]
  },
  {
   "cell_type": "code",
   "execution_count": 20,
   "id": "49fffd18",
   "metadata": {},
   "outputs": [
    {
     "data": {
      "text/plain": [
       "{1, 23, 3, 4.9, 56, 'name'}"
      ]
     },
     "execution_count": 20,
     "metadata": {},
     "output_type": "execute_result"
    }
   ],
   "source": [
    "S.remove(\"game\")\n",
    "S"
   ]
  },
  {
   "cell_type": "code",
   "execution_count": 21,
   "id": "b2ec3857",
   "metadata": {},
   "outputs": [
    {
     "data": {
      "text/plain": [
       "{23: 'twothree', 'B': 43, 'C': 'CCD', 'newKey': 'newValue'}"
      ]
     },
     "execution_count": 21,
     "metadata": {},
     "output_type": "execute_result"
    }
   ],
   "source": [
    "# Changing a dictionary:\n",
    "D[\"newKey\"] =\"newValue\"\n",
    "D"
   ]
  },
  {
   "cell_type": "code",
   "execution_count": 22,
   "id": "5cdf6076",
   "metadata": {},
   "outputs": [
    {
     "data": {
      "text/plain": [
       "{23: 'twothree', 'B': 29, 'C': 'CCD', 'newKey': 'newValue'}"
      ]
     },
     "execution_count": 22,
     "metadata": {},
     "output_type": "execute_result"
    }
   ],
   "source": [
    "D['B']=29\n",
    "D"
   ]
  },
  {
   "cell_type": "code",
   "execution_count": 23,
   "id": "227dfb72",
   "metadata": {},
   "outputs": [
    {
     "data": {
      "text/plain": [
       "{23: 'twothree', 'B': 29, 'newKey': 'newValue'}"
      ]
     },
     "execution_count": 23,
     "metadata": {},
     "output_type": "execute_result"
    }
   ],
   "source": [
    "del D['C']\n",
    "D"
   ]
  },
  {
   "cell_type": "code",
   "execution_count": 24,
   "id": "967384d6",
   "metadata": {},
   "outputs": [],
   "source": [
    "D2 = {\"x\":2,'z':9}"
   ]
  },
  {
   "cell_type": "code",
   "execution_count": 25,
   "id": "0d8589b5",
   "metadata": {},
   "outputs": [
    {
     "ename": "TypeError",
     "evalue": "unsupported operand type(s) for +: 'dict' and 'dict'",
     "output_type": "error",
     "traceback": [
      "\u001b[1;31m---------------------------------------------------------------------------\u001b[0m",
      "\u001b[1;31mTypeError\u001b[0m                                 Traceback (most recent call last)",
      "Cell \u001b[1;32mIn[25], line 2\u001b[0m\n\u001b[0;32m      1\u001b[0m \u001b[38;5;66;03m# We can't add 2 dictionaries using + operator\u001b[39;00m\n\u001b[1;32m----> 2\u001b[0m D3 \u001b[38;5;241m=\u001b[39m D\u001b[38;5;241m+\u001b[39mD2\n",
      "\u001b[1;31mTypeError\u001b[0m: unsupported operand type(s) for +: 'dict' and 'dict'"
     ]
    }
   ],
   "source": [
    "# We can't add 2 dictionaries using + operator\n",
    "D3 = D+D2"
   ]
  },
  {
   "cell_type": "code",
   "execution_count": 26,
   "id": "ad3d95d4",
   "metadata": {},
   "outputs": [
    {
     "data": {
      "text/plain": [
       "{23: 'twothree', 'B': 29, 'newKey': 'newValue', 'x': 2, 'z': 9}"
      ]
     },
     "execution_count": 26,
     "metadata": {},
     "output_type": "execute_result"
    }
   ],
   "source": [
    "# However we can using update method:\n",
    "D.update(D2)\n",
    "D"
   ]
  },
  {
   "cell_type": "code",
   "execution_count": 27,
   "id": "0155bc77",
   "metadata": {
    "scrolled": true
   },
   "outputs": [
    {
     "data": {
      "text/plain": [
       "[1, 3, 4.9, 'name', 3, 'how', 'are', 'you', '?']"
      ]
     },
     "execution_count": 27,
     "metadata": {},
     "output_type": "execute_result"
    }
   ],
   "source": [
    "# Copying data structures\n",
    "L"
   ]
  },
  {
   "cell_type": "code",
   "execution_count": 28,
   "id": "c1bd1bf2",
   "metadata": {},
   "outputs": [],
   "source": [
    "L2 = L"
   ]
  },
  {
   "cell_type": "code",
   "execution_count": 29,
   "id": "f3abf4e5",
   "metadata": {},
   "outputs": [
    {
     "data": {
      "text/plain": [
       "[1, 3, 4.9, 'name', 3, 'how', 'are', 'you', '?']"
      ]
     },
     "execution_count": 29,
     "metadata": {},
     "output_type": "execute_result"
    }
   ],
   "source": [
    "L2"
   ]
  },
  {
   "cell_type": "code",
   "execution_count": 30,
   "id": "6227425a",
   "metadata": {},
   "outputs": [
    {
     "data": {
      "text/plain": [
       "[1, 3, 'four point nine', 'name', 3, 'how', 'are', 'you', '?']"
      ]
     },
     "execution_count": 30,
     "metadata": {},
     "output_type": "execute_result"
    }
   ],
   "source": [
    "L2[2]= \"four point nine\"\n",
    "L2"
   ]
  },
  {
   "cell_type": "code",
   "execution_count": 31,
   "id": "7d6d982d",
   "metadata": {},
   "outputs": [
    {
     "data": {
      "text/plain": [
       "[1, 3, 'four point nine', 'name', 3, 'how', 'are', 'you', '?']"
      ]
     },
     "execution_count": 31,
     "metadata": {},
     "output_type": "execute_result"
    }
   ],
   "source": [
    "L # L and L2 are pointing to the same structure in the memory!"
   ]
  },
  {
   "cell_type": "code",
   "execution_count": 32,
   "id": "9b44ef4e",
   "metadata": {},
   "outputs": [
    {
     "data": {
      "text/plain": [
       "[1, 3, 'four point nine', 'name', 3, 'how', 'are', 'you', '?']"
      ]
     },
     "execution_count": 32,
     "metadata": {},
     "output_type": "execute_result"
    }
   ],
   "source": [
    "# to avoid this we use copy function\n",
    "L2 = L.copy()\n",
    "L2"
   ]
  },
  {
   "cell_type": "code",
   "execution_count": 33,
   "id": "d9471a49",
   "metadata": {},
   "outputs": [
    {
     "data": {
      "text/plain": [
       "[1, 3, 4.9, 'name', 3, 'how', 'are', 'you', '?']"
      ]
     },
     "execution_count": 33,
     "metadata": {},
     "output_type": "execute_result"
    }
   ],
   "source": [
    "L2[2] = 4.9\n",
    "L2"
   ]
  },
  {
   "cell_type": "code",
   "execution_count": 39,
   "id": "8110ce81",
   "metadata": {},
   "outputs": [
    {
     "data": {
      "text/plain": [
       "[1, 3, 'four point nine', 'name', 3, 'how', 'are', 'you', '?']"
      ]
     },
     "execution_count": 39,
     "metadata": {},
     "output_type": "execute_result"
    }
   ],
   "source": [
    "\"\"\"The problem is solved! the same thing goes for a Set and a Dictionary.\n",
    "    However there is no copy function for a Tuple since its values are not\n",
    "    changeable anyways\n",
    "\"\"\"\n",
    "L"
   ]
  },
  {
   "cell_type": "markdown",
   "id": "3afd57f8",
   "metadata": {},
   "source": [
    "### Functions and methods for 'List' data structure:\n",
    "* ListName. + TAB show the different applicable functions on the list:\n",
    "  - L.append(): adds elements to the end of the list.\n",
    "  - L.clear(): removes all items from list.\n",
    "  - L.pop(): removes the last item from the list and returns it.\n",
    " #### Note: A data structure can contain anything like any data type and structure: a list, a tuple, a set or  even a dectionary and vise versa and so on ..."
   ]
  },
  {
   "cell_type": "code",
   "execution_count": 42,
   "id": "9758caa1",
   "metadata": {},
   "outputs": [
    {
     "data": {
      "text/plain": [
       "[1, 3, 'four point nine', 'name', 3, 'how', 'are', 'you', '?']"
      ]
     },
     "execution_count": 42,
     "metadata": {},
     "output_type": "execute_result"
    }
   ],
   "source": [
    "L"
   ]
  },
  {
   "cell_type": "code",
   "execution_count": 43,
   "id": "76f6baf0",
   "metadata": {},
   "outputs": [
    {
     "data": {
      "text/plain": [
       "(1, 3, 4.9, 'name', 3)"
      ]
     },
     "execution_count": 43,
     "metadata": {},
     "output_type": "execute_result"
    }
   ],
   "source": [
    "T"
   ]
  },
  {
   "cell_type": "code",
   "execution_count": 44,
   "id": "74c1494d",
   "metadata": {},
   "outputs": [
    {
     "data": {
      "text/plain": [
       "{1, 23, 3, 4.9, 56, 'name'}"
      ]
     },
     "execution_count": 44,
     "metadata": {},
     "output_type": "execute_result"
    }
   ],
   "source": [
    "S"
   ]
  },
  {
   "cell_type": "code",
   "execution_count": 45,
   "id": "7e688fab",
   "metadata": {},
   "outputs": [
    {
     "data": {
      "text/plain": [
       "{23: 'twothree', 'B': 29, 'newKey': 'newValue', 'x': 2, 'z': 9}"
      ]
     },
     "execution_count": 45,
     "metadata": {},
     "output_type": "execute_result"
    }
   ],
   "source": [
    "D"
   ]
  },
  {
   "cell_type": "code",
   "execution_count": 46,
   "id": "fd71a265",
   "metadata": {},
   "outputs": [
    {
     "data": {
      "text/plain": [
       "{'A': [1, 3, 'four point nine', 'name', 3, 'how', 'are', 'you', '?'],\n",
       " 'B': (1, 3, 4.9, 'name', 3),\n",
       " 'C': {1, 23, 3, 4.9, 56, 'name'},\n",
       " 'D': {23: 'twothree', 'B': 29, 'newKey': 'newValue', 'x': 2, 'z': 9}}"
      ]
     },
     "execution_count": 46,
     "metadata": {},
     "output_type": "execute_result"
    }
   ],
   "source": [
    "D3 = {'A':L,'B':T,'C':S,'D':D}\n",
    "D3"
   ]
  },
  {
   "cell_type": "code",
   "execution_count": 48,
   "id": "2a903257",
   "metadata": {},
   "outputs": [
    {
     "data": {
      "text/plain": [
       "'name'"
      ]
     },
     "execution_count": 48,
     "metadata": {},
     "output_type": "execute_result"
    }
   ],
   "source": [
    "D3['A'][3]"
   ]
  },
  {
   "cell_type": "code",
   "execution_count": 49,
   "id": "4ba2e16d",
   "metadata": {},
   "outputs": [
    {
     "data": {
      "text/plain": [
       "{23: 'twothree', 'B': 29, 'newKey': 'newValue', 'x': 2, 'z': 9}"
      ]
     },
     "execution_count": 49,
     "metadata": {},
     "output_type": "execute_result"
    }
   ],
   "source": [
    "K = D3['D']\n",
    "K"
   ]
  },
  {
   "cell_type": "code",
   "execution_count": 50,
   "id": "df449cd5",
   "metadata": {},
   "outputs": [
    {
     "name": "stdout",
     "output_type": "stream",
     "text": [
      "23 twothree\n",
      "B 29\n",
      "newKey newValue\n",
      "x 2\n",
      "z 9\n"
     ]
    }
   ],
   "source": [
    "for x in K:\n",
    "    print(x, K[x])"
   ]
  },
  {
   "cell_type": "code",
   "execution_count": 51,
   "id": "e5ec328e",
   "metadata": {},
   "outputs": [
    {
     "data": {
      "text/plain": [
       "[[1, 3, 'four point nine', 'name', 3, 'how', 'are', 'you', '?'],\n",
       " (1, 3, 4.9, 'name', 3),\n",
       " {23: 'twothree', 'B': 29, 'newKey': 'newValue', 'x': 2, 'z': 9},\n",
       " 23,\n",
       " 'game']"
      ]
     },
     "execution_count": 51,
     "metadata": {},
     "output_type": "execute_result"
    }
   ],
   "source": [
    "L4 = [L,T,D,23,\"game\"]\n",
    "L4"
   ]
  },
  {
   "cell_type": "code",
   "execution_count": 52,
   "id": "9f646af7",
   "metadata": {},
   "outputs": [
    {
     "data": {
      "text/plain": [
       "dict"
      ]
     },
     "execution_count": 52,
     "metadata": {},
     "output_type": "execute_result"
    }
   ],
   "source": [
    "type(L4[2])"
   ]
  },
  {
   "cell_type": "code",
   "execution_count": 53,
   "id": "3a7f1f8a",
   "metadata": {},
   "outputs": [
    {
     "data": {
      "text/plain": [
       "[0, 1, 4, 9, 16, 25, 36, 49, 64, 81]"
      ]
     },
     "execution_count": 53,
     "metadata": {},
     "output_type": "execute_result"
    }
   ],
   "source": [
    "# Making a list of squares for numbers from 0 to 9\n",
    "L5 = [x**2 for x in range(10)]\n",
    "L5"
   ]
  },
  {
   "cell_type": "code",
   "execution_count": 56,
   "id": "eee4158f",
   "metadata": {},
   "outputs": [
    {
     "data": {
      "text/plain": [
       "{4, 25, 64, 121, 196, 289}"
      ]
     },
     "execution_count": 56,
     "metadata": {},
     "output_type": "execute_result"
    }
   ],
   "source": [
    "# Making a set of squares for numbers from 2 to 20 with a step of 3\n",
    "S2 = {x**2 for x in range(2,20,3)}\n",
    "S2"
   ]
  },
  {
   "cell_type": "code",
   "execution_count": 3,
   "id": "c2adf160",
   "metadata": {},
   "outputs": [],
   "source": [
    "\"\"\"Let's say you're a teacher and you have different student\n",
    "records containing id of a student and the marks list in each subject\n",
    "where different students have taken different number of subjects. All\n",
    "these records are in hard copy. You want to enter all the data in computer\n",
    "and then compute the average marks of each student and display them.\n",
    "\"\"\"\n",
    "\n",
    "def getDataFromTeacher():\n",
    "    D = {}\n",
    "    while True:\n",
    "        studentId = input(\"Enter student ID: \")\n",
    "        if studentId in D:\n",
    "            print(studentId, \"is already inserted\")\n",
    "            continue\n",
    "        marksList = input(\"Enter the marks separated by comma values: \")\n",
    "        D[studentId] = marksList.split(\",\")\n",
    "        moreStudents = input(\"Do you want to add more students? (yes/no): \")\n",
    "        if moreStudents.lower() == \"no\":\n",
    "            return D"
   ]
  },
  {
   "cell_type": "code",
   "execution_count": 4,
   "id": "6409b1af",
   "metadata": {},
   "outputs": [
    {
     "name": "stdout",
     "output_type": "stream",
     "text": [
      "Enter student ID: 10\n",
      "Enter the marks separated by comma values: 56,45,13\n",
      "Do you want to add more students? (yes/no): yes\n",
      "Enter student ID: 10\n",
      "10 is already inserted\n",
      "Enter student ID: 29\n",
      "Enter the marks separated by comma values: 77,83,55,67\n",
      "Do you want to add more students? (yes/no): no\n"
     ]
    }
   ],
   "source": [
    "studentData = getDataFromTeacher()"
   ]
  },
  {
   "cell_type": "code",
   "execution_count": 5,
   "id": "49670bc3",
   "metadata": {},
   "outputs": [
    {
     "data": {
      "text/plain": [
       "{'10': ['56', '45', '13'], '29': ['77', '83', '55', '67']}"
      ]
     },
     "execution_count": 5,
     "metadata": {},
     "output_type": "execute_result"
    }
   ],
   "source": [
    "studentData"
   ]
  },
  {
   "cell_type": "code",
   "execution_count": 6,
   "id": "8edfdc3c",
   "metadata": {},
   "outputs": [],
   "source": [
    "def getAvgMarks(D):\n",
    "    AvgMarksD = {}\n",
    "    for x in D:\n",
    "        L = D[x]\n",
    "        s = 0\n",
    "        for marks in L:\n",
    "            s += int(marks)\n",
    "        AvgMarksD[x]=s/len(L)\n",
    "    return AvgMarksD"
   ]
  },
  {
   "cell_type": "code",
   "execution_count": 8,
   "id": "22ff6b67",
   "metadata": {},
   "outputs": [
    {
     "data": {
      "text/plain": [
       "{'10': 38.0, '29': 70.5}"
      ]
     },
     "execution_count": 8,
     "metadata": {},
     "output_type": "execute_result"
    }
   ],
   "source": [
    "AvgM = getAvgMarks(studentData)\n",
    "AvgM"
   ]
  },
  {
   "cell_type": "code",
   "execution_count": 11,
   "id": "053376d3",
   "metadata": {},
   "outputs": [
    {
     "name": "stdout",
     "output_type": "stream",
     "text": [
      "Student: 10 , got an average mark of: 38.0\n",
      "Student: 29 , got an average mark of: 70.5\n"
     ]
    }
   ],
   "source": [
    " for x in AvgM:\n",
    "        print(\"Student:\",x,\", got an average mark of:\",AvgM[x])"
   ]
  },
  {
   "cell_type": "markdown",
   "id": "df4b399d",
   "metadata": {},
   "source": [
    "I got a really great exercise above however I have to keep in mind that all probabilities thinking exceptions handling in case he enters a string! however he made the best choice"
   ]
  }
 ],
 "metadata": {
  "kernelspec": {
   "display_name": "Python 3 (ipykernel)",
   "language": "python",
   "name": "python3"
  },
  "language_info": {
   "codemirror_mode": {
    "name": "ipython",
    "version": 3
   },
   "file_extension": ".py",
   "mimetype": "text/x-python",
   "name": "python",
   "nbconvert_exporter": "python",
   "pygments_lexer": "ipython3",
   "version": "3.11.5"
  }
 },
 "nbformat": 4,
 "nbformat_minor": 5
}
